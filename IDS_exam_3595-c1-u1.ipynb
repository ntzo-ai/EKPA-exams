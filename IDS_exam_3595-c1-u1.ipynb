{
  "nbformat": 4,
  "nbformat_minor": 0,
  "metadata": {
    "colab": {
      "provenance": [],
      "include_colab_link": true
    },
    "kernelspec": {
      "name": "python3",
      "display_name": "Python 3"
    },
    "language_info": {
      "name": "python"
    }
  },
  "cells": [
    {
      "cell_type": "markdown",
      "metadata": {
        "id": "view-in-github",
        "colab_type": "text"
      },
      "source": [
        "<a href=\"https://colab.research.google.com/github/ntzo-ai/EKPA-exams/blob/main/IDS_exam_3595-c1-u1.ipynb\" target=\"_parent\"><img src=\"https://colab.research.google.com/assets/colab-badge.svg\" alt=\"Open In Colab\"/></a>"
      ]
    },
    {
      "cell_type": "code",
      "execution_count": 69,
      "metadata": {
        "colab": {
          "base_uri": "https://localhost:8080/"
        },
        "id": "FMYBJpBujxX1",
        "outputId": "c6b9dec3-225a-4076-c308-6366e96ecf19",
        "collapsed": true
      },
      "outputs": [
        {
          "output_type": "stream",
          "name": "stdout",
          "text": [
            "Requirement already satisfied: tensorflow in /usr/local/lib/python3.10/dist-packages (2.17.0)\n",
            "Requirement already satisfied: absl-py>=1.0.0 in /usr/local/lib/python3.10/dist-packages (from tensorflow) (1.4.0)\n",
            "Requirement already satisfied: astunparse>=1.6.0 in /usr/local/lib/python3.10/dist-packages (from tensorflow) (1.6.3)\n",
            "Requirement already satisfied: flatbuffers>=24.3.25 in /usr/local/lib/python3.10/dist-packages (from tensorflow) (24.3.25)\n",
            "Requirement already satisfied: gast!=0.5.0,!=0.5.1,!=0.5.2,>=0.2.1 in /usr/local/lib/python3.10/dist-packages (from tensorflow) (0.6.0)\n",
            "Requirement already satisfied: google-pasta>=0.1.1 in /usr/local/lib/python3.10/dist-packages (from tensorflow) (0.2.0)\n",
            "Requirement already satisfied: h5py>=3.10.0 in /usr/local/lib/python3.10/dist-packages (from tensorflow) (3.11.0)\n",
            "Requirement already satisfied: libclang>=13.0.0 in /usr/local/lib/python3.10/dist-packages (from tensorflow) (18.1.1)\n",
            "Requirement already satisfied: ml-dtypes<0.5.0,>=0.3.1 in /usr/local/lib/python3.10/dist-packages (from tensorflow) (0.4.0)\n",
            "Requirement already satisfied: opt-einsum>=2.3.2 in /usr/local/lib/python3.10/dist-packages (from tensorflow) (3.3.0)\n",
            "Requirement already satisfied: packaging in /usr/local/lib/python3.10/dist-packages (from tensorflow) (24.1)\n",
            "Requirement already satisfied: protobuf!=4.21.0,!=4.21.1,!=4.21.2,!=4.21.3,!=4.21.4,!=4.21.5,<5.0.0dev,>=3.20.3 in /usr/local/lib/python3.10/dist-packages (from tensorflow) (3.20.3)\n",
            "Requirement already satisfied: requests<3,>=2.21.0 in /usr/local/lib/python3.10/dist-packages (from tensorflow) (2.31.0)\n",
            "Requirement already satisfied: setuptools in /usr/local/lib/python3.10/dist-packages (from tensorflow) (71.0.4)\n",
            "Requirement already satisfied: six>=1.12.0 in /usr/local/lib/python3.10/dist-packages (from tensorflow) (1.16.0)\n",
            "Requirement already satisfied: termcolor>=1.1.0 in /usr/local/lib/python3.10/dist-packages (from tensorflow) (2.4.0)\n",
            "Requirement already satisfied: typing-extensions>=3.6.6 in /usr/local/lib/python3.10/dist-packages (from tensorflow) (4.12.2)\n",
            "Requirement already satisfied: wrapt>=1.11.0 in /usr/local/lib/python3.10/dist-packages (from tensorflow) (1.16.0)\n",
            "Requirement already satisfied: grpcio<2.0,>=1.24.3 in /usr/local/lib/python3.10/dist-packages (from tensorflow) (1.64.1)\n",
            "Requirement already satisfied: tensorboard<2.18,>=2.17 in /usr/local/lib/python3.10/dist-packages (from tensorflow) (2.17.0)\n",
            "Requirement already satisfied: keras>=3.2.0 in /usr/local/lib/python3.10/dist-packages (from tensorflow) (3.4.1)\n",
            "Requirement already satisfied: tensorflow-io-gcs-filesystem>=0.23.1 in /usr/local/lib/python3.10/dist-packages (from tensorflow) (0.37.1)\n",
            "Requirement already satisfied: numpy<2.0.0,>=1.23.5 in /usr/local/lib/python3.10/dist-packages (from tensorflow) (1.26.4)\n",
            "Requirement already satisfied: wheel<1.0,>=0.23.0 in /usr/local/lib/python3.10/dist-packages (from astunparse>=1.6.0->tensorflow) (0.43.0)\n",
            "Requirement already satisfied: rich in /usr/local/lib/python3.10/dist-packages (from keras>=3.2.0->tensorflow) (13.7.1)\n",
            "Requirement already satisfied: namex in /usr/local/lib/python3.10/dist-packages (from keras>=3.2.0->tensorflow) (0.0.8)\n",
            "Requirement already satisfied: optree in /usr/local/lib/python3.10/dist-packages (from keras>=3.2.0->tensorflow) (0.12.1)\n",
            "Requirement already satisfied: charset-normalizer<4,>=2 in /usr/local/lib/python3.10/dist-packages (from requests<3,>=2.21.0->tensorflow) (3.3.2)\n",
            "Requirement already satisfied: idna<4,>=2.5 in /usr/local/lib/python3.10/dist-packages (from requests<3,>=2.21.0->tensorflow) (3.7)\n",
            "Requirement already satisfied: urllib3<3,>=1.21.1 in /usr/local/lib/python3.10/dist-packages (from requests<3,>=2.21.0->tensorflow) (2.0.7)\n",
            "Requirement already satisfied: certifi>=2017.4.17 in /usr/local/lib/python3.10/dist-packages (from requests<3,>=2.21.0->tensorflow) (2024.7.4)\n",
            "Requirement already satisfied: markdown>=2.6.8 in /usr/local/lib/python3.10/dist-packages (from tensorboard<2.18,>=2.17->tensorflow) (3.6)\n",
            "Requirement already satisfied: tensorboard-data-server<0.8.0,>=0.7.0 in /usr/local/lib/python3.10/dist-packages (from tensorboard<2.18,>=2.17->tensorflow) (0.7.2)\n",
            "Requirement already satisfied: werkzeug>=1.0.1 in /usr/local/lib/python3.10/dist-packages (from tensorboard<2.18,>=2.17->tensorflow) (3.0.3)\n",
            "Requirement already satisfied: MarkupSafe>=2.1.1 in /usr/local/lib/python3.10/dist-packages (from werkzeug>=1.0.1->tensorboard<2.18,>=2.17->tensorflow) (2.1.5)\n",
            "Requirement already satisfied: markdown-it-py>=2.2.0 in /usr/local/lib/python3.10/dist-packages (from rich->keras>=3.2.0->tensorflow) (3.0.0)\n",
            "Requirement already satisfied: pygments<3.0.0,>=2.13.0 in /usr/local/lib/python3.10/dist-packages (from rich->keras>=3.2.0->tensorflow) (2.16.1)\n",
            "Requirement already satisfied: mdurl~=0.1 in /usr/local/lib/python3.10/dist-packages (from markdown-it-py>=2.2.0->rich->keras>=3.2.0->tensorflow) (0.1.2)\n",
            "Requirement already satisfied: scikit-learn in /usr/local/lib/python3.10/dist-packages (1.3.2)\n",
            "Requirement already satisfied: numpy<2.0,>=1.17.3 in /usr/local/lib/python3.10/dist-packages (from scikit-learn) (1.26.4)\n",
            "Requirement already satisfied: scipy>=1.5.0 in /usr/local/lib/python3.10/dist-packages (from scikit-learn) (1.13.1)\n",
            "Requirement already satisfied: joblib>=1.1.1 in /usr/local/lib/python3.10/dist-packages (from scikit-learn) (1.4.2)\n",
            "Requirement already satisfied: threadpoolctl>=2.0.0 in /usr/local/lib/python3.10/dist-packages (from scikit-learn) (3.5.0)\n"
          ]
        }
      ],
      "source": [
        "#εγκατάσταση πακέτου tensorflow (hhttps://www.tensorflow.org/)\n",
        "!pip install tensorflow\n",
        "#εγκατάσταση πακέτου scikit-learn (https://scikit-learn.org/)\n",
        "!pip install scikit-learn"
      ]
    },
    {
      "cell_type": "code",
      "source": [
        "#εισαγωγή βιβλιοθηκών - πακέτων\n",
        "import matplotlib.pyplot as plt\n",
        "from tensorflow.keras.utils import plot_model\n",
        "import pandas as pd\n",
        "import numpy as np\n",
        "from sklearn.model_selection import train_test_split\n",
        "from sklearn.metrics import confusion_matrix\n",
        "from keras.callbacks import ModelCheckpoint, EarlyStopping\n",
        "import os\n",
        "from tensorflow.keras.utils import to_categorical\n",
        "from sklearn.utils import class_weight\n",
        "from tensorflow.keras.models import Sequential, load_model\n",
        "from tensorflow.keras.layers import Dense, Dropout\n",
        "#from models import models_ddos"
      ],
      "metadata": {
        "collapsed": true,
        "id": "NKteLMvn50yf"
      },
      "execution_count": 70,
      "outputs": []
    },
    {
      "cell_type": "code",
      "source": [
        "epochs = 100\n",
        "nclass = 12"
      ],
      "metadata": {
        "id": "MLA3okX8i1ci"
      },
      "execution_count": 71,
      "outputs": []
    },
    {
      "cell_type": "code",
      "source": [
        "filename='https://raw.githubusercontent.com/kdemertzis/EKPA/main/Data/pcap_data.csv'\n",
        "trainfile = pd.read_csv(filename)"
      ],
      "metadata": {
        "id": "AUKXkzITpCZ0"
      },
      "execution_count": 72,
      "outputs": []
    },
    {
      "cell_type": "code",
      "source": [
        "X = trainfile.drop('target', axis=1).values\n",
        "y = trainfile['target'].values"
      ],
      "metadata": {
        "id": "9oMZn4N1DiFz"
      },
      "execution_count": 73,
      "outputs": []
    },
    {
      "cell_type": "code",
      "source": [
        "# preview data\n",
        "trainfile"
      ],
      "metadata": {
        "id": "ufPHjGEgpNdM",
        "outputId": "4900d651-09a5-46a2-d649-161fe0114aaa",
        "colab": {
          "base_uri": "https://localhost:8080/",
          "height": 444
        }
      },
      "execution_count": 74,
      "outputs": [
        {
          "output_type": "execute_result",
          "data": {
            "text/plain": [
              "       Avg_syn_flag  Avg_urg_flag  Avg_fin_flag  Avg_ack_flag  Avg_psh_flag  \\\n",
              "0         -0.230455      4.523595     -1.276876      0.814947     -0.016410   \n",
              "1         -2.088776      2.387204      0.338205      1.419440      0.114833   \n",
              "2         -0.043220      3.578791     -1.073984      0.313930     -1.774397   \n",
              "3          0.065305      3.761012      1.174174      0.761965      0.857883   \n",
              "4          3.875263      1.385111     -2.633112     -0.545981     -1.570862   \n",
              "...             ...           ...           ...           ...           ...   \n",
              "14962     -3.192606     -1.159784     -0.386309     -0.105074     -0.107793   \n",
              "14963     -7.199283      4.577420     -1.613215     -0.015272      1.073862   \n",
              "14964     -0.007487     -0.180756      0.784125      1.721070     -0.533631   \n",
              "14965      1.445870      2.772480     -1.270662     -0.782050     -1.234697   \n",
              "14966     -0.638764     -6.275966      0.756690      1.635436     -0.105537   \n",
              "\n",
              "       Avg_rst_flag  Avg_DNS_pkt  Avg_TCP_pkt  Avg_UDP_pkt  Avg_ICMP_pkt  ...  \\\n",
              "0         -2.995087     1.063889    -2.371085    -2.840079     -0.283463  ...   \n",
              "1          0.913599     0.847367    -0.008734    -1.058475      0.342997  ...   \n",
              "2         -1.006298     0.929811    -3.432328    -1.932374      0.318437  ...   \n",
              "3         -0.597540    -0.022305     1.695764     3.305753      0.792997  ...   \n",
              "4         -3.460744    -1.882090    -2.115882    -2.954608      0.986303  ...   \n",
              "...             ...          ...          ...          ...           ...  ...   \n",
              "14962     -0.540932    -0.485289     2.149890    -0.554747     -0.135449  ...   \n",
              "14963     -3.216205    -0.116166    -2.068878    -3.190195     -0.399831  ...   \n",
              "14964      4.626391    -0.525302    -0.375373    -0.774585     -0.545721  ...   \n",
              "14965     -1.643252    -0.323688     1.084773    -1.915505     -1.512685  ...   \n",
              "14966      0.419051    -0.876240    -1.145220    -5.285614     -0.943485  ...   \n",
              "\n",
              "       Min_pkts_lenght  Max_pkts_lenght  StDev_pkts_lenght  \\\n",
              "0             3.665958        -5.104394           0.690436   \n",
              "1             9.115390        -1.441248           1.710273   \n",
              "2            -0.061857        -1.210975           0.435881   \n",
              "3             0.742680        -1.267473          -0.327164   \n",
              "4             2.235826        -0.848212          -0.320711   \n",
              "...                ...              ...                ...   \n",
              "14962         7.936132         4.298986           0.116460   \n",
              "14963        18.453197        -2.415395           0.371743   \n",
              "14964         1.046151         0.321264           0.352068   \n",
              "14965         3.998477        -1.506464           1.351880   \n",
              "14966         5.509366         2.083734           0.278251   \n",
              "\n",
              "       Avg_small_payload_pkt  Avg_payload  Min_payload  Max_payload  \\\n",
              "0                  -1.584535    -2.282169    -6.064334    -0.756736   \n",
              "1                  -0.274751     0.349761     8.602419     0.337548   \n",
              "2                   1.494576     0.074463    -5.532110    -0.088565   \n",
              "3                   0.188910    -0.122022     2.977927    -0.472563   \n",
              "4                  -1.145686     1.356040    -5.251642     0.787477   \n",
              "...                      ...          ...          ...          ...   \n",
              "14962               1.734781     0.577618     1.044769     0.465201   \n",
              "14963               0.666308     0.721392     7.164678    -3.207508   \n",
              "14964               0.626728    -1.726936     3.406459     1.001524   \n",
              "14965              -0.888374     0.556023    -1.140645    -1.716910   \n",
              "14966              -2.454970     0.569676    -1.904983     0.419630   \n",
              "\n",
              "       StDev_payload  Avg_DNS_over_TCP  target  \n",
              "0          -1.488713          0.694093     2.0  \n",
              "1           0.362154          1.193261     0.0  \n",
              "2           0.702886          0.104589     2.0  \n",
              "3           1.779231         -0.058810     1.0  \n",
              "4           1.194117          3.840521     1.0  \n",
              "...              ...               ...     ...  \n",
              "14962      -0.093720         -2.138540     2.0  \n",
              "14963       1.898327         -4.891586     0.0  \n",
              "14964      -1.691021         -0.158612     2.0  \n",
              "14965       3.324111         -1.771521     1.0  \n",
              "14966       0.113833          1.510204     2.0  \n",
              "\n",
              "[14967 rows x 26 columns]"
            ],
            "text/html": [
              "\n",
              "  <div id=\"df-702c0c79-cbd3-4469-aee7-08fcced18396\" class=\"colab-df-container\">\n",
              "    <div>\n",
              "<style scoped>\n",
              "    .dataframe tbody tr th:only-of-type {\n",
              "        vertical-align: middle;\n",
              "    }\n",
              "\n",
              "    .dataframe tbody tr th {\n",
              "        vertical-align: top;\n",
              "    }\n",
              "\n",
              "    .dataframe thead th {\n",
              "        text-align: right;\n",
              "    }\n",
              "</style>\n",
              "<table border=\"1\" class=\"dataframe\">\n",
              "  <thead>\n",
              "    <tr style=\"text-align: right;\">\n",
              "      <th></th>\n",
              "      <th>Avg_syn_flag</th>\n",
              "      <th>Avg_urg_flag</th>\n",
              "      <th>Avg_fin_flag</th>\n",
              "      <th>Avg_ack_flag</th>\n",
              "      <th>Avg_psh_flag</th>\n",
              "      <th>Avg_rst_flag</th>\n",
              "      <th>Avg_DNS_pkt</th>\n",
              "      <th>Avg_TCP_pkt</th>\n",
              "      <th>Avg_UDP_pkt</th>\n",
              "      <th>Avg_ICMP_pkt</th>\n",
              "      <th>...</th>\n",
              "      <th>Min_pkts_lenght</th>\n",
              "      <th>Max_pkts_lenght</th>\n",
              "      <th>StDev_pkts_lenght</th>\n",
              "      <th>Avg_small_payload_pkt</th>\n",
              "      <th>Avg_payload</th>\n",
              "      <th>Min_payload</th>\n",
              "      <th>Max_payload</th>\n",
              "      <th>StDev_payload</th>\n",
              "      <th>Avg_DNS_over_TCP</th>\n",
              "      <th>target</th>\n",
              "    </tr>\n",
              "  </thead>\n",
              "  <tbody>\n",
              "    <tr>\n",
              "      <th>0</th>\n",
              "      <td>-0.230455</td>\n",
              "      <td>4.523595</td>\n",
              "      <td>-1.276876</td>\n",
              "      <td>0.814947</td>\n",
              "      <td>-0.016410</td>\n",
              "      <td>-2.995087</td>\n",
              "      <td>1.063889</td>\n",
              "      <td>-2.371085</td>\n",
              "      <td>-2.840079</td>\n",
              "      <td>-0.283463</td>\n",
              "      <td>...</td>\n",
              "      <td>3.665958</td>\n",
              "      <td>-5.104394</td>\n",
              "      <td>0.690436</td>\n",
              "      <td>-1.584535</td>\n",
              "      <td>-2.282169</td>\n",
              "      <td>-6.064334</td>\n",
              "      <td>-0.756736</td>\n",
              "      <td>-1.488713</td>\n",
              "      <td>0.694093</td>\n",
              "      <td>2.0</td>\n",
              "    </tr>\n",
              "    <tr>\n",
              "      <th>1</th>\n",
              "      <td>-2.088776</td>\n",
              "      <td>2.387204</td>\n",
              "      <td>0.338205</td>\n",
              "      <td>1.419440</td>\n",
              "      <td>0.114833</td>\n",
              "      <td>0.913599</td>\n",
              "      <td>0.847367</td>\n",
              "      <td>-0.008734</td>\n",
              "      <td>-1.058475</td>\n",
              "      <td>0.342997</td>\n",
              "      <td>...</td>\n",
              "      <td>9.115390</td>\n",
              "      <td>-1.441248</td>\n",
              "      <td>1.710273</td>\n",
              "      <td>-0.274751</td>\n",
              "      <td>0.349761</td>\n",
              "      <td>8.602419</td>\n",
              "      <td>0.337548</td>\n",
              "      <td>0.362154</td>\n",
              "      <td>1.193261</td>\n",
              "      <td>0.0</td>\n",
              "    </tr>\n",
              "    <tr>\n",
              "      <th>2</th>\n",
              "      <td>-0.043220</td>\n",
              "      <td>3.578791</td>\n",
              "      <td>-1.073984</td>\n",
              "      <td>0.313930</td>\n",
              "      <td>-1.774397</td>\n",
              "      <td>-1.006298</td>\n",
              "      <td>0.929811</td>\n",
              "      <td>-3.432328</td>\n",
              "      <td>-1.932374</td>\n",
              "      <td>0.318437</td>\n",
              "      <td>...</td>\n",
              "      <td>-0.061857</td>\n",
              "      <td>-1.210975</td>\n",
              "      <td>0.435881</td>\n",
              "      <td>1.494576</td>\n",
              "      <td>0.074463</td>\n",
              "      <td>-5.532110</td>\n",
              "      <td>-0.088565</td>\n",
              "      <td>0.702886</td>\n",
              "      <td>0.104589</td>\n",
              "      <td>2.0</td>\n",
              "    </tr>\n",
              "    <tr>\n",
              "      <th>3</th>\n",
              "      <td>0.065305</td>\n",
              "      <td>3.761012</td>\n",
              "      <td>1.174174</td>\n",
              "      <td>0.761965</td>\n",
              "      <td>0.857883</td>\n",
              "      <td>-0.597540</td>\n",
              "      <td>-0.022305</td>\n",
              "      <td>1.695764</td>\n",
              "      <td>3.305753</td>\n",
              "      <td>0.792997</td>\n",
              "      <td>...</td>\n",
              "      <td>0.742680</td>\n",
              "      <td>-1.267473</td>\n",
              "      <td>-0.327164</td>\n",
              "      <td>0.188910</td>\n",
              "      <td>-0.122022</td>\n",
              "      <td>2.977927</td>\n",
              "      <td>-0.472563</td>\n",
              "      <td>1.779231</td>\n",
              "      <td>-0.058810</td>\n",
              "      <td>1.0</td>\n",
              "    </tr>\n",
              "    <tr>\n",
              "      <th>4</th>\n",
              "      <td>3.875263</td>\n",
              "      <td>1.385111</td>\n",
              "      <td>-2.633112</td>\n",
              "      <td>-0.545981</td>\n",
              "      <td>-1.570862</td>\n",
              "      <td>-3.460744</td>\n",
              "      <td>-1.882090</td>\n",
              "      <td>-2.115882</td>\n",
              "      <td>-2.954608</td>\n",
              "      <td>0.986303</td>\n",
              "      <td>...</td>\n",
              "      <td>2.235826</td>\n",
              "      <td>-0.848212</td>\n",
              "      <td>-0.320711</td>\n",
              "      <td>-1.145686</td>\n",
              "      <td>1.356040</td>\n",
              "      <td>-5.251642</td>\n",
              "      <td>0.787477</td>\n",
              "      <td>1.194117</td>\n",
              "      <td>3.840521</td>\n",
              "      <td>1.0</td>\n",
              "    </tr>\n",
              "    <tr>\n",
              "      <th>...</th>\n",
              "      <td>...</td>\n",
              "      <td>...</td>\n",
              "      <td>...</td>\n",
              "      <td>...</td>\n",
              "      <td>...</td>\n",
              "      <td>...</td>\n",
              "      <td>...</td>\n",
              "      <td>...</td>\n",
              "      <td>...</td>\n",
              "      <td>...</td>\n",
              "      <td>...</td>\n",
              "      <td>...</td>\n",
              "      <td>...</td>\n",
              "      <td>...</td>\n",
              "      <td>...</td>\n",
              "      <td>...</td>\n",
              "      <td>...</td>\n",
              "      <td>...</td>\n",
              "      <td>...</td>\n",
              "      <td>...</td>\n",
              "      <td>...</td>\n",
              "    </tr>\n",
              "    <tr>\n",
              "      <th>14962</th>\n",
              "      <td>-3.192606</td>\n",
              "      <td>-1.159784</td>\n",
              "      <td>-0.386309</td>\n",
              "      <td>-0.105074</td>\n",
              "      <td>-0.107793</td>\n",
              "      <td>-0.540932</td>\n",
              "      <td>-0.485289</td>\n",
              "      <td>2.149890</td>\n",
              "      <td>-0.554747</td>\n",
              "      <td>-0.135449</td>\n",
              "      <td>...</td>\n",
              "      <td>7.936132</td>\n",
              "      <td>4.298986</td>\n",
              "      <td>0.116460</td>\n",
              "      <td>1.734781</td>\n",
              "      <td>0.577618</td>\n",
              "      <td>1.044769</td>\n",
              "      <td>0.465201</td>\n",
              "      <td>-0.093720</td>\n",
              "      <td>-2.138540</td>\n",
              "      <td>2.0</td>\n",
              "    </tr>\n",
              "    <tr>\n",
              "      <th>14963</th>\n",
              "      <td>-7.199283</td>\n",
              "      <td>4.577420</td>\n",
              "      <td>-1.613215</td>\n",
              "      <td>-0.015272</td>\n",
              "      <td>1.073862</td>\n",
              "      <td>-3.216205</td>\n",
              "      <td>-0.116166</td>\n",
              "      <td>-2.068878</td>\n",
              "      <td>-3.190195</td>\n",
              "      <td>-0.399831</td>\n",
              "      <td>...</td>\n",
              "      <td>18.453197</td>\n",
              "      <td>-2.415395</td>\n",
              "      <td>0.371743</td>\n",
              "      <td>0.666308</td>\n",
              "      <td>0.721392</td>\n",
              "      <td>7.164678</td>\n",
              "      <td>-3.207508</td>\n",
              "      <td>1.898327</td>\n",
              "      <td>-4.891586</td>\n",
              "      <td>0.0</td>\n",
              "    </tr>\n",
              "    <tr>\n",
              "      <th>14964</th>\n",
              "      <td>-0.007487</td>\n",
              "      <td>-0.180756</td>\n",
              "      <td>0.784125</td>\n",
              "      <td>1.721070</td>\n",
              "      <td>-0.533631</td>\n",
              "      <td>4.626391</td>\n",
              "      <td>-0.525302</td>\n",
              "      <td>-0.375373</td>\n",
              "      <td>-0.774585</td>\n",
              "      <td>-0.545721</td>\n",
              "      <td>...</td>\n",
              "      <td>1.046151</td>\n",
              "      <td>0.321264</td>\n",
              "      <td>0.352068</td>\n",
              "      <td>0.626728</td>\n",
              "      <td>-1.726936</td>\n",
              "      <td>3.406459</td>\n",
              "      <td>1.001524</td>\n",
              "      <td>-1.691021</td>\n",
              "      <td>-0.158612</td>\n",
              "      <td>2.0</td>\n",
              "    </tr>\n",
              "    <tr>\n",
              "      <th>14965</th>\n",
              "      <td>1.445870</td>\n",
              "      <td>2.772480</td>\n",
              "      <td>-1.270662</td>\n",
              "      <td>-0.782050</td>\n",
              "      <td>-1.234697</td>\n",
              "      <td>-1.643252</td>\n",
              "      <td>-0.323688</td>\n",
              "      <td>1.084773</td>\n",
              "      <td>-1.915505</td>\n",
              "      <td>-1.512685</td>\n",
              "      <td>...</td>\n",
              "      <td>3.998477</td>\n",
              "      <td>-1.506464</td>\n",
              "      <td>1.351880</td>\n",
              "      <td>-0.888374</td>\n",
              "      <td>0.556023</td>\n",
              "      <td>-1.140645</td>\n",
              "      <td>-1.716910</td>\n",
              "      <td>3.324111</td>\n",
              "      <td>-1.771521</td>\n",
              "      <td>1.0</td>\n",
              "    </tr>\n",
              "    <tr>\n",
              "      <th>14966</th>\n",
              "      <td>-0.638764</td>\n",
              "      <td>-6.275966</td>\n",
              "      <td>0.756690</td>\n",
              "      <td>1.635436</td>\n",
              "      <td>-0.105537</td>\n",
              "      <td>0.419051</td>\n",
              "      <td>-0.876240</td>\n",
              "      <td>-1.145220</td>\n",
              "      <td>-5.285614</td>\n",
              "      <td>-0.943485</td>\n",
              "      <td>...</td>\n",
              "      <td>5.509366</td>\n",
              "      <td>2.083734</td>\n",
              "      <td>0.278251</td>\n",
              "      <td>-2.454970</td>\n",
              "      <td>0.569676</td>\n",
              "      <td>-1.904983</td>\n",
              "      <td>0.419630</td>\n",
              "      <td>0.113833</td>\n",
              "      <td>1.510204</td>\n",
              "      <td>2.0</td>\n",
              "    </tr>\n",
              "  </tbody>\n",
              "</table>\n",
              "<p>14967 rows × 26 columns</p>\n",
              "</div>\n",
              "    <div class=\"colab-df-buttons\">\n",
              "\n",
              "  <div class=\"colab-df-container\">\n",
              "    <button class=\"colab-df-convert\" onclick=\"convertToInteractive('df-702c0c79-cbd3-4469-aee7-08fcced18396')\"\n",
              "            title=\"Convert this dataframe to an interactive table.\"\n",
              "            style=\"display:none;\">\n",
              "\n",
              "  <svg xmlns=\"http://www.w3.org/2000/svg\" height=\"24px\" viewBox=\"0 -960 960 960\">\n",
              "    <path d=\"M120-120v-720h720v720H120Zm60-500h600v-160H180v160Zm220 220h160v-160H400v160Zm0 220h160v-160H400v160ZM180-400h160v-160H180v160Zm440 0h160v-160H620v160ZM180-180h160v-160H180v160Zm440 0h160v-160H620v160Z\"/>\n",
              "  </svg>\n",
              "    </button>\n",
              "\n",
              "  <style>\n",
              "    .colab-df-container {\n",
              "      display:flex;\n",
              "      gap: 12px;\n",
              "    }\n",
              "\n",
              "    .colab-df-convert {\n",
              "      background-color: #E8F0FE;\n",
              "      border: none;\n",
              "      border-radius: 50%;\n",
              "      cursor: pointer;\n",
              "      display: none;\n",
              "      fill: #1967D2;\n",
              "      height: 32px;\n",
              "      padding: 0 0 0 0;\n",
              "      width: 32px;\n",
              "    }\n",
              "\n",
              "    .colab-df-convert:hover {\n",
              "      background-color: #E2EBFA;\n",
              "      box-shadow: 0px 1px 2px rgba(60, 64, 67, 0.3), 0px 1px 3px 1px rgba(60, 64, 67, 0.15);\n",
              "      fill: #174EA6;\n",
              "    }\n",
              "\n",
              "    .colab-df-buttons div {\n",
              "      margin-bottom: 4px;\n",
              "    }\n",
              "\n",
              "    [theme=dark] .colab-df-convert {\n",
              "      background-color: #3B4455;\n",
              "      fill: #D2E3FC;\n",
              "    }\n",
              "\n",
              "    [theme=dark] .colab-df-convert:hover {\n",
              "      background-color: #434B5C;\n",
              "      box-shadow: 0px 1px 3px 1px rgba(0, 0, 0, 0.15);\n",
              "      filter: drop-shadow(0px 1px 2px rgba(0, 0, 0, 0.3));\n",
              "      fill: #FFFFFF;\n",
              "    }\n",
              "  </style>\n",
              "\n",
              "    <script>\n",
              "      const buttonEl =\n",
              "        document.querySelector('#df-702c0c79-cbd3-4469-aee7-08fcced18396 button.colab-df-convert');\n",
              "      buttonEl.style.display =\n",
              "        google.colab.kernel.accessAllowed ? 'block' : 'none';\n",
              "\n",
              "      async function convertToInteractive(key) {\n",
              "        const element = document.querySelector('#df-702c0c79-cbd3-4469-aee7-08fcced18396');\n",
              "        const dataTable =\n",
              "          await google.colab.kernel.invokeFunction('convertToInteractive',\n",
              "                                                    [key], {});\n",
              "        if (!dataTable) return;\n",
              "\n",
              "        const docLinkHtml = 'Like what you see? Visit the ' +\n",
              "          '<a target=\"_blank\" href=https://colab.research.google.com/notebooks/data_table.ipynb>data table notebook</a>'\n",
              "          + ' to learn more about interactive tables.';\n",
              "        element.innerHTML = '';\n",
              "        dataTable['output_type'] = 'display_data';\n",
              "        await google.colab.output.renderOutput(dataTable, element);\n",
              "        const docLink = document.createElement('div');\n",
              "        docLink.innerHTML = docLinkHtml;\n",
              "        element.appendChild(docLink);\n",
              "      }\n",
              "    </script>\n",
              "  </div>\n",
              "\n",
              "\n",
              "<div id=\"df-57791678-684b-4aff-8ddd-2e11eecc8942\">\n",
              "  <button class=\"colab-df-quickchart\" onclick=\"quickchart('df-57791678-684b-4aff-8ddd-2e11eecc8942')\"\n",
              "            title=\"Suggest charts\"\n",
              "            style=\"display:none;\">\n",
              "\n",
              "<svg xmlns=\"http://www.w3.org/2000/svg\" height=\"24px\"viewBox=\"0 0 24 24\"\n",
              "     width=\"24px\">\n",
              "    <g>\n",
              "        <path d=\"M19 3H5c-1.1 0-2 .9-2 2v14c0 1.1.9 2 2 2h14c1.1 0 2-.9 2-2V5c0-1.1-.9-2-2-2zM9 17H7v-7h2v7zm4 0h-2V7h2v10zm4 0h-2v-4h2v4z\"/>\n",
              "    </g>\n",
              "</svg>\n",
              "  </button>\n",
              "\n",
              "<style>\n",
              "  .colab-df-quickchart {\n",
              "      --bg-color: #E8F0FE;\n",
              "      --fill-color: #1967D2;\n",
              "      --hover-bg-color: #E2EBFA;\n",
              "      --hover-fill-color: #174EA6;\n",
              "      --disabled-fill-color: #AAA;\n",
              "      --disabled-bg-color: #DDD;\n",
              "  }\n",
              "\n",
              "  [theme=dark] .colab-df-quickchart {\n",
              "      --bg-color: #3B4455;\n",
              "      --fill-color: #D2E3FC;\n",
              "      --hover-bg-color: #434B5C;\n",
              "      --hover-fill-color: #FFFFFF;\n",
              "      --disabled-bg-color: #3B4455;\n",
              "      --disabled-fill-color: #666;\n",
              "  }\n",
              "\n",
              "  .colab-df-quickchart {\n",
              "    background-color: var(--bg-color);\n",
              "    border: none;\n",
              "    border-radius: 50%;\n",
              "    cursor: pointer;\n",
              "    display: none;\n",
              "    fill: var(--fill-color);\n",
              "    height: 32px;\n",
              "    padding: 0;\n",
              "    width: 32px;\n",
              "  }\n",
              "\n",
              "  .colab-df-quickchart:hover {\n",
              "    background-color: var(--hover-bg-color);\n",
              "    box-shadow: 0 1px 2px rgba(60, 64, 67, 0.3), 0 1px 3px 1px rgba(60, 64, 67, 0.15);\n",
              "    fill: var(--button-hover-fill-color);\n",
              "  }\n",
              "\n",
              "  .colab-df-quickchart-complete:disabled,\n",
              "  .colab-df-quickchart-complete:disabled:hover {\n",
              "    background-color: var(--disabled-bg-color);\n",
              "    fill: var(--disabled-fill-color);\n",
              "    box-shadow: none;\n",
              "  }\n",
              "\n",
              "  .colab-df-spinner {\n",
              "    border: 2px solid var(--fill-color);\n",
              "    border-color: transparent;\n",
              "    border-bottom-color: var(--fill-color);\n",
              "    animation:\n",
              "      spin 1s steps(1) infinite;\n",
              "  }\n",
              "\n",
              "  @keyframes spin {\n",
              "    0% {\n",
              "      border-color: transparent;\n",
              "      border-bottom-color: var(--fill-color);\n",
              "      border-left-color: var(--fill-color);\n",
              "    }\n",
              "    20% {\n",
              "      border-color: transparent;\n",
              "      border-left-color: var(--fill-color);\n",
              "      border-top-color: var(--fill-color);\n",
              "    }\n",
              "    30% {\n",
              "      border-color: transparent;\n",
              "      border-left-color: var(--fill-color);\n",
              "      border-top-color: var(--fill-color);\n",
              "      border-right-color: var(--fill-color);\n",
              "    }\n",
              "    40% {\n",
              "      border-color: transparent;\n",
              "      border-right-color: var(--fill-color);\n",
              "      border-top-color: var(--fill-color);\n",
              "    }\n",
              "    60% {\n",
              "      border-color: transparent;\n",
              "      border-right-color: var(--fill-color);\n",
              "    }\n",
              "    80% {\n",
              "      border-color: transparent;\n",
              "      border-right-color: var(--fill-color);\n",
              "      border-bottom-color: var(--fill-color);\n",
              "    }\n",
              "    90% {\n",
              "      border-color: transparent;\n",
              "      border-bottom-color: var(--fill-color);\n",
              "    }\n",
              "  }\n",
              "</style>\n",
              "\n",
              "  <script>\n",
              "    async function quickchart(key) {\n",
              "      const quickchartButtonEl =\n",
              "        document.querySelector('#' + key + ' button');\n",
              "      quickchartButtonEl.disabled = true;  // To prevent multiple clicks.\n",
              "      quickchartButtonEl.classList.add('colab-df-spinner');\n",
              "      try {\n",
              "        const charts = await google.colab.kernel.invokeFunction(\n",
              "            'suggestCharts', [key], {});\n",
              "      } catch (error) {\n",
              "        console.error('Error during call to suggestCharts:', error);\n",
              "      }\n",
              "      quickchartButtonEl.classList.remove('colab-df-spinner');\n",
              "      quickchartButtonEl.classList.add('colab-df-quickchart-complete');\n",
              "    }\n",
              "    (() => {\n",
              "      let quickchartButtonEl =\n",
              "        document.querySelector('#df-57791678-684b-4aff-8ddd-2e11eecc8942 button');\n",
              "      quickchartButtonEl.style.display =\n",
              "        google.colab.kernel.accessAllowed ? 'block' : 'none';\n",
              "    })();\n",
              "  </script>\n",
              "</div>\n",
              "\n",
              "  <div id=\"id_61e30537-388d-4534-bc95-84b27305c77d\">\n",
              "    <style>\n",
              "      .colab-df-generate {\n",
              "        background-color: #E8F0FE;\n",
              "        border: none;\n",
              "        border-radius: 50%;\n",
              "        cursor: pointer;\n",
              "        display: none;\n",
              "        fill: #1967D2;\n",
              "        height: 32px;\n",
              "        padding: 0 0 0 0;\n",
              "        width: 32px;\n",
              "      }\n",
              "\n",
              "      .colab-df-generate:hover {\n",
              "        background-color: #E2EBFA;\n",
              "        box-shadow: 0px 1px 2px rgba(60, 64, 67, 0.3), 0px 1px 3px 1px rgba(60, 64, 67, 0.15);\n",
              "        fill: #174EA6;\n",
              "      }\n",
              "\n",
              "      [theme=dark] .colab-df-generate {\n",
              "        background-color: #3B4455;\n",
              "        fill: #D2E3FC;\n",
              "      }\n",
              "\n",
              "      [theme=dark] .colab-df-generate:hover {\n",
              "        background-color: #434B5C;\n",
              "        box-shadow: 0px 1px 3px 1px rgba(0, 0, 0, 0.15);\n",
              "        filter: drop-shadow(0px 1px 2px rgba(0, 0, 0, 0.3));\n",
              "        fill: #FFFFFF;\n",
              "      }\n",
              "    </style>\n",
              "    <button class=\"colab-df-generate\" onclick=\"generateWithVariable('trainfile')\"\n",
              "            title=\"Generate code using this dataframe.\"\n",
              "            style=\"display:none;\">\n",
              "\n",
              "  <svg xmlns=\"http://www.w3.org/2000/svg\" height=\"24px\"viewBox=\"0 0 24 24\"\n",
              "       width=\"24px\">\n",
              "    <path d=\"M7,19H8.4L18.45,9,17,7.55,7,17.6ZM5,21V16.75L18.45,3.32a2,2,0,0,1,2.83,0l1.4,1.43a1.91,1.91,0,0,1,.58,1.4,1.91,1.91,0,0,1-.58,1.4L9.25,21ZM18.45,9,17,7.55Zm-12,3A5.31,5.31,0,0,0,4.9,8.1,5.31,5.31,0,0,0,1,6.5,5.31,5.31,0,0,0,4.9,4.9,5.31,5.31,0,0,0,6.5,1,5.31,5.31,0,0,0,8.1,4.9,5.31,5.31,0,0,0,12,6.5,5.46,5.46,0,0,0,6.5,12Z\"/>\n",
              "  </svg>\n",
              "    </button>\n",
              "    <script>\n",
              "      (() => {\n",
              "      const buttonEl =\n",
              "        document.querySelector('#id_61e30537-388d-4534-bc95-84b27305c77d button.colab-df-generate');\n",
              "      buttonEl.style.display =\n",
              "        google.colab.kernel.accessAllowed ? 'block' : 'none';\n",
              "\n",
              "      buttonEl.onclick = () => {\n",
              "        google.colab.notebook.generateWithVariable('trainfile');\n",
              "      }\n",
              "      })();\n",
              "    </script>\n",
              "  </div>\n",
              "\n",
              "    </div>\n",
              "  </div>\n"
            ],
            "application/vnd.google.colaboratory.intrinsic+json": {
              "type": "dataframe",
              "variable_name": "trainfile"
            }
          },
          "metadata": {},
          "execution_count": 74
        }
      ]
    },
    {
      "cell_type": "code",
      "source": [
        "trainfile.columns"
      ],
      "metadata": {
        "id": "irTz5hE_vU1U",
        "outputId": "f56acc94-abb6-421c-8076-21c716502b75",
        "colab": {
          "base_uri": "https://localhost:8080/"
        }
      },
      "execution_count": 75,
      "outputs": [
        {
          "output_type": "execute_result",
          "data": {
            "text/plain": [
              "Index(['Avg_syn_flag', 'Avg_urg_flag', 'Avg_fin_flag', 'Avg_ack_flag',\n",
              "       'Avg_psh_flag', 'Avg_rst_flag', 'Avg_DNS_pkt', 'Avg_TCP_pkt',\n",
              "       'Avg_UDP_pkt', 'Avg_ICMP_pkt', 'Duration_window_flow', 'Avg_delta_time',\n",
              "       'Min_delta_time', 'Max_delta_time', 'StDev_delta_time',\n",
              "       'Avg_pkts_lenght', 'Min_pkts_lenght', 'Max_pkts_lenght',\n",
              "       'StDev_pkts_lenght', 'Avg_small_payload_pkt', 'Avg_payload',\n",
              "       'Min_payload', 'Max_payload', 'StDev_payload', 'Avg_DNS_over_TCP',\n",
              "       'target'],\n",
              "      dtype='object')"
            ]
          },
          "metadata": {},
          "execution_count": 75
        }
      ]
    },
    {
      "cell_type": "code",
      "source": [
        "data = pd.DataFrame(trainfile).to_numpy()"
      ],
      "metadata": {
        "id": "jjLVkx-C4gXJ"
      },
      "execution_count": 76,
      "outputs": []
    },
    {
      "cell_type": "code",
      "source": [
        "data"
      ],
      "metadata": {
        "id": "Ns5hW52j4pdh",
        "outputId": "b68310d1-327d-41fc-ffd8-6ea610324067",
        "colab": {
          "base_uri": "https://localhost:8080/"
        }
      },
      "execution_count": 77,
      "outputs": [
        {
          "output_type": "execute_result",
          "data": {
            "text/plain": [
              "array([[-0.2304548 ,  4.52359537, -1.27687628, ..., -1.48871278,\n",
              "         0.69409321,  2.        ],\n",
              "       [-2.08877556,  2.38720365,  0.3382052 , ...,  0.36215406,\n",
              "         1.19326143,  0.        ],\n",
              "       [-0.0432197 ,  3.57879131, -1.07398432, ...,  0.70288575,\n",
              "         0.10458913,  2.        ],\n",
              "       ...,\n",
              "       [-0.00748687, -0.18075621,  0.78412483, ..., -1.69102071,\n",
              "        -0.15861199,  2.        ],\n",
              "       [ 1.44587035,  2.77248036, -1.27066236, ...,  3.32411067,\n",
              "        -1.77152055,  1.        ],\n",
              "       [-0.63876374, -6.27596586,  0.75669008, ...,  0.1138326 ,\n",
              "         1.51020413,  2.        ]])"
            ]
          },
          "metadata": {},
          "execution_count": 77
        }
      ]
    },
    {
      "cell_type": "code",
      "source": [
        "data=data[ data[:,25] != 'DrDoS_LDAP' ]"
      ],
      "metadata": {
        "id": "lG6WcMsu4_iy"
      },
      "execution_count": 78,
      "outputs": []
    },
    {
      "cell_type": "code",
      "source": [
        "data"
      ],
      "metadata": {
        "id": "CkTfCZSt5Cyv",
        "outputId": "a37dab14-9be9-4baf-fd0d-756750f32dc5",
        "colab": {
          "base_uri": "https://localhost:8080/"
        }
      },
      "execution_count": 79,
      "outputs": [
        {
          "output_type": "execute_result",
          "data": {
            "text/plain": [
              "array([[-0.2304548 ,  4.52359537, -1.27687628, ..., -1.48871278,\n",
              "         0.69409321,  2.        ],\n",
              "       [-2.08877556,  2.38720365,  0.3382052 , ...,  0.36215406,\n",
              "         1.19326143,  0.        ],\n",
              "       [-0.0432197 ,  3.57879131, -1.07398432, ...,  0.70288575,\n",
              "         0.10458913,  2.        ],\n",
              "       ...,\n",
              "       [-0.00748687, -0.18075621,  0.78412483, ..., -1.69102071,\n",
              "        -0.15861199,  2.        ],\n",
              "       [ 1.44587035,  2.77248036, -1.27066236, ...,  3.32411067,\n",
              "        -1.77152055,  1.        ],\n",
              "       [-0.63876374, -6.27596586,  0.75669008, ...,  0.1138326 ,\n",
              "         1.51020413,  2.        ]])"
            ]
          },
          "metadata": {},
          "execution_count": 79
        }
      ]
    },
    {
      "cell_type": "code",
      "source": [
        "np.random.shuffle(data)"
      ],
      "metadata": {
        "id": "WShuLso9-VKB"
      },
      "execution_count": 80,
      "outputs": []
    },
    {
      "cell_type": "code",
      "source": [
        "# MIN-MAX normalization\n",
        "#data=data[:,inx_sel]\n",
        "dmin = data.min(axis=0)\n",
        "dmax = data.max(axis=0)\n",
        "data=(data-dmin)/(dmax-dmin)"
      ],
      "metadata": {
        "id": "1InxeV9H-b6i"
      },
      "execution_count": 81,
      "outputs": []
    },
    {
      "cell_type": "code",
      "source": [
        "labels = list(trainfile.columns)\n",
        "labels"
      ],
      "metadata": {
        "id": "xvbbJg39B9kf",
        "outputId": "d5c17568-15fd-4eb8-f27f-f41f1e58393b",
        "colab": {
          "base_uri": "https://localhost:8080/"
        }
      },
      "execution_count": 82,
      "outputs": [
        {
          "output_type": "execute_result",
          "data": {
            "text/plain": [
              "['Avg_syn_flag',\n",
              " 'Avg_urg_flag',\n",
              " 'Avg_fin_flag',\n",
              " 'Avg_ack_flag',\n",
              " 'Avg_psh_flag',\n",
              " 'Avg_rst_flag',\n",
              " 'Avg_DNS_pkt',\n",
              " 'Avg_TCP_pkt',\n",
              " 'Avg_UDP_pkt',\n",
              " 'Avg_ICMP_pkt',\n",
              " 'Duration_window_flow',\n",
              " 'Avg_delta_time',\n",
              " 'Min_delta_time',\n",
              " 'Max_delta_time',\n",
              " 'StDev_delta_time',\n",
              " 'Avg_pkts_lenght',\n",
              " 'Min_pkts_lenght',\n",
              " 'Max_pkts_lenght',\n",
              " 'StDev_pkts_lenght',\n",
              " 'Avg_small_payload_pkt',\n",
              " 'Avg_payload',\n",
              " 'Min_payload',\n",
              " 'Max_payload',\n",
              " 'StDev_payload',\n",
              " 'Avg_DNS_over_TCP',\n",
              " 'target']"
            ]
          },
          "metadata": {},
          "execution_count": 82
        }
      ]
    },
    {
      "cell_type": "code",
      "source": [
        "# Test data 20%\n",
        "train_data, test_data, train_label, test_label = train_test_split(X, y, test_size=0.20)\n"
      ],
      "metadata": {
        "id": "4R8uUyvz-rDt"
      },
      "execution_count": 83,
      "outputs": []
    },
    {
      "cell_type": "code",
      "source": [
        "# Train 70%, Validation%10\n",
        "train_data, val_data, train_label, val_label = train_test_split(train_data, train_label, test_size=0.125, stratify=train_label)"
      ],
      "metadata": {
        "id": "OFLweS3vEOkt"
      },
      "execution_count": 84,
      "outputs": []
    },
    {
      "cell_type": "code",
      "source": [
        "#συνάρτηση δημιουργίας και εκπαίδευσης νευρωνικού δικτύου\n",
        "def create_and_train_model(input_dim):\n",
        "    model = Sequential()\n",
        "    model.add(Dense(256, input_dim=input_dim, activation='relu'))\n",
        "    model.add(Dropout(0.5))\n",
        "    model.add(Dense(128, activation='relu'))\n",
        "    model.add(Dropout(0.5))\n",
        "    model.add(Dense(64, activation='relu'))\n",
        "    model.add(Dense(3, activation='softmax'))\n",
        "    model.compile(optimizer='adam', loss='sparse_categorical_crossentropy', metrics=['accuracy'])\n",
        "    return model"
      ],
      "metadata": {
        "id": "TCL0SkHmJfp_"
      },
      "execution_count": 85,
      "outputs": []
    },
    {
      "cell_type": "code",
      "source": [
        "model = create_and_train_model(train_data.shape[1])"
      ],
      "metadata": {
        "id": "fY9JARTbILtn",
        "outputId": "e9fe8ec9-a895-4aae-8b34-8a7d9aad819b",
        "colab": {
          "base_uri": "https://localhost:8080/"
        }
      },
      "execution_count": 86,
      "outputs": [
        {
          "output_type": "stream",
          "name": "stderr",
          "text": [
            "/usr/local/lib/python3.10/dist-packages/keras/src/layers/core/dense.py:87: UserWarning: Do not pass an `input_shape`/`input_dim` argument to a layer. When using Sequential models, prefer using an `Input(shape)` object as the first layer in the model instead.\n",
            "  super().__init__(activity_regularizer=activity_regularizer, **kwargs)\n"
          ]
        }
      ]
    },
    {
      "cell_type": "code",
      "source": [
        "#συνάρτηση εισαγωγής συνόλου δεδομένων\n",
        "def loadDataset():\n",
        "    # Put dataset path here !\n",
        "    #filename='https://raw.githubusercontent.com/kdemertzis/EKPA/main/Data/pcap_data.csv'\n",
        "\n",
        "    #trainfile = pd.read_csv(filename)\n",
        "    data = pd.DataFrame(trainfile).to_numpy()\n",
        "    #data=data[ data[:,25] != 'DrDoS_LDAP' ]\n",
        "    np.random.shuffle(data)\n",
        "\n",
        "    label = data[:, 25].astype('str')\n",
        "\n",
        "    label[label == 'WebDDoS']       = 0\n",
        "    label[label == 'BENIGN']        = 1\n",
        "    label[label == 'UDP-lag']       = 2\n",
        "    label[label == 'DrDoS_NTP']     = 3\n",
        "    label[label == 'Syn']           = 4\n",
        "    label[label == 'DrDoS_SSDP']    = 5\n",
        "    label[label == 'DrDoS_UDP']     = 6\n",
        "    label[label == 'DrDoS_NetBIOS'] = 7\n",
        "    label[label == 'DrDoS_MSSQL']   = 8\n",
        "    label[label == 'DrDoS_SNMP']    = 9\n",
        "    label[label == 'TFTP']          = 10\n",
        "    label[label == 'DrDoS_DNS']     = 11\n",
        "    #label[label == 'DrDoS_LDAP']     = 11\n",
        "\n",
        "    # SELECT FEATURES ----------------------------------------------------\n",
        "    inx_sel = -1 + np.array([38,47,37,48,11,9,7,52,10,36,1,34,4,17,19,57,21,\n",
        "                         18,22,24,32,50,23,55,51,5,3,39,40,43,58,12,25,\n",
        "                         20,2,35,67,33,6,53])\n",
        "\n",
        "    # MIN-MAX normalization\n",
        "    data=data[:,inx_sel]\n",
        "    dmin = data.min(axis=0)\n",
        "    dmax = data.max(axis=0)\n",
        "    data=(data-dmin)/(dmax-dmin)\n",
        "    # data = np.log(data-dmin+1.0)\n",
        "\n",
        "\n",
        "    # Test data 20%\n",
        "    train_data, test_data, train_label, test_label = \\\n",
        "        train_test_split(data, label, test_size=0.20, stratify=label)\n",
        "\n",
        "    # Train 70%, Validation%10\n",
        "    train_data, val_data, train_label, val_label = \\\n",
        "        train_test_split(train_data, train_label,test_size=0.125, stratify=train_label)\n",
        "\n",
        "\n",
        "    return train_data.astype('float32'), train_label.astype('int32'), \\\n",
        "        val_data.astype('float32'), val_label.astype('int32'), \\\n",
        "            test_data.astype('float32'), test_label.astype('int32')\n"
      ],
      "metadata": {
        "id": "Ju0ccl6nAAbq"
      },
      "execution_count": 26,
      "outputs": []
    },
    {
      "cell_type": "code",
      "source": [
        "# εισαγωγή δεδομένων\n",
        "#train_data, train_labelp, val_data, val_labelp, test_data, test_labelp = loadDataset()\n",
        "train_labelp = train_label.astype('int32')\n",
        "val_labelp = val_label.astype('int32')\n",
        "test_labelp = test_label.astype('int32')\n"
      ],
      "metadata": {
        "id": "FGG1Q4uvjJgS"
      },
      "execution_count": 87,
      "outputs": []
    },
    {
      "cell_type": "code",
      "source": [
        "# to_categorical\n",
        "train_label = to_categorical(train_labelp, nclass)\n",
        "val_label   = to_categorical(val_labelp,   nclass)\n",
        "test_label  = to_categorical(test_labelp,  nclass)\n"
      ],
      "metadata": {
        "id": "dzYGM_i2jgLR"
      },
      "execution_count": 88,
      "outputs": []
    },
    {
      "cell_type": "code",
      "source": [
        "print('train_data.shape=', train_data.shape)\n",
        "print('test_data.shape=',  test_data.shape)\n",
        "print('test_data.shape=',  val_data.shape)\n"
      ],
      "metadata": {
        "colab": {
          "base_uri": "https://localhost:8080/"
        },
        "id": "32tWWSWpjkJX",
        "outputId": "3baddf22-0ebf-4587-f71c-a0f1392f2f3a"
      },
      "execution_count": 89,
      "outputs": [
        {
          "output_type": "stream",
          "name": "stdout",
          "text": [
            "train_data.shape= (10476, 25)\n",
            "test_data.shape= (2994, 25)\n",
            "test_data.shape= (1497, 25)\n"
          ]
        }
      ]
    },
    {
      "cell_type": "code",
      "source": [
        "#get the number of features\n",
        "inshape=train_data.shape[1]\n"
      ],
      "metadata": {
        "id": "6A32cSgojnKH"
      },
      "execution_count": 90,
      "outputs": []
    },
    {
      "cell_type": "code",
      "source": [
        "# Class balancing weights\n",
        "class_weights = class_weight.compute_class_weight(class_weight='balanced',\n",
        "                                                  classes=np.unique(\n",
        "                                                      train_labelp),\n",
        "                                                  y=train_labelp)\n"
      ],
      "metadata": {
        "id": "uQLZi1Rjjwzu"
      },
      "execution_count": 91,
      "outputs": []
    },
    {
      "cell_type": "code",
      "source": [
        "class_weights = {i: class_weights[i] for i in range(len(class_weights))}\n"
      ],
      "metadata": {
        "id": "ffLCjzdhj0EB"
      },
      "execution_count": 92,
      "outputs": []
    },
    {
      "cell_type": "code",
      "source": [],
      "metadata": {
        "id": "ZwkTkc_JIDd_"
      },
      "execution_count": null,
      "outputs": []
    },
    {
      "cell_type": "code",
      "source": [
        "# -- CALLBACKS -----------------------------------------------------------------\n",
        "earlyStopping = EarlyStopping(monitor='val_loss',\n",
        "                              patience=30,\n",
        "                              verbose=0,\n",
        "                              mode='min')\n"
      ],
      "metadata": {
        "id": "71Iccp8Mj312"
      },
      "execution_count": 93,
      "outputs": []
    },
    {
      "cell_type": "code",
      "source": [
        "model = Sequential()\n",
        "model.add(Dense(256, input_dim=inshape, activation='relu'))\n",
        "model.add(Dropout(0.5))\n",
        "model.add(Dense(128, activation='relu'))\n",
        "model.add(Dropout(0.5))\n",
        "model.add(Dense(12, activation='relu'))\n",
        "#model.add(Dense(3, activation='softmax'))\n",
        "#model.compile(optimizer='adam', loss='sparse_categorical_crossentropy', metrics=['accuracy'])\n",
        "model.compile(optimizer='adam', loss='categorical_crossentropy', metrics=['accuracy'])\n"
      ],
      "metadata": {
        "id": "6ICaxRzfKbA-"
      },
      "execution_count": 110,
      "outputs": []
    },
    {
      "cell_type": "code",
      "source": [
        "#modelCheckPoint = ModelCheckpoint('./savemodels/model5class.weights.{epoch:03d}-{val_acc:.4f}.hdf5',\n",
        "#                                  save_best_only=True,\n",
        "#                                  monitor='val_acc',\n",
        "#                                  mode='max')\n",
        "\n",
        "# reduce_lr_loss = ReduceLROnPlateau(monitor='val_loss',\n",
        "#                                   factor=0.1,\n",
        "#                                   patience=7,\n",
        "#                                   verbose=1,\n",
        "#                                   epsilon=1e-4,\n",
        "#                                   mode='min')\n"
      ],
      "metadata": {
        "id": "ERawvTzBj7GF"
      },
      "execution_count": 67,
      "outputs": []
    },
    {
      "cell_type": "code",
      "source": [
        "# -- Baseline models-----------------------------------------------------------\n",
        "\n",
        "# -- Conv1d\n",
        "#model=models_ddos.model_conv1D(lr=1e-4,N=64,inshape=inshape)\n",
        "# -- Dense\n",
        "# model=models_ddos.model_dense(lr=1e-4,N=64,inshape=inshape)\n",
        "# -- LSTM\n",
        "# model=models_ddos.model_lstm(lr=1e-4,N=64,inshape=inshape)\n"
      ],
      "metadata": {
        "id": "VF6-uLhokL6t"
      },
      "execution_count": 106,
      "outputs": []
    },
    {
      "cell_type": "code",
      "source": [
        "model.summary()\n",
        "# -----------------------------------------------------------------------------\n",
        "# print model to an image file\n",
        "# dot_img_file = 'model1.png'\n",
        "# plot_model(model, to_file=dot_img_file, show_shapes=True)\n"
      ],
      "metadata": {
        "colab": {
          "base_uri": "https://localhost:8080/",
          "height": 309
        },
        "id": "2qnAp3_dkPC6",
        "outputId": "8b7ae0ec-7d79-474b-b3c3-95ce45458946"
      },
      "execution_count": 111,
      "outputs": [
        {
          "output_type": "display_data",
          "data": {
            "text/plain": [
              "\u001b[1mModel: \"sequential_5\"\u001b[0m\n"
            ],
            "text/html": [
              "<pre style=\"white-space:pre;overflow-x:auto;line-height:normal;font-family:Menlo,'DejaVu Sans Mono',consolas,'Courier New',monospace\"><span style=\"font-weight: bold\">Model: \"sequential_5\"</span>\n",
              "</pre>\n"
            ]
          },
          "metadata": {}
        },
        {
          "output_type": "display_data",
          "data": {
            "text/plain": [
              "┏━━━━━━━━━━━━━━━━━━━━━━━━━━━━━━━━━━━━━━┳━━━━━━━━━━━━━━━━━━━━━━━━━━━━━┳━━━━━━━━━━━━━━━━━┓\n",
              "┃\u001b[1m \u001b[0m\u001b[1mLayer (type)                        \u001b[0m\u001b[1m \u001b[0m┃\u001b[1m \u001b[0m\u001b[1mOutput Shape               \u001b[0m\u001b[1m \u001b[0m┃\u001b[1m \u001b[0m\u001b[1m        Param #\u001b[0m\u001b[1m \u001b[0m┃\n",
              "┡━━━━━━━━━━━━━━━━━━━━━━━━━━━━━━━━━━━━━━╇━━━━━━━━━━━━━━━━━━━━━━━━━━━━━╇━━━━━━━━━━━━━━━━━┩\n",
              "│ dense_15 (\u001b[38;5;33mDense\u001b[0m)                     │ (\u001b[38;5;45mNone\u001b[0m, \u001b[38;5;34m256\u001b[0m)                 │           \u001b[38;5;34m6,656\u001b[0m │\n",
              "├──────────────────────────────────────┼─────────────────────────────┼─────────────────┤\n",
              "│ dropout_8 (\u001b[38;5;33mDropout\u001b[0m)                  │ (\u001b[38;5;45mNone\u001b[0m, \u001b[38;5;34m256\u001b[0m)                 │               \u001b[38;5;34m0\u001b[0m │\n",
              "├──────────────────────────────────────┼─────────────────────────────┼─────────────────┤\n",
              "│ dense_16 (\u001b[38;5;33mDense\u001b[0m)                     │ (\u001b[38;5;45mNone\u001b[0m, \u001b[38;5;34m128\u001b[0m)                 │          \u001b[38;5;34m32,896\u001b[0m │\n",
              "├──────────────────────────────────────┼─────────────────────────────┼─────────────────┤\n",
              "│ dropout_9 (\u001b[38;5;33mDropout\u001b[0m)                  │ (\u001b[38;5;45mNone\u001b[0m, \u001b[38;5;34m128\u001b[0m)                 │               \u001b[38;5;34m0\u001b[0m │\n",
              "├──────────────────────────────────────┼─────────────────────────────┼─────────────────┤\n",
              "│ dense_17 (\u001b[38;5;33mDense\u001b[0m)                     │ (\u001b[38;5;45mNone\u001b[0m, \u001b[38;5;34m12\u001b[0m)                  │           \u001b[38;5;34m1,548\u001b[0m │\n",
              "└──────────────────────────────────────┴─────────────────────────────┴─────────────────┘\n"
            ],
            "text/html": [
              "<pre style=\"white-space:pre;overflow-x:auto;line-height:normal;font-family:Menlo,'DejaVu Sans Mono',consolas,'Courier New',monospace\">┏━━━━━━━━━━━━━━━━━━━━━━━━━━━━━━━━━━━━━━┳━━━━━━━━━━━━━━━━━━━━━━━━━━━━━┳━━━━━━━━━━━━━━━━━┓\n",
              "┃<span style=\"font-weight: bold\"> Layer (type)                         </span>┃<span style=\"font-weight: bold\"> Output Shape                </span>┃<span style=\"font-weight: bold\">         Param # </span>┃\n",
              "┡━━━━━━━━━━━━━━━━━━━━━━━━━━━━━━━━━━━━━━╇━━━━━━━━━━━━━━━━━━━━━━━━━━━━━╇━━━━━━━━━━━━━━━━━┩\n",
              "│ dense_15 (<span style=\"color: #0087ff; text-decoration-color: #0087ff\">Dense</span>)                     │ (<span style=\"color: #00d7ff; text-decoration-color: #00d7ff\">None</span>, <span style=\"color: #00af00; text-decoration-color: #00af00\">256</span>)                 │           <span style=\"color: #00af00; text-decoration-color: #00af00\">6,656</span> │\n",
              "├──────────────────────────────────────┼─────────────────────────────┼─────────────────┤\n",
              "│ dropout_8 (<span style=\"color: #0087ff; text-decoration-color: #0087ff\">Dropout</span>)                  │ (<span style=\"color: #00d7ff; text-decoration-color: #00d7ff\">None</span>, <span style=\"color: #00af00; text-decoration-color: #00af00\">256</span>)                 │               <span style=\"color: #00af00; text-decoration-color: #00af00\">0</span> │\n",
              "├──────────────────────────────────────┼─────────────────────────────┼─────────────────┤\n",
              "│ dense_16 (<span style=\"color: #0087ff; text-decoration-color: #0087ff\">Dense</span>)                     │ (<span style=\"color: #00d7ff; text-decoration-color: #00d7ff\">None</span>, <span style=\"color: #00af00; text-decoration-color: #00af00\">128</span>)                 │          <span style=\"color: #00af00; text-decoration-color: #00af00\">32,896</span> │\n",
              "├──────────────────────────────────────┼─────────────────────────────┼─────────────────┤\n",
              "│ dropout_9 (<span style=\"color: #0087ff; text-decoration-color: #0087ff\">Dropout</span>)                  │ (<span style=\"color: #00d7ff; text-decoration-color: #00d7ff\">None</span>, <span style=\"color: #00af00; text-decoration-color: #00af00\">128</span>)                 │               <span style=\"color: #00af00; text-decoration-color: #00af00\">0</span> │\n",
              "├──────────────────────────────────────┼─────────────────────────────┼─────────────────┤\n",
              "│ dense_17 (<span style=\"color: #0087ff; text-decoration-color: #0087ff\">Dense</span>)                     │ (<span style=\"color: #00d7ff; text-decoration-color: #00d7ff\">None</span>, <span style=\"color: #00af00; text-decoration-color: #00af00\">12</span>)                  │           <span style=\"color: #00af00; text-decoration-color: #00af00\">1,548</span> │\n",
              "└──────────────────────────────────────┴─────────────────────────────┴─────────────────┘\n",
              "</pre>\n"
            ]
          },
          "metadata": {}
        },
        {
          "output_type": "display_data",
          "data": {
            "text/plain": [
              "\u001b[1m Total params: \u001b[0m\u001b[38;5;34m41,100\u001b[0m (160.55 KB)\n"
            ],
            "text/html": [
              "<pre style=\"white-space:pre;overflow-x:auto;line-height:normal;font-family:Menlo,'DejaVu Sans Mono',consolas,'Courier New',monospace\"><span style=\"font-weight: bold\"> Total params: </span><span style=\"color: #00af00; text-decoration-color: #00af00\">41,100</span> (160.55 KB)\n",
              "</pre>\n"
            ]
          },
          "metadata": {}
        },
        {
          "output_type": "display_data",
          "data": {
            "text/plain": [
              "\u001b[1m Trainable params: \u001b[0m\u001b[38;5;34m41,100\u001b[0m (160.55 KB)\n"
            ],
            "text/html": [
              "<pre style=\"white-space:pre;overflow-x:auto;line-height:normal;font-family:Menlo,'DejaVu Sans Mono',consolas,'Courier New',monospace\"><span style=\"font-weight: bold\"> Trainable params: </span><span style=\"color: #00af00; text-decoration-color: #00af00\">41,100</span> (160.55 KB)\n",
              "</pre>\n"
            ]
          },
          "metadata": {}
        },
        {
          "output_type": "display_data",
          "data": {
            "text/plain": [
              "\u001b[1m Non-trainable params: \u001b[0m\u001b[38;5;34m0\u001b[0m (0.00 B)\n"
            ],
            "text/html": [
              "<pre style=\"white-space:pre;overflow-x:auto;line-height:normal;font-family:Menlo,'DejaVu Sans Mono',consolas,'Courier New',monospace\"><span style=\"font-weight: bold\"> Non-trainable params: </span><span style=\"color: #00af00; text-decoration-color: #00af00\">0</span> (0.00 B)\n",
              "</pre>\n"
            ]
          },
          "metadata": {}
        }
      ]
    },
    {
      "cell_type": "code",
      "source": [
        "# -- TRAIN MODEL --------------------------------------------------------------\n",
        "history = model.fit(train_data,\n",
        "                    train_label,\n",
        "                    shuffle=True,\n",
        "                    epochs=epochs,\n",
        "                    batch_size=256,  # 256,#128,#32, 64\n",
        "                    # validation_data=validation_generator,\n",
        "                    # validation_split=0.2,\n",
        "                    # validation_data=(val_data,val_label),\n",
        "                    validation_data=(val_data, val_label),\n",
        "                    #callbacks=[earlyStopping],\n",
        "                    class_weight=class_weights\n",
        "                    #workers=3\n",
        "                    )\n"
      ],
      "metadata": {
        "colab": {
          "base_uri": "https://localhost:8080/"
        },
        "id": "_tnbJNVXkZaA",
        "outputId": "9d376d69-5f7a-4fc8-f4f2-343b95be52fc"
      },
      "execution_count": null,
      "outputs": [
        {
          "output_type": "stream",
          "name": "stdout",
          "text": [
            "Epoch 1/100\n",
            "\u001b[1m41/41\u001b[0m \u001b[32m━━━━━━━━━━━━━━━━━━━━\u001b[0m\u001b[37m\u001b[0m \u001b[1m2s\u001b[0m 12ms/step - accuracy: 0.3967 - loss: 2.9360 - val_accuracy: 0.7902 - val_loss: 0.8763\n",
            "Epoch 2/100\n",
            "\u001b[1m41/41\u001b[0m \u001b[32m━━━━━━━━━━━━━━━━━━━━\u001b[0m\u001b[37m\u001b[0m \u001b[1m0s\u001b[0m 7ms/step - accuracy: 0.6495 - loss: 0.9280 - val_accuracy: 0.8457 - val_loss: 0.7003\n",
            "Epoch 3/100\n",
            "\u001b[1m41/41\u001b[0m \u001b[32m━━━━━━━━━━━━━━━━━━━━\u001b[0m\u001b[37m\u001b[0m \u001b[1m1s\u001b[0m 7ms/step - accuracy: 0.7432 - loss: 0.8835 - val_accuracy: 0.8731 - val_loss: 0.6997\n",
            "Epoch 4/100\n",
            "\u001b[1m41/41\u001b[0m \u001b[32m━━━━━━━━━━━━━━━━━━━━\u001b[0m\u001b[37m\u001b[0m \u001b[1m0s\u001b[0m 7ms/step - accuracy: 0.7812 - loss: 0.9422 - val_accuracy: 0.8657 - val_loss: 0.6943\n",
            "Epoch 5/100\n",
            "\u001b[1m41/41\u001b[0m \u001b[32m━━━━━━━━━━━━━━━━━━━━\u001b[0m\u001b[37m\u001b[0m \u001b[1m0s\u001b[0m 8ms/step - accuracy: 0.7952 - loss: 0.8931 - val_accuracy: 0.8771 - val_loss: 0.6732\n",
            "Epoch 6/100\n",
            "\u001b[1m41/41\u001b[0m \u001b[32m━━━━━━━━━━━━━━━━━━━━\u001b[0m\u001b[37m\u001b[0m \u001b[1m1s\u001b[0m 7ms/step - accuracy: 0.8045 - loss: 0.8984 - val_accuracy: 0.8851 - val_loss: 0.6650\n",
            "Epoch 7/100\n",
            "\u001b[1m41/41\u001b[0m \u001b[32m━━━━━━━━━━━━━━━━━━━━\u001b[0m\u001b[37m\u001b[0m \u001b[1m1s\u001b[0m 7ms/step - accuracy: 0.8250 - loss: 0.8339 - val_accuracy: 0.8884 - val_loss: 0.6726\n",
            "Epoch 8/100\n",
            "\u001b[1m41/41\u001b[0m \u001b[32m━━━━━━━━━━━━━━━━━━━━\u001b[0m\u001b[37m\u001b[0m \u001b[1m0s\u001b[0m 7ms/step - accuracy: 0.8298 - loss: 0.8674 - val_accuracy: 0.8824 - val_loss: 0.6805\n",
            "Epoch 9/100\n",
            "\u001b[1m41/41\u001b[0m \u001b[32m━━━━━━━━━━━━━━━━━━━━\u001b[0m\u001b[37m\u001b[0m \u001b[1m0s\u001b[0m 7ms/step - accuracy: 0.8291 - loss: 0.7926 - val_accuracy: 0.8884 - val_loss: 0.6616\n",
            "Epoch 10/100\n",
            "\u001b[1m41/41\u001b[0m \u001b[32m━━━━━━━━━━━━━━━━━━━━\u001b[0m\u001b[37m\u001b[0m \u001b[1m1s\u001b[0m 6ms/step - accuracy: 0.8218 - loss: 0.7989 - val_accuracy: 0.8798 - val_loss: 0.7056\n",
            "Epoch 11/100\n",
            "\u001b[1m41/41\u001b[0m \u001b[32m━━━━━━━━━━━━━━━━━━━━\u001b[0m\u001b[37m\u001b[0m \u001b[1m0s\u001b[0m 6ms/step - accuracy: 0.8250 - loss: 0.7765 - val_accuracy: 0.8858 - val_loss: 0.6740\n",
            "Epoch 12/100\n",
            "\u001b[1m41/41\u001b[0m \u001b[32m━━━━━━━━━━━━━━━━━━━━\u001b[0m\u001b[37m\u001b[0m \u001b[1m0s\u001b[0m 8ms/step - accuracy: 0.8261 - loss: 0.8586 - val_accuracy: 0.8884 - val_loss: 0.6806\n",
            "Epoch 13/100\n",
            "\u001b[1m41/41\u001b[0m \u001b[32m━━━━━━━━━━━━━━━━━━━━\u001b[0m\u001b[37m\u001b[0m \u001b[1m0s\u001b[0m 7ms/step - accuracy: 0.8315 - loss: 0.8378 - val_accuracy: 0.8878 - val_loss: 0.6902\n",
            "Epoch 14/100\n",
            "\u001b[1m41/41\u001b[0m \u001b[32m━━━━━━━━━━━━━━━━━━━━\u001b[0m\u001b[37m\u001b[0m \u001b[1m0s\u001b[0m 7ms/step - accuracy: 0.8436 - loss: 0.8023 - val_accuracy: 0.8891 - val_loss: 0.6441\n",
            "Epoch 15/100\n",
            "\u001b[1m41/41\u001b[0m \u001b[32m━━━━━━━━━━━━━━━━━━━━\u001b[0m\u001b[37m\u001b[0m \u001b[1m0s\u001b[0m 8ms/step - accuracy: 0.8423 - loss: 0.7534 - val_accuracy: 0.8891 - val_loss: 0.6642\n",
            "Epoch 16/100\n",
            "\u001b[1m41/41\u001b[0m \u001b[32m━━━━━━━━━━━━━━━━━━━━\u001b[0m\u001b[37m\u001b[0m \u001b[1m0s\u001b[0m 6ms/step - accuracy: 0.8411 - loss: 0.7842 - val_accuracy: 0.8925 - val_loss: 0.6507\n",
            "Epoch 17/100\n",
            "\u001b[1m41/41\u001b[0m \u001b[32m━━━━━━━━━━━━━━━━━━━━\u001b[0m\u001b[37m\u001b[0m \u001b[1m0s\u001b[0m 6ms/step - accuracy: 0.8504 - loss: 0.7933 - val_accuracy: 0.8904 - val_loss: 0.6331\n",
            "Epoch 18/100\n",
            "\u001b[1m41/41\u001b[0m \u001b[32m━━━━━━━━━━━━━━━━━━━━\u001b[0m\u001b[37m\u001b[0m \u001b[1m1s\u001b[0m 12ms/step - accuracy: 0.8473 - loss: 0.7744 - val_accuracy: 0.8918 - val_loss: 0.6345\n",
            "Epoch 19/100\n",
            "\u001b[1m41/41\u001b[0m \u001b[32m━━━━━━━━━━━━━━━━━━━━\u001b[0m\u001b[37m\u001b[0m \u001b[1m0s\u001b[0m 11ms/step - accuracy: 0.8597 - loss: 0.7937 - val_accuracy: 0.8931 - val_loss: 0.6374\n",
            "Epoch 20/100\n",
            "\u001b[1m41/41\u001b[0m \u001b[32m━━━━━━━━━━━━━━━━━━━━\u001b[0m\u001b[37m\u001b[0m \u001b[1m0s\u001b[0m 11ms/step - accuracy: 0.8497 - loss: 0.7745 - val_accuracy: 0.8951 - val_loss: 0.5647\n",
            "Epoch 21/100\n",
            "\u001b[1m41/41\u001b[0m \u001b[32m━━━━━━━━━━━━━━━━━━━━\u001b[0m\u001b[37m\u001b[0m \u001b[1m1s\u001b[0m 12ms/step - accuracy: 0.8590 - loss: 0.7308 - val_accuracy: 0.8951 - val_loss: 0.5686\n",
            "Epoch 22/100\n",
            "\u001b[1m41/41\u001b[0m \u001b[32m━━━━━━━━━━━━━━━━━━━━\u001b[0m\u001b[37m\u001b[0m \u001b[1m1s\u001b[0m 13ms/step - accuracy: 0.8552 - loss: 0.7472 - val_accuracy: 0.8965 - val_loss: 0.5669\n",
            "Epoch 23/100\n",
            "\u001b[1m41/41\u001b[0m \u001b[32m━━━━━━━━━━━━━━━━━━━━\u001b[0m\u001b[37m\u001b[0m \u001b[1m0s\u001b[0m 9ms/step - accuracy: 0.8577 - loss: 0.7854 - val_accuracy: 0.8978 - val_loss: 0.5451\n",
            "Epoch 24/100\n",
            "\u001b[1m41/41\u001b[0m \u001b[32m━━━━━━━━━━━━━━━━━━━━\u001b[0m\u001b[37m\u001b[0m \u001b[1m1s\u001b[0m 6ms/step - accuracy: 0.8596 - loss: 0.7530 - val_accuracy: 0.8971 - val_loss: 0.5466\n",
            "Epoch 25/100\n",
            "\u001b[1m41/41\u001b[0m \u001b[32m━━━━━━━━━━━━━━━━━━━━\u001b[0m\u001b[37m\u001b[0m \u001b[1m0s\u001b[0m 6ms/step - accuracy: 0.8595 - loss: 0.7156 - val_accuracy: 0.8991 - val_loss: 0.5678\n",
            "Epoch 26/100\n",
            "\u001b[1m41/41\u001b[0m \u001b[32m━━━━━━━━━━━━━━━━━━━━\u001b[0m\u001b[37m\u001b[0m \u001b[1m0s\u001b[0m 7ms/step - accuracy: 0.8699 - loss: 0.7154 - val_accuracy: 0.8998 - val_loss: 0.5602\n",
            "Epoch 27/100\n",
            "\u001b[1m41/41\u001b[0m \u001b[32m━━━━━━━━━━━━━━━━━━━━\u001b[0m\u001b[37m\u001b[0m \u001b[1m1s\u001b[0m 6ms/step - accuracy: 0.8584 - loss: 0.7257 - val_accuracy: 0.9005 - val_loss: 0.5393\n",
            "Epoch 28/100\n",
            "\u001b[1m41/41\u001b[0m \u001b[32m━━━━━━━━━━━━━━━━━━━━\u001b[0m\u001b[37m\u001b[0m \u001b[1m0s\u001b[0m 7ms/step - accuracy: 0.8594 - loss: 0.7128 - val_accuracy: 0.8998 - val_loss: 0.5484\n",
            "Epoch 29/100\n",
            "\u001b[1m41/41\u001b[0m \u001b[32m━━━━━━━━━━━━━━━━━━━━\u001b[0m\u001b[37m\u001b[0m \u001b[1m0s\u001b[0m 7ms/step - accuracy: 0.8629 - loss: 0.6543 - val_accuracy: 0.9038 - val_loss: 0.5407\n",
            "Epoch 30/100\n",
            "\u001b[1m41/41\u001b[0m \u001b[32m━━━━━━━━━━━━━━━━━━━━\u001b[0m\u001b[37m\u001b[0m \u001b[1m0s\u001b[0m 7ms/step - accuracy: 0.8640 - loss: 0.6940 - val_accuracy: 0.8978 - val_loss: 0.5507\n",
            "Epoch 31/100\n",
            "\u001b[1m41/41\u001b[0m \u001b[32m━━━━━━━━━━━━━━━━━━━━\u001b[0m\u001b[37m\u001b[0m \u001b[1m0s\u001b[0m 7ms/step - accuracy: 0.8730 - loss: 0.6456 - val_accuracy: 0.8998 - val_loss: 0.5482\n",
            "Epoch 32/100\n",
            "\u001b[1m41/41\u001b[0m \u001b[32m━━━━━━━━━━━━━━━━━━━━\u001b[0m\u001b[37m\u001b[0m \u001b[1m0s\u001b[0m 7ms/step - accuracy: 0.8645 - loss: 0.6631 - val_accuracy: 0.8971 - val_loss: 0.5385\n",
            "Epoch 33/100\n",
            "\u001b[1m41/41\u001b[0m \u001b[32m━━━━━━━━━━━━━━━━━━━━\u001b[0m\u001b[37m\u001b[0m \u001b[1m1s\u001b[0m 7ms/step - accuracy: 0.8648 - loss: 0.6680 - val_accuracy: 0.9005 - val_loss: 0.5419\n",
            "Epoch 34/100\n",
            "\u001b[1m41/41\u001b[0m \u001b[32m━━━━━━━━━━━━━━━━━━━━\u001b[0m\u001b[37m\u001b[0m \u001b[1m1s\u001b[0m 7ms/step - accuracy: 0.8627 - loss: 0.7289 - val_accuracy: 0.9018 - val_loss: 0.5829\n",
            "Epoch 35/100\n",
            "\u001b[1m41/41\u001b[0m \u001b[32m━━━━━━━━━━━━━━━━━━━━\u001b[0m\u001b[37m\u001b[0m \u001b[1m0s\u001b[0m 6ms/step - accuracy: 0.8783 - loss: 0.6460 - val_accuracy: 0.9005 - val_loss: 0.5343\n",
            "Epoch 36/100\n",
            "\u001b[1m41/41\u001b[0m \u001b[32m━━━━━━━━━━━━━━━━━━━━\u001b[0m\u001b[37m\u001b[0m \u001b[1m0s\u001b[0m 7ms/step - accuracy: 0.8689 - loss: 0.6878 - val_accuracy: 0.9011 - val_loss: 0.5788\n",
            "Epoch 37/100\n",
            "\u001b[1m41/41\u001b[0m \u001b[32m━━━━━━━━━━━━━━━━━━━━\u001b[0m\u001b[37m\u001b[0m \u001b[1m1s\u001b[0m 6ms/step - accuracy: 0.8723 - loss: 0.6566 - val_accuracy: 0.9005 - val_loss: 0.6098\n",
            "Epoch 38/100\n",
            "\u001b[1m41/41\u001b[0m \u001b[32m━━━━━━━━━━━━━━━━━━━━\u001b[0m\u001b[37m\u001b[0m \u001b[1m0s\u001b[0m 7ms/step - accuracy: 0.8768 - loss: 0.6520 - val_accuracy: 0.8991 - val_loss: 0.6103\n",
            "Epoch 39/100\n",
            "\u001b[1m41/41\u001b[0m \u001b[32m━━━━━━━━━━━━━━━━━━━━\u001b[0m\u001b[37m\u001b[0m \u001b[1m0s\u001b[0m 7ms/step - accuracy: 0.8712 - loss: 0.6814 - val_accuracy: 0.8998 - val_loss: 0.5727\n",
            "Epoch 40/100\n",
            "\u001b[1m41/41\u001b[0m \u001b[32m━━━━━━━━━━━━━━━━━━━━\u001b[0m\u001b[37m\u001b[0m \u001b[1m0s\u001b[0m 6ms/step - accuracy: 0.8726 - loss: 0.6024 - val_accuracy: 0.8898 - val_loss: 0.5547\n",
            "Epoch 41/100\n",
            "\u001b[1m41/41\u001b[0m \u001b[32m━━━━━━━━━━━━━━━━━━━━\u001b[0m\u001b[37m\u001b[0m \u001b[1m0s\u001b[0m 7ms/step - accuracy: 0.8623 - loss: 0.6117 - val_accuracy: 0.8965 - val_loss: 0.5484\n",
            "Epoch 42/100\n",
            "\u001b[1m41/41\u001b[0m \u001b[32m━━━━━━━━━━━━━━━━━━━━\u001b[0m\u001b[37m\u001b[0m \u001b[1m0s\u001b[0m 7ms/step - accuracy: 0.8713 - loss: 0.6065 - val_accuracy: 0.8958 - val_loss: 0.5377\n",
            "Epoch 43/100\n",
            "\u001b[1m41/41\u001b[0m \u001b[32m━━━━━━━━━━━━━━━━━━━━\u001b[0m\u001b[37m\u001b[0m \u001b[1m0s\u001b[0m 7ms/step - accuracy: 0.8628 - loss: 0.6241 - val_accuracy: 0.8965 - val_loss: 0.5355\n",
            "Epoch 44/100\n",
            "\u001b[1m41/41\u001b[0m \u001b[32m━━━━━━━━━━━━━━━━━━━━\u001b[0m\u001b[37m\u001b[0m \u001b[1m0s\u001b[0m 7ms/step - accuracy: 0.8728 - loss: 0.6366 - val_accuracy: 0.8985 - val_loss: 0.5655\n",
            "Epoch 45/100\n",
            "\u001b[1m41/41\u001b[0m \u001b[32m━━━━━━━━━━━━━━━━━━━━\u001b[0m\u001b[37m\u001b[0m \u001b[1m1s\u001b[0m 7ms/step - accuracy: 0.8714 - loss: 0.6393 - val_accuracy: 0.8998 - val_loss: 0.4974\n",
            "Epoch 46/100\n",
            "\u001b[1m41/41\u001b[0m \u001b[32m━━━━━━━━━━━━━━━━━━━━\u001b[0m\u001b[37m\u001b[0m \u001b[1m0s\u001b[0m 6ms/step - accuracy: 0.8757 - loss: 0.5997 - val_accuracy: 0.9025 - val_loss: 0.5398\n",
            "Epoch 47/100\n",
            "\u001b[1m41/41\u001b[0m \u001b[32m━━━━━━━━━━━━━━━━━━━━\u001b[0m\u001b[37m\u001b[0m \u001b[1m0s\u001b[0m 7ms/step - accuracy: 0.8761 - loss: 0.5886 - val_accuracy: 0.9011 - val_loss: 0.5540\n",
            "Epoch 48/100\n",
            "\u001b[1m41/41\u001b[0m \u001b[32m━━━━━━━━━━━━━━━━━━━━\u001b[0m\u001b[37m\u001b[0m \u001b[1m0s\u001b[0m 7ms/step - accuracy: 0.8758 - loss: 0.6232 - val_accuracy: 0.9011 - val_loss: 0.5530\n",
            "Epoch 49/100\n",
            "\u001b[1m41/41\u001b[0m \u001b[32m━━━━━━━━━━━━━━━━━━━━\u001b[0m\u001b[37m\u001b[0m \u001b[1m1s\u001b[0m 11ms/step - accuracy: 0.8763 - loss: 0.6330 - val_accuracy: 0.9025 - val_loss: 0.5338\n",
            "Epoch 50/100\n",
            "\u001b[1m41/41\u001b[0m \u001b[32m━━━━━━━━━━━━━━━━━━━━\u001b[0m\u001b[37m\u001b[0m \u001b[1m1s\u001b[0m 12ms/step - accuracy: 0.8748 - loss: 0.6309 - val_accuracy: 0.9011 - val_loss: 0.5578\n",
            "Epoch 51/100\n",
            "\u001b[1m41/41\u001b[0m \u001b[32m━━━━━━━━━━━━━━━━━━━━\u001b[0m\u001b[37m\u001b[0m \u001b[1m1s\u001b[0m 11ms/step - accuracy: 0.8789 - loss: 0.5902 - val_accuracy: 0.9025 - val_loss: 0.5210\n",
            "Epoch 52/100\n",
            "\u001b[1m41/41\u001b[0m \u001b[32m━━━━━━━━━━━━━━━━━━━━\u001b[0m\u001b[37m\u001b[0m \u001b[1m1s\u001b[0m 13ms/step - accuracy: 0.8800 - loss: 0.5779 - val_accuracy: 0.9038 - val_loss: 0.4854\n",
            "Epoch 53/100\n",
            "\u001b[1m41/41\u001b[0m \u001b[32m━━━━━━━━━━━━━━━━━━━━\u001b[0m\u001b[37m\u001b[0m \u001b[1m1s\u001b[0m 11ms/step - accuracy: 0.8781 - loss: 0.5980 - val_accuracy: 0.9031 - val_loss: 0.4130\n",
            "Epoch 54/100\n",
            "\u001b[1m41/41\u001b[0m \u001b[32m━━━━━━━━━━━━━━━━━━━━\u001b[0m\u001b[37m\u001b[0m \u001b[1m0s\u001b[0m 7ms/step - accuracy: 0.8748 - loss: 0.6004 - val_accuracy: 0.9045 - val_loss: 0.4257\n",
            "Epoch 55/100\n",
            "\u001b[1m41/41\u001b[0m \u001b[32m━━━━━━━━━━━━━━━━━━━━\u001b[0m\u001b[37m\u001b[0m \u001b[1m0s\u001b[0m 7ms/step - accuracy: 0.8726 - loss: 0.5915 - val_accuracy: 0.9031 - val_loss: 0.4103\n",
            "Epoch 56/100\n",
            "\u001b[1m41/41\u001b[0m \u001b[32m━━━━━━━━━━━━━━━━━━━━\u001b[0m\u001b[37m\u001b[0m \u001b[1m0s\u001b[0m 7ms/step - accuracy: 0.8813 - loss: 0.5550 - val_accuracy: 0.9065 - val_loss: 0.4157\n",
            "Epoch 57/100\n",
            "\u001b[1m41/41\u001b[0m \u001b[32m━━━━━━━━━━━━━━━━━━━━\u001b[0m\u001b[37m\u001b[0m \u001b[1m0s\u001b[0m 7ms/step - accuracy: 0.8780 - loss: 0.5831 - val_accuracy: 0.9031 - val_loss: 0.4387\n",
            "Epoch 58/100\n",
            "\u001b[1m41/41\u001b[0m \u001b[32m━━━━━━━━━━━━━━━━━━━━\u001b[0m\u001b[37m\u001b[0m \u001b[1m0s\u001b[0m 7ms/step - accuracy: 0.8820 - loss: 0.5673 - val_accuracy: 0.9025 - val_loss: 0.4178\n",
            "Epoch 59/100\n",
            "\u001b[1m41/41\u001b[0m \u001b[32m━━━━━━━━━━━━━━━━━━━━\u001b[0m\u001b[37m\u001b[0m \u001b[1m0s\u001b[0m 7ms/step - accuracy: 0.8769 - loss: 0.5479 - val_accuracy: 0.9065 - val_loss: 0.4106\n",
            "Epoch 60/100\n",
            "\u001b[1m41/41\u001b[0m \u001b[32m━━━━━━━━━━━━━━━━━━━━\u001b[0m\u001b[37m\u001b[0m \u001b[1m0s\u001b[0m 8ms/step - accuracy: 0.8830 - loss: 0.5417 - val_accuracy: 0.9058 - val_loss: 0.3999\n",
            "Epoch 61/100\n",
            "\u001b[1m41/41\u001b[0m \u001b[32m━━━━━━━━━━━━━━━━━━━━\u001b[0m\u001b[37m\u001b[0m \u001b[1m1s\u001b[0m 7ms/step - accuracy: 0.8812 - loss: 0.5402 - val_accuracy: 0.9058 - val_loss: 0.4203\n",
            "Epoch 62/100\n",
            "\u001b[1m41/41\u001b[0m \u001b[32m━━━━━━━━━━━━━━━━━━━━\u001b[0m\u001b[37m\u001b[0m \u001b[1m0s\u001b[0m 7ms/step - accuracy: 0.8804 - loss: 0.5448 - val_accuracy: 0.9018 - val_loss: 0.4042\n",
            "Epoch 63/100\n",
            "\u001b[1m41/41\u001b[0m \u001b[32m━━━━━━━━━━━━━━━━━━━━\u001b[0m\u001b[37m\u001b[0m \u001b[1m1s\u001b[0m 6ms/step - accuracy: 0.8856 - loss: 0.5438 - val_accuracy: 0.9025 - val_loss: 0.4211\n",
            "Epoch 64/100\n",
            "\u001b[1m41/41\u001b[0m \u001b[32m━━━━━━━━━━━━━━━━━━━━\u001b[0m\u001b[37m\u001b[0m \u001b[1m0s\u001b[0m 8ms/step - accuracy: 0.8778 - loss: 0.5328 - val_accuracy: 0.9011 - val_loss: 0.4062\n",
            "Epoch 65/100\n",
            "\u001b[1m41/41\u001b[0m \u001b[32m━━━━━━━━━━━━━━━━━━━━\u001b[0m\u001b[37m\u001b[0m \u001b[1m1s\u001b[0m 6ms/step - accuracy: 0.8823 - loss: 0.5166 - val_accuracy: 0.9018 - val_loss: 0.3967\n",
            "Epoch 66/100\n",
            "\u001b[1m41/41\u001b[0m \u001b[32m━━━━━━━━━━━━━━━━━━━━\u001b[0m\u001b[37m\u001b[0m \u001b[1m0s\u001b[0m 7ms/step - accuracy: 0.8838 - loss: 0.5116 - val_accuracy: 0.9011 - val_loss: 0.4301\n",
            "Epoch 67/100\n",
            "\u001b[1m41/41\u001b[0m \u001b[32m━━━━━━━━━━━━━━━━━━━━\u001b[0m\u001b[37m\u001b[0m \u001b[1m1s\u001b[0m 6ms/step - accuracy: 0.8780 - loss: 0.5578 - val_accuracy: 0.9011 - val_loss: 0.4484\n",
            "Epoch 68/100\n",
            "\u001b[1m41/41\u001b[0m \u001b[32m━━━━━━━━━━━━━━━━━━━━\u001b[0m\u001b[37m\u001b[0m \u001b[1m0s\u001b[0m 7ms/step - accuracy: 0.8770 - loss: 0.5514 - val_accuracy: 0.9038 - val_loss: 0.4111\n",
            "Epoch 69/100\n",
            "\u001b[1m41/41\u001b[0m \u001b[32m━━━━━━━━━━━━━━━━━━━━\u001b[0m\u001b[37m\u001b[0m \u001b[1m0s\u001b[0m 7ms/step - accuracy: 0.8774 - loss: 0.5431 - val_accuracy: 0.9045 - val_loss: 0.4043\n",
            "Epoch 70/100\n",
            "\u001b[1m41/41\u001b[0m \u001b[32m━━━━━━━━━━━━━━━━━━━━\u001b[0m\u001b[37m\u001b[0m \u001b[1m0s\u001b[0m 7ms/step - accuracy: 0.8800 - loss: 0.5192 - val_accuracy: 0.9011 - val_loss: 0.4153\n",
            "Epoch 71/100\n",
            "\u001b[1m41/41\u001b[0m \u001b[32m━━━━━━━━━━━━━━━━━━━━\u001b[0m\u001b[37m\u001b[0m \u001b[1m0s\u001b[0m 6ms/step - accuracy: 0.8868 - loss: 0.4994 - val_accuracy: 0.9025 - val_loss: 0.3940\n",
            "Epoch 72/100\n",
            "\u001b[1m41/41\u001b[0m \u001b[32m━━━━━━━━━━━━━━━━━━━━\u001b[0m\u001b[37m\u001b[0m \u001b[1m0s\u001b[0m 8ms/step - accuracy: 0.8819 - loss: 0.5239 - val_accuracy: 0.9038 - val_loss: 0.3929\n",
            "Epoch 73/100\n",
            "\u001b[1m41/41\u001b[0m \u001b[32m━━━━━━━━━━━━━━━━━━━━\u001b[0m\u001b[37m\u001b[0m \u001b[1m0s\u001b[0m 7ms/step - accuracy: 0.8866 - loss: 0.5123 - val_accuracy: 0.9038 - val_loss: 0.3812\n",
            "Epoch 74/100\n",
            "\u001b[1m41/41\u001b[0m \u001b[32m━━━━━━━━━━━━━━━━━━━━\u001b[0m\u001b[37m\u001b[0m \u001b[1m0s\u001b[0m 7ms/step - accuracy: 0.8832 - loss: 0.4946 - val_accuracy: 0.9038 - val_loss: 0.3817\n",
            "Epoch 75/100\n",
            "\u001b[1m41/41\u001b[0m \u001b[32m━━━━━━━━━━━━━━━━━━━━\u001b[0m\u001b[37m\u001b[0m \u001b[1m1s\u001b[0m 7ms/step - accuracy: 0.8897 - loss: 0.5097 - val_accuracy: 0.9038 - val_loss: 0.3794\n",
            "Epoch 76/100\n",
            "\u001b[1m41/41\u001b[0m \u001b[32m━━━━━━━━━━━━━━━━━━━━\u001b[0m\u001b[37m\u001b[0m \u001b[1m0s\u001b[0m 7ms/step - accuracy: 0.8785 - loss: 0.5096 - val_accuracy: 0.9025 - val_loss: 0.4084\n",
            "Epoch 77/100\n",
            "\u001b[1m41/41\u001b[0m \u001b[32m━━━━━━━━━━━━━━━━━━━━\u001b[0m\u001b[37m\u001b[0m \u001b[1m0s\u001b[0m 8ms/step - accuracy: 0.8858 - loss: 0.4959 - val_accuracy: 0.9025 - val_loss: 0.4001\n",
            "Epoch 78/100\n",
            "\u001b[1m41/41\u001b[0m \u001b[32m━━━━━━━━━━━━━━━━━━━━\u001b[0m\u001b[37m\u001b[0m \u001b[1m0s\u001b[0m 7ms/step - accuracy: 0.8826 - loss: 0.5011 - val_accuracy: 0.9071 - val_loss: 0.3908\n",
            "Epoch 79/100\n",
            "\u001b[1m41/41\u001b[0m \u001b[32m━━━━━━━━━━━━━━━━━━━━\u001b[0m\u001b[37m\u001b[0m \u001b[1m0s\u001b[0m 7ms/step - accuracy: 0.8847 - loss: 0.5137 - val_accuracy: 0.9058 - val_loss: 0.3794\n",
            "Epoch 80/100\n",
            "\u001b[1m41/41\u001b[0m \u001b[32m━━━━━━━━━━━━━━━━━━━━\u001b[0m\u001b[37m\u001b[0m \u001b[1m1s\u001b[0m 12ms/step - accuracy: 0.8853 - loss: 0.4670 - val_accuracy: 0.9065 - val_loss: 0.3823\n",
            "Epoch 81/100\n",
            "\u001b[1m41/41\u001b[0m \u001b[32m━━━━━━━━━━━━━━━━━━━━\u001b[0m\u001b[37m\u001b[0m \u001b[1m0s\u001b[0m 10ms/step - accuracy: 0.8858 - loss: 0.4971 - val_accuracy: 0.9058 - val_loss: 0.3729\n",
            "Epoch 82/100\n",
            "\u001b[1m 7/41\u001b[0m \u001b[32m━━━\u001b[0m\u001b[37m━━━━━━━━━━━━━━━━━\u001b[0m \u001b[1m0s\u001b[0m 9ms/step - accuracy: 0.8956 - loss: 0.4413 "
          ]
        }
      ]
    },
    {
      "cell_type": "code",
      "source": [
        "# -- Load best model ----------------------------------------------------------\n",
        "str_models = os.listdir('./savemodels')\n",
        "str_models = np.sort(str_models)\n",
        "best_model = str_models[str_models.size-1]\n",
        "print('best_model=', best_model)\n",
        "model.load_weights('./savemodels/'+best_model)\n"
      ],
      "metadata": {
        "id": "44xDmag5kdQu"
      },
      "execution_count": null,
      "outputs": []
    },
    {
      "cell_type": "code",
      "source": [
        "# --Confusion matrix ----------------------------------------------------------\n",
        "print('TEST DATA-Confusion matrix:')\n",
        "pred = model.predict(test_data)\n",
        "pred_y = pred.argmax(axis=-1)\n",
        "\n",
        "cm = confusion_matrix(test_labelp.astype('int32'), pred_y)\n",
        "print(cm)\n",
        "\n",
        "print('Accuracy ratios for each class')\n",
        "print('WebDDoS      =', cm[0, 0]/np.sum(cm[0, :]))\n",
        "print('BENIGN       =', cm[1, 1]/np.sum(cm[1, :]))\n",
        "print('UDP-lag      =', cm[2, 2]/np.sum(cm[2, :]))\n",
        "print('DrDoS_NTP    =', cm[3, 3]/np.sum(cm[3, :]))\n",
        "print('Syn          =', cm[4, 4]/np.sum(cm[4, :]))\n",
        "print('DrDoS_SSDP   =', cm[5, 5]/np.sum(cm[5, :]))\n",
        "print('DrDoS_UDP    =', cm[6, 6]/np.sum(cm[6, :]))\n",
        "print('DrDoS_NetBIOS=', cm[7, 7]/np.sum(cm[7, :]))\n",
        "print('DrDoS_MSSQL  =', cm[8, 8]/np.sum(cm[8, :]))\n",
        "print('DrDoS_SNMP   =', cm[9, 9]/np.sum(cm[9, :]))\n",
        "print('TFTP         =', cm[10,10]/np.sum(cm[10, :]))\n",
        "print('DrDoS_DNS    =', cm[11,11]/np.sum(cm[11, :]))\n"
      ],
      "metadata": {
        "id": "yhW1kXmUkiuR"
      },
      "execution_count": null,
      "outputs": []
    },
    {
      "cell_type": "code",
      "source": [
        "# -- Confusion matrix plot\n",
        "from sklearn.metrics import confusion_matrix, ConfusionMatrixDisplay\n",
        "label=np.array([\"WebDDoS\",\"BENIGN\",\"UDP-lag\",\"DrDoS_NTP\",\"Syn \",\n",
        "                \"DrDoS_SSDP\",\"DrDoS_UDP\",\"DrDoS_NetBIOS\",\"DrDoS_MSSQL\",\n",
        "                \"DrDoS_SNMP\",\"TFTP\",\"DrDoS_DNS\"])\n",
        "\n",
        "cmo = ConfusionMatrixDisplay(cm,display_labels=label)\n",
        "fig, ax = plt.subplots(figsize=(12,12))\n",
        "cmo.plot(ax=ax, xticks_rotation=45)\n"
      ],
      "metadata": {
        "id": "4eiBAZq7klxM"
      },
      "execution_count": null,
      "outputs": []
    },
    {
      "cell_type": "code",
      "source": [
        "# Plot training and validation accurry and loss graphs\n",
        "acc = history.history['acc']\n",
        "val_acc = history.history['val_acc']\n",
        "loss = history.history['loss']\n",
        "val_loss = history.history['val_loss']\n",
        "\n",
        "np.save('historydata.npy',[acc,val_acc,loss,val_loss])\n",
        "[acc, val_acc, loss, val_loss] = np.load('historydata.npy')\n",
        "\n",
        "plt.figure()\n",
        "epochs = range(len(acc))\n",
        "plt.plot(epochs, acc, 'b', label='Training acc')\n",
        "plt.plot(epochs, val_acc, 'r.', label='Validation acc')\n",
        "plt.title('Training and validation accuracy')\n",
        "plt.xlabel('Epochs')\n",
        "plt.ylabel('Accuracy')\n",
        "\n",
        "plt.legend()\n",
        "plt.figure()\n",
        "plt.plot(epochs, loss, 'b', label='Training loss')\n",
        "plt.plot(epochs, val_loss, 'r.', label='Validation loss')\n",
        "plt.title('Training and validation loss')\n",
        "plt.xlabel('Epochs')\n",
        "plt.ylabel('Loss')\n",
        "plt.legend()\n",
        "plt.show()\n"
      ],
      "metadata": {
        "id": "KgCgiQChk8p8"
      },
      "execution_count": null,
      "outputs": []
    }
  ]
}