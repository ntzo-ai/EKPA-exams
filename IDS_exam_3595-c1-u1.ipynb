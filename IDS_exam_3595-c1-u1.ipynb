{
  "nbformat": 4,
  "nbformat_minor": 0,
  "metadata": {
    "colab": {
      "provenance": [],
      "include_colab_link": true
    },
    "kernelspec": {
      "name": "python3",
      "display_name": "Python 3"
    },
    "language_info": {
      "name": "python"
    }
  },
  "cells": [
    {
      "cell_type": "markdown",
      "metadata": {
        "id": "view-in-github",
        "colab_type": "text"
      },
      "source": [
        "<a href=\"https://colab.research.google.com/github/ntzo-ai/EKPA-exams/blob/main/IDS_exam_3595-c1-u1.ipynb\" target=\"_parent\"><img src=\"https://colab.research.google.com/assets/colab-badge.svg\" alt=\"Open In Colab\"/></a>"
      ]
    },
    {
      "cell_type": "code",
      "execution_count": null,
      "metadata": {
        "colab": {
          "base_uri": "https://localhost:8080/"
        },
        "id": "FMYBJpBujxX1",
        "outputId": "aae3b04b-c8dc-4016-b817-17a8d2947b6c"
      },
      "outputs": [
        {
          "output_type": "stream",
          "name": "stdout",
          "text": [
            "Requirement already satisfied: tensorflow in /usr/local/lib/python3.10/dist-packages (2.15.0)\n",
            "Requirement already satisfied: absl-py>=1.0.0 in /usr/local/lib/python3.10/dist-packages (from tensorflow) (1.4.0)\n",
            "Requirement already satisfied: astunparse>=1.6.0 in /usr/local/lib/python3.10/dist-packages (from tensorflow) (1.6.3)\n",
            "Requirement already satisfied: flatbuffers>=23.5.26 in /usr/local/lib/python3.10/dist-packages (from tensorflow) (23.5.26)\n",
            "Requirement already satisfied: gast!=0.5.0,!=0.5.1,!=0.5.2,>=0.2.1 in /usr/local/lib/python3.10/dist-packages (from tensorflow) (0.5.4)\n",
            "Requirement already satisfied: google-pasta>=0.1.1 in /usr/local/lib/python3.10/dist-packages (from tensorflow) (0.2.0)\n",
            "Requirement already satisfied: h5py>=2.9.0 in /usr/local/lib/python3.10/dist-packages (from tensorflow) (3.9.0)\n",
            "Requirement already satisfied: libclang>=13.0.0 in /usr/local/lib/python3.10/dist-packages (from tensorflow) (16.0.6)\n",
            "Requirement already satisfied: ml-dtypes~=0.2.0 in /usr/local/lib/python3.10/dist-packages (from tensorflow) (0.2.0)\n",
            "Requirement already satisfied: numpy<2.0.0,>=1.23.5 in /usr/local/lib/python3.10/dist-packages (from tensorflow) (1.23.5)\n",
            "Requirement already satisfied: opt-einsum>=2.3.2 in /usr/local/lib/python3.10/dist-packages (from tensorflow) (3.3.0)\n",
            "Requirement already satisfied: packaging in /usr/local/lib/python3.10/dist-packages (from tensorflow) (23.2)\n",
            "Requirement already satisfied: protobuf!=4.21.0,!=4.21.1,!=4.21.2,!=4.21.3,!=4.21.4,!=4.21.5,<5.0.0dev,>=3.20.3 in /usr/local/lib/python3.10/dist-packages (from tensorflow) (3.20.3)\n",
            "Requirement already satisfied: setuptools in /usr/local/lib/python3.10/dist-packages (from tensorflow) (67.7.2)\n",
            "Requirement already satisfied: six>=1.12.0 in /usr/local/lib/python3.10/dist-packages (from tensorflow) (1.16.0)\n",
            "Requirement already satisfied: termcolor>=1.1.0 in /usr/local/lib/python3.10/dist-packages (from tensorflow) (2.4.0)\n",
            "Requirement already satisfied: typing-extensions>=3.6.6 in /usr/local/lib/python3.10/dist-packages (from tensorflow) (4.5.0)\n",
            "Requirement already satisfied: wrapt<1.15,>=1.11.0 in /usr/local/lib/python3.10/dist-packages (from tensorflow) (1.14.1)\n",
            "Requirement already satisfied: tensorflow-io-gcs-filesystem>=0.23.1 in /usr/local/lib/python3.10/dist-packages (from tensorflow) (0.34.0)\n",
            "Requirement already satisfied: grpcio<2.0,>=1.24.3 in /usr/local/lib/python3.10/dist-packages (from tensorflow) (1.60.0)\n",
            "Requirement already satisfied: tensorboard<2.16,>=2.15 in /usr/local/lib/python3.10/dist-packages (from tensorflow) (2.15.1)\n",
            "Requirement already satisfied: tensorflow-estimator<2.16,>=2.15.0 in /usr/local/lib/python3.10/dist-packages (from tensorflow) (2.15.0)\n",
            "Requirement already satisfied: keras<2.16,>=2.15.0 in /usr/local/lib/python3.10/dist-packages (from tensorflow) (2.15.0)\n",
            "Requirement already satisfied: wheel<1.0,>=0.23.0 in /usr/local/lib/python3.10/dist-packages (from astunparse>=1.6.0->tensorflow) (0.42.0)\n",
            "Requirement already satisfied: google-auth<3,>=1.6.3 in /usr/local/lib/python3.10/dist-packages (from tensorboard<2.16,>=2.15->tensorflow) (2.17.3)\n",
            "Requirement already satisfied: google-auth-oauthlib<2,>=0.5 in /usr/local/lib/python3.10/dist-packages (from tensorboard<2.16,>=2.15->tensorflow) (1.2.0)\n",
            "Requirement already satisfied: markdown>=2.6.8 in /usr/local/lib/python3.10/dist-packages (from tensorboard<2.16,>=2.15->tensorflow) (3.5.1)\n",
            "Requirement already satisfied: requests<3,>=2.21.0 in /usr/local/lib/python3.10/dist-packages (from tensorboard<2.16,>=2.15->tensorflow) (2.31.0)\n",
            "Requirement already satisfied: tensorboard-data-server<0.8.0,>=0.7.0 in /usr/local/lib/python3.10/dist-packages (from tensorboard<2.16,>=2.15->tensorflow) (0.7.2)\n",
            "Requirement already satisfied: werkzeug>=1.0.1 in /usr/local/lib/python3.10/dist-packages (from tensorboard<2.16,>=2.15->tensorflow) (3.0.1)\n",
            "Requirement already satisfied: cachetools<6.0,>=2.0.0 in /usr/local/lib/python3.10/dist-packages (from google-auth<3,>=1.6.3->tensorboard<2.16,>=2.15->tensorflow) (5.3.2)\n",
            "Requirement already satisfied: pyasn1-modules>=0.2.1 in /usr/local/lib/python3.10/dist-packages (from google-auth<3,>=1.6.3->tensorboard<2.16,>=2.15->tensorflow) (0.3.0)\n",
            "Requirement already satisfied: rsa<5,>=3.1.4 in /usr/local/lib/python3.10/dist-packages (from google-auth<3,>=1.6.3->tensorboard<2.16,>=2.15->tensorflow) (4.9)\n",
            "Requirement already satisfied: requests-oauthlib>=0.7.0 in /usr/local/lib/python3.10/dist-packages (from google-auth-oauthlib<2,>=0.5->tensorboard<2.16,>=2.15->tensorflow) (1.3.1)\n",
            "Requirement already satisfied: charset-normalizer<4,>=2 in /usr/local/lib/python3.10/dist-packages (from requests<3,>=2.21.0->tensorboard<2.16,>=2.15->tensorflow) (3.3.2)\n",
            "Requirement already satisfied: idna<4,>=2.5 in /usr/local/lib/python3.10/dist-packages (from requests<3,>=2.21.0->tensorboard<2.16,>=2.15->tensorflow) (3.6)\n",
            "Requirement already satisfied: urllib3<3,>=1.21.1 in /usr/local/lib/python3.10/dist-packages (from requests<3,>=2.21.0->tensorboard<2.16,>=2.15->tensorflow) (2.0.7)\n",
            "Requirement already satisfied: certifi>=2017.4.17 in /usr/local/lib/python3.10/dist-packages (from requests<3,>=2.21.0->tensorboard<2.16,>=2.15->tensorflow) (2023.11.17)\n",
            "Requirement already satisfied: MarkupSafe>=2.1.1 in /usr/local/lib/python3.10/dist-packages (from werkzeug>=1.0.1->tensorboard<2.16,>=2.15->tensorflow) (2.1.3)\n",
            "Requirement already satisfied: pyasn1<0.6.0,>=0.4.6 in /usr/local/lib/python3.10/dist-packages (from pyasn1-modules>=0.2.1->google-auth<3,>=1.6.3->tensorboard<2.16,>=2.15->tensorflow) (0.5.1)\n",
            "Requirement already satisfied: oauthlib>=3.0.0 in /usr/local/lib/python3.10/dist-packages (from requests-oauthlib>=0.7.0->google-auth-oauthlib<2,>=0.5->tensorboard<2.16,>=2.15->tensorflow) (3.2.2)\n",
            "Requirement already satisfied: scikit-learn in /usr/local/lib/python3.10/dist-packages (1.2.2)\n",
            "Requirement already satisfied: numpy>=1.17.3 in /usr/local/lib/python3.10/dist-packages (from scikit-learn) (1.23.5)\n",
            "Requirement already satisfied: scipy>=1.3.2 in /usr/local/lib/python3.10/dist-packages (from scikit-learn) (1.11.4)\n",
            "Requirement already satisfied: joblib>=1.1.1 in /usr/local/lib/python3.10/dist-packages (from scikit-learn) (1.3.2)\n",
            "Requirement already satisfied: threadpoolctl>=2.0.0 in /usr/local/lib/python3.10/dist-packages (from scikit-learn) (3.2.0)\n"
          ]
        }
      ],
      "source": [
        "#εγκατάσταση πακέτου tensorflow (hhttps://www.tensorflow.org/)\n",
        "!pip install tensorflow\n",
        "#εγκατάσταση πακέτου scikit-learn (https://scikit-learn.org/)\n",
        "!pip install scikit-learn"
      ]
    },
    {
      "cell_type": "code",
      "source": [
        "#εισαγωγή βιβλιοθηκών - πακέτων\n",
        "import matplotlib.pyplot as plt\n",
        "from tensorflow.keras.utils import plot_model\n",
        "import pandas as pd\n",
        "import numpy as np\n",
        "from sklearn.model_selection import train_test_split\n",
        "from sklearn.metrics import confusion_matrix\n",
        "from keras.callbacks import ModelCheckpoint, EarlyStopping\n",
        "import os\n",
        "from tensorflow.keras.utils import to_categorical\n",
        "from sklearn.utils import class_weight\n",
        "from models import models_ddos"
      ],
      "metadata": {
        "collapsed": true,
        "id": "NKteLMvn50yf"
      },
      "execution_count": null,
      "outputs": []
    },
    {
      "cell_type": "code",
      "source": [
        "epochs = 100\n",
        "nclass = 12"
      ],
      "metadata": {
        "id": "MLA3okX8i1ci"
      },
      "execution_count": null,
      "outputs": []
    },
    {
      "cell_type": "code",
      "source": [
        "#συνάρτηση εισαγωγής συνόλου δεδομένων\n",
        "def loadDataset():\n",
        "    # Put dataset path here !\n",
        "    filename='https://raw.githubusercontent.com/kdemertzis/EKPA/main/Data/pcap_data.csv'\n",
        "\n",
        "    trainfile = pd.read_csv(filename)\n",
        "    data = pd.DataFrame(trainfile).to_numpy()\n",
        "    data=data[data[:,67]!='DrDoS_LDAP']\n",
        "    np.random.shuffle(data)\n",
        "\n",
        "    label = data[:, 67].astype('str')\n",
        "\n",
        "    label[label == 'WebDDoS']       = 0\n",
        "    label[label == 'BENIGN']        = 1\n",
        "    label[label == 'UDP-lag']       = 2\n",
        "    label[label == 'DrDoS_NTP']     = 3\n",
        "    label[label == 'Syn']           = 4\n",
        "    label[label == 'DrDoS_SSDP']    = 5\n",
        "    label[label == 'DrDoS_UDP']     = 6\n",
        "    label[label == 'DrDoS_NetBIOS'] = 7\n",
        "    label[label == 'DrDoS_MSSQL']   = 8\n",
        "    label[label == 'DrDoS_SNMP']    = 9\n",
        "    label[label == 'TFTP']          = 10\n",
        "    label[label == 'DrDoS_DNS']     = 11\n",
        "    #label[label == 'DrDoS_LDAP']     = 11\n",
        "\n",
        "    # SELECT FEATURES ----------------------------------------------------\n",
        "    inx_sel=-1+np.array([38,47,37,48,11,9,7,52,10,36,1,34,4,17,19,57,21,\n",
        "                         18,22,24,32,50,23,55,51,5,3,39,40,43,58,12,25,\n",
        "                         20,2,35,67,33,6,53])\n",
        "\n",
        "    # MIN-MAX normalization\n",
        "    data=data[:,inx_sel]\n",
        "    dmin = data.min(axis=0)\n",
        "    dmax = data.max(axis=0)\n",
        "    data=(data-dmin)/(dmax-dmin)\n",
        "    # data = np.log(data-dmin+1.0)\n",
        "\n",
        "\n",
        "    # Test data 20%\n",
        "    train_data, test_data, train_label, test_label = \\\n",
        "        train_test_split(data, label, test_size=0.20, stratify=label)\n",
        "\n",
        "    # Train 70%, Validation%10\n",
        "    train_data, val_data, train_label, val_label = \\\n",
        "        train_test_split(train_data, train_label,test_size=0.125, stratify=train_label)\n",
        "\n",
        "\n",
        "    return train_data.astype('float32'), train_label.astype('int32'), \\\n",
        "        val_data.astype('float32'), val_label.astype('int32'), \\\n",
        "            test_data.astype('float32'), test_label.astype('int32')\n"
      ],
      "metadata": {
        "id": "Ju0ccl6nAAbq"
      },
      "execution_count": null,
      "outputs": []
    },
    {
      "cell_type": "code",
      "source": [
        "# εισαγωγή δεδομένων\n",
        "train_data, train_labelp, val_data, val_labelp, test_data, test_labelp = loadDataset()\n"
      ],
      "metadata": {
        "id": "FGG1Q4uvjJgS"
      },
      "execution_count": null,
      "outputs": []
    },
    {
      "cell_type": "code",
      "source": [
        "# to_categorical\n",
        "train_label = to_categorical(train_labelp, nclass)\n",
        "val_label   = to_categorical(val_labelp,   nclass)\n",
        "test_label  = to_categorical(test_labelp,  nclass)\n"
      ],
      "metadata": {
        "id": "dzYGM_i2jgLR"
      },
      "execution_count": null,
      "outputs": []
    },
    {
      "cell_type": "code",
      "source": [
        "print('train_data.shape=', train_data.shape)\n",
        "print('test_data.shape=',  test_data.shape)\n",
        "print('test_data.shape=',  val_data.shape)\n"
      ],
      "metadata": {
        "id": "32tWWSWpjkJX"
      },
      "execution_count": null,
      "outputs": []
    },
    {
      "cell_type": "code",
      "source": [
        "#get the number of features\n",
        "inshape=train_data.shape[1]\n"
      ],
      "metadata": {
        "id": "6A32cSgojnKH"
      },
      "execution_count": null,
      "outputs": []
    },
    {
      "cell_type": "code",
      "source": [
        "# Class balancing weights\n",
        "class_weights = class_weight.compute_class_weight(class_weight='balanced',\n",
        "                                                  classes=np.unique(\n",
        "                                                      train_labelp),\n",
        "                                                  y=train_labelp)\n"
      ],
      "metadata": {
        "id": "uQLZi1Rjjwzu"
      },
      "execution_count": null,
      "outputs": []
    },
    {
      "cell_type": "code",
      "source": [
        "class_weights = {i: class_weights[i] for i in range(len(class_weights))}\n"
      ],
      "metadata": {
        "id": "ffLCjzdhj0EB"
      },
      "execution_count": null,
      "outputs": []
    },
    {
      "cell_type": "code",
      "source": [
        "# -- CALLBACKS -----------------------------------------------------------------\n",
        "earlyStopping = EarlyStopping(monitor='val_loss',\n",
        "                              patience=30,\n",
        "                              verbose=0,\n",
        "                              mode='min')\n"
      ],
      "metadata": {
        "id": "71Iccp8Mj312"
      },
      "execution_count": null,
      "outputs": []
    },
    {
      "cell_type": "code",
      "source": [
        "modelCheckPoint = ModelCheckpoint('./savemodels/model5class.weights.{epoch:03d}-{val_acc:.4f}.hdf5',\n",
        "                                  save_best_only=True,\n",
        "                                  monitor='val_acc',\n",
        "                                  mode='max')\n",
        "\n",
        "# reduce_lr_loss = ReduceLROnPlateau(monitor='val_loss',\n",
        "#                                   factor=0.1,\n",
        "#                                   patience=7,\n",
        "#                                   verbose=1,\n",
        "#                                   epsilon=1e-4,\n",
        "#                                   mode='min')\n"
      ],
      "metadata": {
        "id": "ERawvTzBj7GF"
      },
      "execution_count": null,
      "outputs": []
    },
    {
      "cell_type": "code",
      "source": [
        "# -- Baseline models-----------------------------------------------------------\n",
        "\n",
        "# -- Conv1d\n",
        "model=models_ddos.model_conv1D(lr=1e-4,N=64,inshape=inshape)\n",
        "# -- Dense\n",
        "# model=models_ddos.model_dense(lr=1e-4,N=64,inshape=inshape)\n",
        "# -- LSTM\n",
        "# model=models_ddos.model_lstm(lr=1e-4,N=64,inshape=inshape)\n"
      ],
      "metadata": {
        "id": "VF6-uLhokL6t"
      },
      "execution_count": null,
      "outputs": []
    },
    {
      "cell_type": "code",
      "source": [
        "model.summary()\n",
        "# -----------------------------------------------------------------------------\n",
        "# print model to an image file\n",
        "# dot_img_file = 'model1.png'\n",
        "# plot_model(model, to_file=dot_img_file, show_shapes=True)\n"
      ],
      "metadata": {
        "id": "2qnAp3_dkPC6"
      },
      "execution_count": null,
      "outputs": []
    },
    {
      "cell_type": "code",
      "source": [
        "# -- TRAIN MODEL --------------------------------------------------------------\n",
        "history = model.fit(train_data,\n",
        "                    train_label,\n",
        "                    shuffle=True,\n",
        "                    epochs=epochs,\n",
        "                    batch_size=256,  # 256,#128,#32, 64\n",
        "                    # validation_data=validation_generator,\n",
        "                    # validation_split=0.2,\n",
        "                    # validation_data=(val_data,val_label),\n",
        "                    validation_data=(val_data, val_label),\n",
        "                    callbacks=[modelCheckPoint],\n",
        "                    class_weight=class_weights,\n",
        "                    workers=3)\n"
      ],
      "metadata": {
        "id": "_tnbJNVXkZaA"
      },
      "execution_count": null,
      "outputs": []
    },
    {
      "cell_type": "code",
      "source": [
        "# -- Load best model ----------------------------------------------------------\n",
        "str_models = os.listdir('./savemodels')\n",
        "str_models = np.sort(str_models)\n",
        "best_model = str_models[str_models.size-1]\n",
        "print('best_model=', best_model)\n",
        "model.load_weights('./savemodels/'+best_model)\n"
      ],
      "metadata": {
        "id": "44xDmag5kdQu"
      },
      "execution_count": null,
      "outputs": []
    },
    {
      "cell_type": "code",
      "source": [
        "# --Confusion matrix ----------------------------------------------------------\n",
        "print('TEST DATA-Confusion matrix:')\n",
        "pred = model.predict(test_data)\n",
        "pred_y = pred.argmax(axis=-1)\n",
        "\n",
        "cm = confusion_matrix(test_labelp.astype('int32'), pred_y)\n",
        "print(cm)\n",
        "\n",
        "print('Accuracy ratios for each class')\n",
        "print('WebDDoS      =', cm[0, 0]/np.sum(cm[0, :]))\n",
        "print('BENIGN       =', cm[1, 1]/np.sum(cm[1, :]))\n",
        "print('UDP-lag      =', cm[2, 2]/np.sum(cm[2, :]))\n",
        "print('DrDoS_NTP    =', cm[3, 3]/np.sum(cm[3, :]))\n",
        "print('Syn          =', cm[4, 4]/np.sum(cm[4, :]))\n",
        "print('DrDoS_SSDP   =', cm[5, 5]/np.sum(cm[5, :]))\n",
        "print('DrDoS_UDP    =', cm[6, 6]/np.sum(cm[6, :]))\n",
        "print('DrDoS_NetBIOS=', cm[7, 7]/np.sum(cm[7, :]))\n",
        "print('DrDoS_MSSQL  =', cm[8, 8]/np.sum(cm[8, :]))\n",
        "print('DrDoS_SNMP   =', cm[9, 9]/np.sum(cm[9, :]))\n",
        "print('TFTP         =', cm[10,10]/np.sum(cm[10, :]))\n",
        "print('DrDoS_DNS    =', cm[11,11]/np.sum(cm[11, :]))\n"
      ],
      "metadata": {
        "id": "yhW1kXmUkiuR"
      },
      "execution_count": null,
      "outputs": []
    },
    {
      "cell_type": "code",
      "source": [
        "# -- Confusion matrix plot\n",
        "from sklearn.metrics import confusion_matrix, ConfusionMatrixDisplay\n",
        "label=np.array([\"WebDDoS\",\"BENIGN\",\"UDP-lag\",\"DrDoS_NTP\",\"Syn \",\n",
        "                \"DrDoS_SSDP\",\"DrDoS_UDP\",\"DrDoS_NetBIOS\",\"DrDoS_MSSQL\",\n",
        "                \"DrDoS_SNMP\",\"TFTP\",\"DrDoS_DNS\"])\n",
        "\n",
        "cmo = ConfusionMatrixDisplay(cm,display_labels=label)\n",
        "fig, ax = plt.subplots(figsize=(12,12))\n",
        "cmo.plot(ax=ax, xticks_rotation=45)\n"
      ],
      "metadata": {
        "id": "4eiBAZq7klxM"
      },
      "execution_count": null,
      "outputs": []
    },
    {
      "cell_type": "code",
      "source": [
        "# Plot training and validation accurry and loss graphs\n",
        "acc = history.history['acc']\n",
        "val_acc = history.history['val_acc']\n",
        "loss = history.history['loss']\n",
        "val_loss = history.history['val_loss']\n",
        "\n",
        "np.save('historydata.npy',[acc,val_acc,loss,val_loss])\n",
        "[acc, val_acc, loss, val_loss] = np.load('historydata.npy')\n",
        "\n",
        "plt.figure()\n",
        "epochs = range(len(acc))\n",
        "plt.plot(epochs, acc, 'b', label='Training acc')\n",
        "plt.plot(epochs, val_acc, 'r.', label='Validation acc')\n",
        "plt.title('Training and validation accuracy')\n",
        "plt.xlabel('Epochs')\n",
        "plt.ylabel('Accuracy')\n",
        "\n",
        "plt.legend()\n",
        "plt.figure()\n",
        "plt.plot(epochs, loss, 'b', label='Training loss')\n",
        "plt.plot(epochs, val_loss, 'r.', label='Validation loss')\n",
        "plt.title('Training and validation loss')\n",
        "plt.xlabel('Epochs')\n",
        "plt.ylabel('Loss')\n",
        "plt.legend()\n",
        "plt.show()\n"
      ],
      "metadata": {
        "id": "KgCgiQChk8p8"
      },
      "execution_count": null,
      "outputs": []
    }
  ]
}