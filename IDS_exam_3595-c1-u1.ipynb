{
  "nbformat": 4,
  "nbformat_minor": 0,
  "metadata": {
    "colab": {
      "provenance": [],
      "include_colab_link": true
    },
    "kernelspec": {
      "name": "python3",
      "display_name": "Python 3"
    },
    "language_info": {
      "name": "python"
    }
  },
  "cells": [
    {
      "cell_type": "markdown",
      "metadata": {
        "id": "view-in-github",
        "colab_type": "text"
      },
      "source": [
        "<a href=\"https://colab.research.google.com/github/ntzo-ai/EKPA-exams/blob/main/IDS_exam_3595-c1-u1.ipynb\" target=\"_parent\"><img src=\"https://colab.research.google.com/assets/colab-badge.svg\" alt=\"Open In Colab\"/></a>"
      ]
    },
    {
      "cell_type": "code",
      "execution_count": 171,
      "metadata": {
        "colab": {
          "base_uri": "https://localhost:8080/"
        },
        "id": "FMYBJpBujxX1",
        "outputId": "c1a0915a-bbe3-41b6-ef92-c8de2b958a49",
        "collapsed": true
      },
      "outputs": [
        {
          "output_type": "stream",
          "name": "stdout",
          "text": [
            "Requirement already satisfied: tensorflow in /usr/local/lib/python3.10/dist-packages (2.17.0)\n",
            "Requirement already satisfied: absl-py>=1.0.0 in /usr/local/lib/python3.10/dist-packages (from tensorflow) (1.4.0)\n",
            "Requirement already satisfied: astunparse>=1.6.0 in /usr/local/lib/python3.10/dist-packages (from tensorflow) (1.6.3)\n",
            "Requirement already satisfied: flatbuffers>=24.3.25 in /usr/local/lib/python3.10/dist-packages (from tensorflow) (24.3.25)\n",
            "Requirement already satisfied: gast!=0.5.0,!=0.5.1,!=0.5.2,>=0.2.1 in /usr/local/lib/python3.10/dist-packages (from tensorflow) (0.6.0)\n",
            "Requirement already satisfied: google-pasta>=0.1.1 in /usr/local/lib/python3.10/dist-packages (from tensorflow) (0.2.0)\n",
            "Requirement already satisfied: h5py>=3.10.0 in /usr/local/lib/python3.10/dist-packages (from tensorflow) (3.11.0)\n",
            "Requirement already satisfied: libclang>=13.0.0 in /usr/local/lib/python3.10/dist-packages (from tensorflow) (18.1.1)\n",
            "Requirement already satisfied: ml-dtypes<0.5.0,>=0.3.1 in /usr/local/lib/python3.10/dist-packages (from tensorflow) (0.4.0)\n",
            "Requirement already satisfied: opt-einsum>=2.3.2 in /usr/local/lib/python3.10/dist-packages (from tensorflow) (3.3.0)\n",
            "Requirement already satisfied: packaging in /usr/local/lib/python3.10/dist-packages (from tensorflow) (24.1)\n",
            "Requirement already satisfied: protobuf!=4.21.0,!=4.21.1,!=4.21.2,!=4.21.3,!=4.21.4,!=4.21.5,<5.0.0dev,>=3.20.3 in /usr/local/lib/python3.10/dist-packages (from tensorflow) (3.20.3)\n",
            "Requirement already satisfied: requests<3,>=2.21.0 in /usr/local/lib/python3.10/dist-packages (from tensorflow) (2.31.0)\n",
            "Requirement already satisfied: setuptools in /usr/local/lib/python3.10/dist-packages (from tensorflow) (71.0.4)\n",
            "Requirement already satisfied: six>=1.12.0 in /usr/local/lib/python3.10/dist-packages (from tensorflow) (1.16.0)\n",
            "Requirement already satisfied: termcolor>=1.1.0 in /usr/local/lib/python3.10/dist-packages (from tensorflow) (2.4.0)\n",
            "Requirement already satisfied: typing-extensions>=3.6.6 in /usr/local/lib/python3.10/dist-packages (from tensorflow) (4.12.2)\n",
            "Requirement already satisfied: wrapt>=1.11.0 in /usr/local/lib/python3.10/dist-packages (from tensorflow) (1.16.0)\n",
            "Requirement already satisfied: grpcio<2.0,>=1.24.3 in /usr/local/lib/python3.10/dist-packages (from tensorflow) (1.64.1)\n",
            "Requirement already satisfied: tensorboard<2.18,>=2.17 in /usr/local/lib/python3.10/dist-packages (from tensorflow) (2.17.0)\n",
            "Requirement already satisfied: keras>=3.2.0 in /usr/local/lib/python3.10/dist-packages (from tensorflow) (3.4.1)\n",
            "Requirement already satisfied: tensorflow-io-gcs-filesystem>=0.23.1 in /usr/local/lib/python3.10/dist-packages (from tensorflow) (0.37.1)\n",
            "Requirement already satisfied: numpy<2.0.0,>=1.23.5 in /usr/local/lib/python3.10/dist-packages (from tensorflow) (1.26.4)\n",
            "Requirement already satisfied: wheel<1.0,>=0.23.0 in /usr/local/lib/python3.10/dist-packages (from astunparse>=1.6.0->tensorflow) (0.43.0)\n",
            "Requirement already satisfied: rich in /usr/local/lib/python3.10/dist-packages (from keras>=3.2.0->tensorflow) (13.7.1)\n",
            "Requirement already satisfied: namex in /usr/local/lib/python3.10/dist-packages (from keras>=3.2.0->tensorflow) (0.0.8)\n",
            "Requirement already satisfied: optree in /usr/local/lib/python3.10/dist-packages (from keras>=3.2.0->tensorflow) (0.12.1)\n",
            "Requirement already satisfied: charset-normalizer<4,>=2 in /usr/local/lib/python3.10/dist-packages (from requests<3,>=2.21.0->tensorflow) (3.3.2)\n",
            "Requirement already satisfied: idna<4,>=2.5 in /usr/local/lib/python3.10/dist-packages (from requests<3,>=2.21.0->tensorflow) (3.7)\n",
            "Requirement already satisfied: urllib3<3,>=1.21.1 in /usr/local/lib/python3.10/dist-packages (from requests<3,>=2.21.0->tensorflow) (2.0.7)\n",
            "Requirement already satisfied: certifi>=2017.4.17 in /usr/local/lib/python3.10/dist-packages (from requests<3,>=2.21.0->tensorflow) (2024.7.4)\n",
            "Requirement already satisfied: markdown>=2.6.8 in /usr/local/lib/python3.10/dist-packages (from tensorboard<2.18,>=2.17->tensorflow) (3.6)\n",
            "Requirement already satisfied: tensorboard-data-server<0.8.0,>=0.7.0 in /usr/local/lib/python3.10/dist-packages (from tensorboard<2.18,>=2.17->tensorflow) (0.7.2)\n",
            "Requirement already satisfied: werkzeug>=1.0.1 in /usr/local/lib/python3.10/dist-packages (from tensorboard<2.18,>=2.17->tensorflow) (3.0.3)\n",
            "Requirement already satisfied: MarkupSafe>=2.1.1 in /usr/local/lib/python3.10/dist-packages (from werkzeug>=1.0.1->tensorboard<2.18,>=2.17->tensorflow) (2.1.5)\n",
            "Requirement already satisfied: markdown-it-py>=2.2.0 in /usr/local/lib/python3.10/dist-packages (from rich->keras>=3.2.0->tensorflow) (3.0.0)\n",
            "Requirement already satisfied: pygments<3.0.0,>=2.13.0 in /usr/local/lib/python3.10/dist-packages (from rich->keras>=3.2.0->tensorflow) (2.16.1)\n",
            "Requirement already satisfied: mdurl~=0.1 in /usr/local/lib/python3.10/dist-packages (from markdown-it-py>=2.2.0->rich->keras>=3.2.0->tensorflow) (0.1.2)\n",
            "Requirement already satisfied: scikit-learn in /usr/local/lib/python3.10/dist-packages (1.3.2)\n",
            "Requirement already satisfied: numpy<2.0,>=1.17.3 in /usr/local/lib/python3.10/dist-packages (from scikit-learn) (1.26.4)\n",
            "Requirement already satisfied: scipy>=1.5.0 in /usr/local/lib/python3.10/dist-packages (from scikit-learn) (1.13.1)\n",
            "Requirement already satisfied: joblib>=1.1.1 in /usr/local/lib/python3.10/dist-packages (from scikit-learn) (1.4.2)\n",
            "Requirement already satisfied: threadpoolctl>=2.0.0 in /usr/local/lib/python3.10/dist-packages (from scikit-learn) (3.5.0)\n"
          ]
        }
      ],
      "source": [
        "#εγκατάσταση πακέτου tensorflow (hhttps://www.tensorflow.org/)\n",
        "!pip install tensorflow\n",
        "#εγκατάσταση πακέτου scikit-learn (https://scikit-learn.org/)\n",
        "!pip install scikit-learn"
      ]
    },
    {
      "cell_type": "code",
      "source": [
        "#εισαγωγή βιβλιοθηκών - πακέτων\n",
        "import matplotlib.pyplot as plt\n",
        "from tensorflow.keras.utils import plot_model\n",
        "import pandas as pd\n",
        "import numpy as np\n",
        "from sklearn.model_selection import train_test_split\n",
        "from sklearn.metrics import confusion_matrix\n",
        "from keras.callbacks import ModelCheckpoint, EarlyStopping\n",
        "import os\n",
        "from tensorflow.keras.utils import to_categorical\n",
        "from sklearn.utils import class_weight\n",
        "from tensorflow.keras.models import Sequential, load_model\n",
        "from tensorflow.keras.layers import Dense, Dropout\n",
        "#from models import models_ddos"
      ],
      "metadata": {
        "collapsed": true,
        "id": "NKteLMvn50yf"
      },
      "execution_count": 172,
      "outputs": []
    },
    {
      "cell_type": "code",
      "source": [
        "epochs = 100\n",
        "nclass = 12"
      ],
      "metadata": {
        "id": "MLA3okX8i1ci"
      },
      "execution_count": 173,
      "outputs": []
    },
    {
      "cell_type": "code",
      "source": [
        "filename='https://raw.githubusercontent.com/kdemertzis/EKPA/main/Data/pcap_data.csv'\n",
        "trainfile = pd.read_csv(filename)"
      ],
      "metadata": {
        "id": "AUKXkzITpCZ0"
      },
      "execution_count": 174,
      "outputs": []
    },
    {
      "cell_type": "code",
      "source": [
        "X = trainfile.drop('target', axis=1).values\n",
        "y = trainfile['target'].values"
      ],
      "metadata": {
        "id": "9oMZn4N1DiFz"
      },
      "execution_count": 175,
      "outputs": []
    },
    {
      "cell_type": "code",
      "source": [
        "# preview data\n",
        "trainfile"
      ],
      "metadata": {
        "colab": {
          "base_uri": "https://localhost:8080/",
          "height": 444
        },
        "id": "ufPHjGEgpNdM",
        "outputId": "8e086610-9bdd-4ca5-e318-30fba04dde78"
      },
      "execution_count": 176,
      "outputs": [
        {
          "output_type": "execute_result",
          "data": {
            "text/plain": [
              "       Avg_syn_flag  Avg_urg_flag  Avg_fin_flag  Avg_ack_flag  Avg_psh_flag  \\\n",
              "0         -0.230455      4.523595     -1.276876      0.814947     -0.016410   \n",
              "1         -2.088776      2.387204      0.338205      1.419440      0.114833   \n",
              "2         -0.043220      3.578791     -1.073984      0.313930     -1.774397   \n",
              "3          0.065305      3.761012      1.174174      0.761965      0.857883   \n",
              "4          3.875263      1.385111     -2.633112     -0.545981     -1.570862   \n",
              "...             ...           ...           ...           ...           ...   \n",
              "14962     -3.192606     -1.159784     -0.386309     -0.105074     -0.107793   \n",
              "14963     -7.199283      4.577420     -1.613215     -0.015272      1.073862   \n",
              "14964     -0.007487     -0.180756      0.784125      1.721070     -0.533631   \n",
              "14965      1.445870      2.772480     -1.270662     -0.782050     -1.234697   \n",
              "14966     -0.638764     -6.275966      0.756690      1.635436     -0.105537   \n",
              "\n",
              "       Avg_rst_flag  Avg_DNS_pkt  Avg_TCP_pkt  Avg_UDP_pkt  Avg_ICMP_pkt  ...  \\\n",
              "0         -2.995087     1.063889    -2.371085    -2.840079     -0.283463  ...   \n",
              "1          0.913599     0.847367    -0.008734    -1.058475      0.342997  ...   \n",
              "2         -1.006298     0.929811    -3.432328    -1.932374      0.318437  ...   \n",
              "3         -0.597540    -0.022305     1.695764     3.305753      0.792997  ...   \n",
              "4         -3.460744    -1.882090    -2.115882    -2.954608      0.986303  ...   \n",
              "...             ...          ...          ...          ...           ...  ...   \n",
              "14962     -0.540932    -0.485289     2.149890    -0.554747     -0.135449  ...   \n",
              "14963     -3.216205    -0.116166    -2.068878    -3.190195     -0.399831  ...   \n",
              "14964      4.626391    -0.525302    -0.375373    -0.774585     -0.545721  ...   \n",
              "14965     -1.643252    -0.323688     1.084773    -1.915505     -1.512685  ...   \n",
              "14966      0.419051    -0.876240    -1.145220    -5.285614     -0.943485  ...   \n",
              "\n",
              "       Min_pkts_lenght  Max_pkts_lenght  StDev_pkts_lenght  \\\n",
              "0             3.665958        -5.104394           0.690436   \n",
              "1             9.115390        -1.441248           1.710273   \n",
              "2            -0.061857        -1.210975           0.435881   \n",
              "3             0.742680        -1.267473          -0.327164   \n",
              "4             2.235826        -0.848212          -0.320711   \n",
              "...                ...              ...                ...   \n",
              "14962         7.936132         4.298986           0.116460   \n",
              "14963        18.453197        -2.415395           0.371743   \n",
              "14964         1.046151         0.321264           0.352068   \n",
              "14965         3.998477        -1.506464           1.351880   \n",
              "14966         5.509366         2.083734           0.278251   \n",
              "\n",
              "       Avg_small_payload_pkt  Avg_payload  Min_payload  Max_payload  \\\n",
              "0                  -1.584535    -2.282169    -6.064334    -0.756736   \n",
              "1                  -0.274751     0.349761     8.602419     0.337548   \n",
              "2                   1.494576     0.074463    -5.532110    -0.088565   \n",
              "3                   0.188910    -0.122022     2.977927    -0.472563   \n",
              "4                  -1.145686     1.356040    -5.251642     0.787477   \n",
              "...                      ...          ...          ...          ...   \n",
              "14962               1.734781     0.577618     1.044769     0.465201   \n",
              "14963               0.666308     0.721392     7.164678    -3.207508   \n",
              "14964               0.626728    -1.726936     3.406459     1.001524   \n",
              "14965              -0.888374     0.556023    -1.140645    -1.716910   \n",
              "14966              -2.454970     0.569676    -1.904983     0.419630   \n",
              "\n",
              "       StDev_payload  Avg_DNS_over_TCP  target  \n",
              "0          -1.488713          0.694093     2.0  \n",
              "1           0.362154          1.193261     0.0  \n",
              "2           0.702886          0.104589     2.0  \n",
              "3           1.779231         -0.058810     1.0  \n",
              "4           1.194117          3.840521     1.0  \n",
              "...              ...               ...     ...  \n",
              "14962      -0.093720         -2.138540     2.0  \n",
              "14963       1.898327         -4.891586     0.0  \n",
              "14964      -1.691021         -0.158612     2.0  \n",
              "14965       3.324111         -1.771521     1.0  \n",
              "14966       0.113833          1.510204     2.0  \n",
              "\n",
              "[14967 rows x 26 columns]"
            ],
            "text/html": [
              "\n",
              "  <div id=\"df-3ec28cd5-94d5-45d7-afda-3b5d51abe22e\" class=\"colab-df-container\">\n",
              "    <div>\n",
              "<style scoped>\n",
              "    .dataframe tbody tr th:only-of-type {\n",
              "        vertical-align: middle;\n",
              "    }\n",
              "\n",
              "    .dataframe tbody tr th {\n",
              "        vertical-align: top;\n",
              "    }\n",
              "\n",
              "    .dataframe thead th {\n",
              "        text-align: right;\n",
              "    }\n",
              "</style>\n",
              "<table border=\"1\" class=\"dataframe\">\n",
              "  <thead>\n",
              "    <tr style=\"text-align: right;\">\n",
              "      <th></th>\n",
              "      <th>Avg_syn_flag</th>\n",
              "      <th>Avg_urg_flag</th>\n",
              "      <th>Avg_fin_flag</th>\n",
              "      <th>Avg_ack_flag</th>\n",
              "      <th>Avg_psh_flag</th>\n",
              "      <th>Avg_rst_flag</th>\n",
              "      <th>Avg_DNS_pkt</th>\n",
              "      <th>Avg_TCP_pkt</th>\n",
              "      <th>Avg_UDP_pkt</th>\n",
              "      <th>Avg_ICMP_pkt</th>\n",
              "      <th>...</th>\n",
              "      <th>Min_pkts_lenght</th>\n",
              "      <th>Max_pkts_lenght</th>\n",
              "      <th>StDev_pkts_lenght</th>\n",
              "      <th>Avg_small_payload_pkt</th>\n",
              "      <th>Avg_payload</th>\n",
              "      <th>Min_payload</th>\n",
              "      <th>Max_payload</th>\n",
              "      <th>StDev_payload</th>\n",
              "      <th>Avg_DNS_over_TCP</th>\n",
              "      <th>target</th>\n",
              "    </tr>\n",
              "  </thead>\n",
              "  <tbody>\n",
              "    <tr>\n",
              "      <th>0</th>\n",
              "      <td>-0.230455</td>\n",
              "      <td>4.523595</td>\n",
              "      <td>-1.276876</td>\n",
              "      <td>0.814947</td>\n",
              "      <td>-0.016410</td>\n",
              "      <td>-2.995087</td>\n",
              "      <td>1.063889</td>\n",
              "      <td>-2.371085</td>\n",
              "      <td>-2.840079</td>\n",
              "      <td>-0.283463</td>\n",
              "      <td>...</td>\n",
              "      <td>3.665958</td>\n",
              "      <td>-5.104394</td>\n",
              "      <td>0.690436</td>\n",
              "      <td>-1.584535</td>\n",
              "      <td>-2.282169</td>\n",
              "      <td>-6.064334</td>\n",
              "      <td>-0.756736</td>\n",
              "      <td>-1.488713</td>\n",
              "      <td>0.694093</td>\n",
              "      <td>2.0</td>\n",
              "    </tr>\n",
              "    <tr>\n",
              "      <th>1</th>\n",
              "      <td>-2.088776</td>\n",
              "      <td>2.387204</td>\n",
              "      <td>0.338205</td>\n",
              "      <td>1.419440</td>\n",
              "      <td>0.114833</td>\n",
              "      <td>0.913599</td>\n",
              "      <td>0.847367</td>\n",
              "      <td>-0.008734</td>\n",
              "      <td>-1.058475</td>\n",
              "      <td>0.342997</td>\n",
              "      <td>...</td>\n",
              "      <td>9.115390</td>\n",
              "      <td>-1.441248</td>\n",
              "      <td>1.710273</td>\n",
              "      <td>-0.274751</td>\n",
              "      <td>0.349761</td>\n",
              "      <td>8.602419</td>\n",
              "      <td>0.337548</td>\n",
              "      <td>0.362154</td>\n",
              "      <td>1.193261</td>\n",
              "      <td>0.0</td>\n",
              "    </tr>\n",
              "    <tr>\n",
              "      <th>2</th>\n",
              "      <td>-0.043220</td>\n",
              "      <td>3.578791</td>\n",
              "      <td>-1.073984</td>\n",
              "      <td>0.313930</td>\n",
              "      <td>-1.774397</td>\n",
              "      <td>-1.006298</td>\n",
              "      <td>0.929811</td>\n",
              "      <td>-3.432328</td>\n",
              "      <td>-1.932374</td>\n",
              "      <td>0.318437</td>\n",
              "      <td>...</td>\n",
              "      <td>-0.061857</td>\n",
              "      <td>-1.210975</td>\n",
              "      <td>0.435881</td>\n",
              "      <td>1.494576</td>\n",
              "      <td>0.074463</td>\n",
              "      <td>-5.532110</td>\n",
              "      <td>-0.088565</td>\n",
              "      <td>0.702886</td>\n",
              "      <td>0.104589</td>\n",
              "      <td>2.0</td>\n",
              "    </tr>\n",
              "    <tr>\n",
              "      <th>3</th>\n",
              "      <td>0.065305</td>\n",
              "      <td>3.761012</td>\n",
              "      <td>1.174174</td>\n",
              "      <td>0.761965</td>\n",
              "      <td>0.857883</td>\n",
              "      <td>-0.597540</td>\n",
              "      <td>-0.022305</td>\n",
              "      <td>1.695764</td>\n",
              "      <td>3.305753</td>\n",
              "      <td>0.792997</td>\n",
              "      <td>...</td>\n",
              "      <td>0.742680</td>\n",
              "      <td>-1.267473</td>\n",
              "      <td>-0.327164</td>\n",
              "      <td>0.188910</td>\n",
              "      <td>-0.122022</td>\n",
              "      <td>2.977927</td>\n",
              "      <td>-0.472563</td>\n",
              "      <td>1.779231</td>\n",
              "      <td>-0.058810</td>\n",
              "      <td>1.0</td>\n",
              "    </tr>\n",
              "    <tr>\n",
              "      <th>4</th>\n",
              "      <td>3.875263</td>\n",
              "      <td>1.385111</td>\n",
              "      <td>-2.633112</td>\n",
              "      <td>-0.545981</td>\n",
              "      <td>-1.570862</td>\n",
              "      <td>-3.460744</td>\n",
              "      <td>-1.882090</td>\n",
              "      <td>-2.115882</td>\n",
              "      <td>-2.954608</td>\n",
              "      <td>0.986303</td>\n",
              "      <td>...</td>\n",
              "      <td>2.235826</td>\n",
              "      <td>-0.848212</td>\n",
              "      <td>-0.320711</td>\n",
              "      <td>-1.145686</td>\n",
              "      <td>1.356040</td>\n",
              "      <td>-5.251642</td>\n",
              "      <td>0.787477</td>\n",
              "      <td>1.194117</td>\n",
              "      <td>3.840521</td>\n",
              "      <td>1.0</td>\n",
              "    </tr>\n",
              "    <tr>\n",
              "      <th>...</th>\n",
              "      <td>...</td>\n",
              "      <td>...</td>\n",
              "      <td>...</td>\n",
              "      <td>...</td>\n",
              "      <td>...</td>\n",
              "      <td>...</td>\n",
              "      <td>...</td>\n",
              "      <td>...</td>\n",
              "      <td>...</td>\n",
              "      <td>...</td>\n",
              "      <td>...</td>\n",
              "      <td>...</td>\n",
              "      <td>...</td>\n",
              "      <td>...</td>\n",
              "      <td>...</td>\n",
              "      <td>...</td>\n",
              "      <td>...</td>\n",
              "      <td>...</td>\n",
              "      <td>...</td>\n",
              "      <td>...</td>\n",
              "      <td>...</td>\n",
              "    </tr>\n",
              "    <tr>\n",
              "      <th>14962</th>\n",
              "      <td>-3.192606</td>\n",
              "      <td>-1.159784</td>\n",
              "      <td>-0.386309</td>\n",
              "      <td>-0.105074</td>\n",
              "      <td>-0.107793</td>\n",
              "      <td>-0.540932</td>\n",
              "      <td>-0.485289</td>\n",
              "      <td>2.149890</td>\n",
              "      <td>-0.554747</td>\n",
              "      <td>-0.135449</td>\n",
              "      <td>...</td>\n",
              "      <td>7.936132</td>\n",
              "      <td>4.298986</td>\n",
              "      <td>0.116460</td>\n",
              "      <td>1.734781</td>\n",
              "      <td>0.577618</td>\n",
              "      <td>1.044769</td>\n",
              "      <td>0.465201</td>\n",
              "      <td>-0.093720</td>\n",
              "      <td>-2.138540</td>\n",
              "      <td>2.0</td>\n",
              "    </tr>\n",
              "    <tr>\n",
              "      <th>14963</th>\n",
              "      <td>-7.199283</td>\n",
              "      <td>4.577420</td>\n",
              "      <td>-1.613215</td>\n",
              "      <td>-0.015272</td>\n",
              "      <td>1.073862</td>\n",
              "      <td>-3.216205</td>\n",
              "      <td>-0.116166</td>\n",
              "      <td>-2.068878</td>\n",
              "      <td>-3.190195</td>\n",
              "      <td>-0.399831</td>\n",
              "      <td>...</td>\n",
              "      <td>18.453197</td>\n",
              "      <td>-2.415395</td>\n",
              "      <td>0.371743</td>\n",
              "      <td>0.666308</td>\n",
              "      <td>0.721392</td>\n",
              "      <td>7.164678</td>\n",
              "      <td>-3.207508</td>\n",
              "      <td>1.898327</td>\n",
              "      <td>-4.891586</td>\n",
              "      <td>0.0</td>\n",
              "    </tr>\n",
              "    <tr>\n",
              "      <th>14964</th>\n",
              "      <td>-0.007487</td>\n",
              "      <td>-0.180756</td>\n",
              "      <td>0.784125</td>\n",
              "      <td>1.721070</td>\n",
              "      <td>-0.533631</td>\n",
              "      <td>4.626391</td>\n",
              "      <td>-0.525302</td>\n",
              "      <td>-0.375373</td>\n",
              "      <td>-0.774585</td>\n",
              "      <td>-0.545721</td>\n",
              "      <td>...</td>\n",
              "      <td>1.046151</td>\n",
              "      <td>0.321264</td>\n",
              "      <td>0.352068</td>\n",
              "      <td>0.626728</td>\n",
              "      <td>-1.726936</td>\n",
              "      <td>3.406459</td>\n",
              "      <td>1.001524</td>\n",
              "      <td>-1.691021</td>\n",
              "      <td>-0.158612</td>\n",
              "      <td>2.0</td>\n",
              "    </tr>\n",
              "    <tr>\n",
              "      <th>14965</th>\n",
              "      <td>1.445870</td>\n",
              "      <td>2.772480</td>\n",
              "      <td>-1.270662</td>\n",
              "      <td>-0.782050</td>\n",
              "      <td>-1.234697</td>\n",
              "      <td>-1.643252</td>\n",
              "      <td>-0.323688</td>\n",
              "      <td>1.084773</td>\n",
              "      <td>-1.915505</td>\n",
              "      <td>-1.512685</td>\n",
              "      <td>...</td>\n",
              "      <td>3.998477</td>\n",
              "      <td>-1.506464</td>\n",
              "      <td>1.351880</td>\n",
              "      <td>-0.888374</td>\n",
              "      <td>0.556023</td>\n",
              "      <td>-1.140645</td>\n",
              "      <td>-1.716910</td>\n",
              "      <td>3.324111</td>\n",
              "      <td>-1.771521</td>\n",
              "      <td>1.0</td>\n",
              "    </tr>\n",
              "    <tr>\n",
              "      <th>14966</th>\n",
              "      <td>-0.638764</td>\n",
              "      <td>-6.275966</td>\n",
              "      <td>0.756690</td>\n",
              "      <td>1.635436</td>\n",
              "      <td>-0.105537</td>\n",
              "      <td>0.419051</td>\n",
              "      <td>-0.876240</td>\n",
              "      <td>-1.145220</td>\n",
              "      <td>-5.285614</td>\n",
              "      <td>-0.943485</td>\n",
              "      <td>...</td>\n",
              "      <td>5.509366</td>\n",
              "      <td>2.083734</td>\n",
              "      <td>0.278251</td>\n",
              "      <td>-2.454970</td>\n",
              "      <td>0.569676</td>\n",
              "      <td>-1.904983</td>\n",
              "      <td>0.419630</td>\n",
              "      <td>0.113833</td>\n",
              "      <td>1.510204</td>\n",
              "      <td>2.0</td>\n",
              "    </tr>\n",
              "  </tbody>\n",
              "</table>\n",
              "<p>14967 rows × 26 columns</p>\n",
              "</div>\n",
              "    <div class=\"colab-df-buttons\">\n",
              "\n",
              "  <div class=\"colab-df-container\">\n",
              "    <button class=\"colab-df-convert\" onclick=\"convertToInteractive('df-3ec28cd5-94d5-45d7-afda-3b5d51abe22e')\"\n",
              "            title=\"Convert this dataframe to an interactive table.\"\n",
              "            style=\"display:none;\">\n",
              "\n",
              "  <svg xmlns=\"http://www.w3.org/2000/svg\" height=\"24px\" viewBox=\"0 -960 960 960\">\n",
              "    <path d=\"M120-120v-720h720v720H120Zm60-500h600v-160H180v160Zm220 220h160v-160H400v160Zm0 220h160v-160H400v160ZM180-400h160v-160H180v160Zm440 0h160v-160H620v160ZM180-180h160v-160H180v160Zm440 0h160v-160H620v160Z\"/>\n",
              "  </svg>\n",
              "    </button>\n",
              "\n",
              "  <style>\n",
              "    .colab-df-container {\n",
              "      display:flex;\n",
              "      gap: 12px;\n",
              "    }\n",
              "\n",
              "    .colab-df-convert {\n",
              "      background-color: #E8F0FE;\n",
              "      border: none;\n",
              "      border-radius: 50%;\n",
              "      cursor: pointer;\n",
              "      display: none;\n",
              "      fill: #1967D2;\n",
              "      height: 32px;\n",
              "      padding: 0 0 0 0;\n",
              "      width: 32px;\n",
              "    }\n",
              "\n",
              "    .colab-df-convert:hover {\n",
              "      background-color: #E2EBFA;\n",
              "      box-shadow: 0px 1px 2px rgba(60, 64, 67, 0.3), 0px 1px 3px 1px rgba(60, 64, 67, 0.15);\n",
              "      fill: #174EA6;\n",
              "    }\n",
              "\n",
              "    .colab-df-buttons div {\n",
              "      margin-bottom: 4px;\n",
              "    }\n",
              "\n",
              "    [theme=dark] .colab-df-convert {\n",
              "      background-color: #3B4455;\n",
              "      fill: #D2E3FC;\n",
              "    }\n",
              "\n",
              "    [theme=dark] .colab-df-convert:hover {\n",
              "      background-color: #434B5C;\n",
              "      box-shadow: 0px 1px 3px 1px rgba(0, 0, 0, 0.15);\n",
              "      filter: drop-shadow(0px 1px 2px rgba(0, 0, 0, 0.3));\n",
              "      fill: #FFFFFF;\n",
              "    }\n",
              "  </style>\n",
              "\n",
              "    <script>\n",
              "      const buttonEl =\n",
              "        document.querySelector('#df-3ec28cd5-94d5-45d7-afda-3b5d51abe22e button.colab-df-convert');\n",
              "      buttonEl.style.display =\n",
              "        google.colab.kernel.accessAllowed ? 'block' : 'none';\n",
              "\n",
              "      async function convertToInteractive(key) {\n",
              "        const element = document.querySelector('#df-3ec28cd5-94d5-45d7-afda-3b5d51abe22e');\n",
              "        const dataTable =\n",
              "          await google.colab.kernel.invokeFunction('convertToInteractive',\n",
              "                                                    [key], {});\n",
              "        if (!dataTable) return;\n",
              "\n",
              "        const docLinkHtml = 'Like what you see? Visit the ' +\n",
              "          '<a target=\"_blank\" href=https://colab.research.google.com/notebooks/data_table.ipynb>data table notebook</a>'\n",
              "          + ' to learn more about interactive tables.';\n",
              "        element.innerHTML = '';\n",
              "        dataTable['output_type'] = 'display_data';\n",
              "        await google.colab.output.renderOutput(dataTable, element);\n",
              "        const docLink = document.createElement('div');\n",
              "        docLink.innerHTML = docLinkHtml;\n",
              "        element.appendChild(docLink);\n",
              "      }\n",
              "    </script>\n",
              "  </div>\n",
              "\n",
              "\n",
              "<div id=\"df-c87f03d9-13c9-485e-925c-e514c0119497\">\n",
              "  <button class=\"colab-df-quickchart\" onclick=\"quickchart('df-c87f03d9-13c9-485e-925c-e514c0119497')\"\n",
              "            title=\"Suggest charts\"\n",
              "            style=\"display:none;\">\n",
              "\n",
              "<svg xmlns=\"http://www.w3.org/2000/svg\" height=\"24px\"viewBox=\"0 0 24 24\"\n",
              "     width=\"24px\">\n",
              "    <g>\n",
              "        <path d=\"M19 3H5c-1.1 0-2 .9-2 2v14c0 1.1.9 2 2 2h14c1.1 0 2-.9 2-2V5c0-1.1-.9-2-2-2zM9 17H7v-7h2v7zm4 0h-2V7h2v10zm4 0h-2v-4h2v4z\"/>\n",
              "    </g>\n",
              "</svg>\n",
              "  </button>\n",
              "\n",
              "<style>\n",
              "  .colab-df-quickchart {\n",
              "      --bg-color: #E8F0FE;\n",
              "      --fill-color: #1967D2;\n",
              "      --hover-bg-color: #E2EBFA;\n",
              "      --hover-fill-color: #174EA6;\n",
              "      --disabled-fill-color: #AAA;\n",
              "      --disabled-bg-color: #DDD;\n",
              "  }\n",
              "\n",
              "  [theme=dark] .colab-df-quickchart {\n",
              "      --bg-color: #3B4455;\n",
              "      --fill-color: #D2E3FC;\n",
              "      --hover-bg-color: #434B5C;\n",
              "      --hover-fill-color: #FFFFFF;\n",
              "      --disabled-bg-color: #3B4455;\n",
              "      --disabled-fill-color: #666;\n",
              "  }\n",
              "\n",
              "  .colab-df-quickchart {\n",
              "    background-color: var(--bg-color);\n",
              "    border: none;\n",
              "    border-radius: 50%;\n",
              "    cursor: pointer;\n",
              "    display: none;\n",
              "    fill: var(--fill-color);\n",
              "    height: 32px;\n",
              "    padding: 0;\n",
              "    width: 32px;\n",
              "  }\n",
              "\n",
              "  .colab-df-quickchart:hover {\n",
              "    background-color: var(--hover-bg-color);\n",
              "    box-shadow: 0 1px 2px rgba(60, 64, 67, 0.3), 0 1px 3px 1px rgba(60, 64, 67, 0.15);\n",
              "    fill: var(--button-hover-fill-color);\n",
              "  }\n",
              "\n",
              "  .colab-df-quickchart-complete:disabled,\n",
              "  .colab-df-quickchart-complete:disabled:hover {\n",
              "    background-color: var(--disabled-bg-color);\n",
              "    fill: var(--disabled-fill-color);\n",
              "    box-shadow: none;\n",
              "  }\n",
              "\n",
              "  .colab-df-spinner {\n",
              "    border: 2px solid var(--fill-color);\n",
              "    border-color: transparent;\n",
              "    border-bottom-color: var(--fill-color);\n",
              "    animation:\n",
              "      spin 1s steps(1) infinite;\n",
              "  }\n",
              "\n",
              "  @keyframes spin {\n",
              "    0% {\n",
              "      border-color: transparent;\n",
              "      border-bottom-color: var(--fill-color);\n",
              "      border-left-color: var(--fill-color);\n",
              "    }\n",
              "    20% {\n",
              "      border-color: transparent;\n",
              "      border-left-color: var(--fill-color);\n",
              "      border-top-color: var(--fill-color);\n",
              "    }\n",
              "    30% {\n",
              "      border-color: transparent;\n",
              "      border-left-color: var(--fill-color);\n",
              "      border-top-color: var(--fill-color);\n",
              "      border-right-color: var(--fill-color);\n",
              "    }\n",
              "    40% {\n",
              "      border-color: transparent;\n",
              "      border-right-color: var(--fill-color);\n",
              "      border-top-color: var(--fill-color);\n",
              "    }\n",
              "    60% {\n",
              "      border-color: transparent;\n",
              "      border-right-color: var(--fill-color);\n",
              "    }\n",
              "    80% {\n",
              "      border-color: transparent;\n",
              "      border-right-color: var(--fill-color);\n",
              "      border-bottom-color: var(--fill-color);\n",
              "    }\n",
              "    90% {\n",
              "      border-color: transparent;\n",
              "      border-bottom-color: var(--fill-color);\n",
              "    }\n",
              "  }\n",
              "</style>\n",
              "\n",
              "  <script>\n",
              "    async function quickchart(key) {\n",
              "      const quickchartButtonEl =\n",
              "        document.querySelector('#' + key + ' button');\n",
              "      quickchartButtonEl.disabled = true;  // To prevent multiple clicks.\n",
              "      quickchartButtonEl.classList.add('colab-df-spinner');\n",
              "      try {\n",
              "        const charts = await google.colab.kernel.invokeFunction(\n",
              "            'suggestCharts', [key], {});\n",
              "      } catch (error) {\n",
              "        console.error('Error during call to suggestCharts:', error);\n",
              "      }\n",
              "      quickchartButtonEl.classList.remove('colab-df-spinner');\n",
              "      quickchartButtonEl.classList.add('colab-df-quickchart-complete');\n",
              "    }\n",
              "    (() => {\n",
              "      let quickchartButtonEl =\n",
              "        document.querySelector('#df-c87f03d9-13c9-485e-925c-e514c0119497 button');\n",
              "      quickchartButtonEl.style.display =\n",
              "        google.colab.kernel.accessAllowed ? 'block' : 'none';\n",
              "    })();\n",
              "  </script>\n",
              "</div>\n",
              "\n",
              "  <div id=\"id_d9f29ecd-ad2e-4635-a476-5ab36221a836\">\n",
              "    <style>\n",
              "      .colab-df-generate {\n",
              "        background-color: #E8F0FE;\n",
              "        border: none;\n",
              "        border-radius: 50%;\n",
              "        cursor: pointer;\n",
              "        display: none;\n",
              "        fill: #1967D2;\n",
              "        height: 32px;\n",
              "        padding: 0 0 0 0;\n",
              "        width: 32px;\n",
              "      }\n",
              "\n",
              "      .colab-df-generate:hover {\n",
              "        background-color: #E2EBFA;\n",
              "        box-shadow: 0px 1px 2px rgba(60, 64, 67, 0.3), 0px 1px 3px 1px rgba(60, 64, 67, 0.15);\n",
              "        fill: #174EA6;\n",
              "      }\n",
              "\n",
              "      [theme=dark] .colab-df-generate {\n",
              "        background-color: #3B4455;\n",
              "        fill: #D2E3FC;\n",
              "      }\n",
              "\n",
              "      [theme=dark] .colab-df-generate:hover {\n",
              "        background-color: #434B5C;\n",
              "        box-shadow: 0px 1px 3px 1px rgba(0, 0, 0, 0.15);\n",
              "        filter: drop-shadow(0px 1px 2px rgba(0, 0, 0, 0.3));\n",
              "        fill: #FFFFFF;\n",
              "      }\n",
              "    </style>\n",
              "    <button class=\"colab-df-generate\" onclick=\"generateWithVariable('trainfile')\"\n",
              "            title=\"Generate code using this dataframe.\"\n",
              "            style=\"display:none;\">\n",
              "\n",
              "  <svg xmlns=\"http://www.w3.org/2000/svg\" height=\"24px\"viewBox=\"0 0 24 24\"\n",
              "       width=\"24px\">\n",
              "    <path d=\"M7,19H8.4L18.45,9,17,7.55,7,17.6ZM5,21V16.75L18.45,3.32a2,2,0,0,1,2.83,0l1.4,1.43a1.91,1.91,0,0,1,.58,1.4,1.91,1.91,0,0,1-.58,1.4L9.25,21ZM18.45,9,17,7.55Zm-12,3A5.31,5.31,0,0,0,4.9,8.1,5.31,5.31,0,0,0,1,6.5,5.31,5.31,0,0,0,4.9,4.9,5.31,5.31,0,0,0,6.5,1,5.31,5.31,0,0,0,8.1,4.9,5.31,5.31,0,0,0,12,6.5,5.46,5.46,0,0,0,6.5,12Z\"/>\n",
              "  </svg>\n",
              "    </button>\n",
              "    <script>\n",
              "      (() => {\n",
              "      const buttonEl =\n",
              "        document.querySelector('#id_d9f29ecd-ad2e-4635-a476-5ab36221a836 button.colab-df-generate');\n",
              "      buttonEl.style.display =\n",
              "        google.colab.kernel.accessAllowed ? 'block' : 'none';\n",
              "\n",
              "      buttonEl.onclick = () => {\n",
              "        google.colab.notebook.generateWithVariable('trainfile');\n",
              "      }\n",
              "      })();\n",
              "    </script>\n",
              "  </div>\n",
              "\n",
              "    </div>\n",
              "  </div>\n"
            ],
            "application/vnd.google.colaboratory.intrinsic+json": {
              "type": "dataframe",
              "variable_name": "trainfile"
            }
          },
          "metadata": {},
          "execution_count": 176
        }
      ]
    },
    {
      "cell_type": "code",
      "source": [
        "trainfile.columns"
      ],
      "metadata": {
        "colab": {
          "base_uri": "https://localhost:8080/"
        },
        "id": "irTz5hE_vU1U",
        "outputId": "db8645a0-58ad-4b4f-d314-cce728783b09"
      },
      "execution_count": 177,
      "outputs": [
        {
          "output_type": "execute_result",
          "data": {
            "text/plain": [
              "Index(['Avg_syn_flag', 'Avg_urg_flag', 'Avg_fin_flag', 'Avg_ack_flag',\n",
              "       'Avg_psh_flag', 'Avg_rst_flag', 'Avg_DNS_pkt', 'Avg_TCP_pkt',\n",
              "       'Avg_UDP_pkt', 'Avg_ICMP_pkt', 'Duration_window_flow', 'Avg_delta_time',\n",
              "       'Min_delta_time', 'Max_delta_time', 'StDev_delta_time',\n",
              "       'Avg_pkts_lenght', 'Min_pkts_lenght', 'Max_pkts_lenght',\n",
              "       'StDev_pkts_lenght', 'Avg_small_payload_pkt', 'Avg_payload',\n",
              "       'Min_payload', 'Max_payload', 'StDev_payload', 'Avg_DNS_over_TCP',\n",
              "       'target'],\n",
              "      dtype='object')"
            ]
          },
          "metadata": {},
          "execution_count": 177
        }
      ]
    },
    {
      "cell_type": "code",
      "source": [
        "data = pd.DataFrame(trainfile).to_numpy()"
      ],
      "metadata": {
        "id": "jjLVkx-C4gXJ"
      },
      "execution_count": 178,
      "outputs": []
    },
    {
      "cell_type": "code",
      "source": [
        "data"
      ],
      "metadata": {
        "colab": {
          "base_uri": "https://localhost:8080/"
        },
        "id": "Ns5hW52j4pdh",
        "outputId": "a9080ade-1897-47af-adb0-8f977c6658f4"
      },
      "execution_count": 179,
      "outputs": [
        {
          "output_type": "execute_result",
          "data": {
            "text/plain": [
              "array([[-0.2304548 ,  4.52359537, -1.27687628, ..., -1.48871278,\n",
              "         0.69409321,  2.        ],\n",
              "       [-2.08877556,  2.38720365,  0.3382052 , ...,  0.36215406,\n",
              "         1.19326143,  0.        ],\n",
              "       [-0.0432197 ,  3.57879131, -1.07398432, ...,  0.70288575,\n",
              "         0.10458913,  2.        ],\n",
              "       ...,\n",
              "       [-0.00748687, -0.18075621,  0.78412483, ..., -1.69102071,\n",
              "        -0.15861199,  2.        ],\n",
              "       [ 1.44587035,  2.77248036, -1.27066236, ...,  3.32411067,\n",
              "        -1.77152055,  1.        ],\n",
              "       [-0.63876374, -6.27596586,  0.75669008, ...,  0.1138326 ,\n",
              "         1.51020413,  2.        ]])"
            ]
          },
          "metadata": {},
          "execution_count": 179
        }
      ]
    },
    {
      "cell_type": "code",
      "source": [
        "data=data[ data[:,25] != 'DrDoS_LDAP' ]"
      ],
      "metadata": {
        "id": "lG6WcMsu4_iy"
      },
      "execution_count": 180,
      "outputs": []
    },
    {
      "cell_type": "code",
      "source": [
        "data"
      ],
      "metadata": {
        "colab": {
          "base_uri": "https://localhost:8080/"
        },
        "id": "CkTfCZSt5Cyv",
        "outputId": "f662f2f9-9acc-4b63-ce68-e7ddb7b7fe65"
      },
      "execution_count": 181,
      "outputs": [
        {
          "output_type": "execute_result",
          "data": {
            "text/plain": [
              "array([[-0.2304548 ,  4.52359537, -1.27687628, ..., -1.48871278,\n",
              "         0.69409321,  2.        ],\n",
              "       [-2.08877556,  2.38720365,  0.3382052 , ...,  0.36215406,\n",
              "         1.19326143,  0.        ],\n",
              "       [-0.0432197 ,  3.57879131, -1.07398432, ...,  0.70288575,\n",
              "         0.10458913,  2.        ],\n",
              "       ...,\n",
              "       [-0.00748687, -0.18075621,  0.78412483, ..., -1.69102071,\n",
              "        -0.15861199,  2.        ],\n",
              "       [ 1.44587035,  2.77248036, -1.27066236, ...,  3.32411067,\n",
              "        -1.77152055,  1.        ],\n",
              "       [-0.63876374, -6.27596586,  0.75669008, ...,  0.1138326 ,\n",
              "         1.51020413,  2.        ]])"
            ]
          },
          "metadata": {},
          "execution_count": 181
        }
      ]
    },
    {
      "cell_type": "code",
      "source": [
        "np.random.shuffle(data)"
      ],
      "metadata": {
        "id": "WShuLso9-VKB"
      },
      "execution_count": 182,
      "outputs": []
    },
    {
      "cell_type": "code",
      "source": [
        "# MIN-MAX normalization\n",
        "#data=data[:,inx_sel]\n",
        "dmin = data.min(axis=0)\n",
        "dmax = data.max(axis=0)\n",
        "data=(data-dmin)/(dmax-dmin)"
      ],
      "metadata": {
        "id": "1InxeV9H-b6i"
      },
      "execution_count": 183,
      "outputs": []
    },
    {
      "cell_type": "code",
      "source": [
        "labels = list(trainfile.columns)\n",
        "labels"
      ],
      "metadata": {
        "colab": {
          "base_uri": "https://localhost:8080/"
        },
        "id": "xvbbJg39B9kf",
        "outputId": "c6c9ad1c-baad-4bf6-f7f9-4cb6a82ef347"
      },
      "execution_count": 184,
      "outputs": [
        {
          "output_type": "execute_result",
          "data": {
            "text/plain": [
              "['Avg_syn_flag',\n",
              " 'Avg_urg_flag',\n",
              " 'Avg_fin_flag',\n",
              " 'Avg_ack_flag',\n",
              " 'Avg_psh_flag',\n",
              " 'Avg_rst_flag',\n",
              " 'Avg_DNS_pkt',\n",
              " 'Avg_TCP_pkt',\n",
              " 'Avg_UDP_pkt',\n",
              " 'Avg_ICMP_pkt',\n",
              " 'Duration_window_flow',\n",
              " 'Avg_delta_time',\n",
              " 'Min_delta_time',\n",
              " 'Max_delta_time',\n",
              " 'StDev_delta_time',\n",
              " 'Avg_pkts_lenght',\n",
              " 'Min_pkts_lenght',\n",
              " 'Max_pkts_lenght',\n",
              " 'StDev_pkts_lenght',\n",
              " 'Avg_small_payload_pkt',\n",
              " 'Avg_payload',\n",
              " 'Min_payload',\n",
              " 'Max_payload',\n",
              " 'StDev_payload',\n",
              " 'Avg_DNS_over_TCP',\n",
              " 'target']"
            ]
          },
          "metadata": {},
          "execution_count": 184
        }
      ]
    },
    {
      "cell_type": "code",
      "source": [
        "# Test data 20%\n",
        "train_data, test_data, train_label, test_label = train_test_split(X, y, test_size=0.20)\n"
      ],
      "metadata": {
        "id": "4R8uUyvz-rDt"
      },
      "execution_count": 185,
      "outputs": []
    },
    {
      "cell_type": "code",
      "source": [
        "# Train 70%, Validation%10\n",
        "train_data, val_data, train_label, val_label = train_test_split(train_data, train_label, test_size=0.125, stratify=train_label)"
      ],
      "metadata": {
        "id": "OFLweS3vEOkt"
      },
      "execution_count": 186,
      "outputs": []
    },
    {
      "cell_type": "code",
      "source": [
        "#συνάρτηση δημιουργίας και εκπαίδευσης νευρωνικού δικτύου\n",
        "def create_and_train_model(input_dim):\n",
        "    model = Sequential()\n",
        "    model.add(Dense(256, input_dim=input_dim, activation='relu'))\n",
        "    model.add(Dropout(0.5))\n",
        "    model.add(Dense(128, activation='relu'))\n",
        "    model.add(Dropout(0.5))\n",
        "    model.add(Dense(64, activation='relu'))\n",
        "    model.add(Dense(3, activation='softmax'))\n",
        "    model.compile(optimizer='adam', loss='sparse_categorical_crossentropy', metrics=['accuracy'])\n",
        "    return model"
      ],
      "metadata": {
        "id": "TCL0SkHmJfp_"
      },
      "execution_count": 187,
      "outputs": []
    },
    {
      "cell_type": "code",
      "source": [
        "model = create_and_train_model(train_data.shape[1])"
      ],
      "metadata": {
        "colab": {
          "base_uri": "https://localhost:8080/"
        },
        "id": "fY9JARTbILtn",
        "outputId": "f83ed5ff-6658-4c61-c4b3-725d0fdab9dd"
      },
      "execution_count": 188,
      "outputs": [
        {
          "output_type": "stream",
          "name": "stderr",
          "text": [
            "/usr/local/lib/python3.10/dist-packages/keras/src/layers/core/dense.py:87: UserWarning: Do not pass an `input_shape`/`input_dim` argument to a layer. When using Sequential models, prefer using an `Input(shape)` object as the first layer in the model instead.\n",
            "  super().__init__(activity_regularizer=activity_regularizer, **kwargs)\n"
          ]
        }
      ]
    },
    {
      "cell_type": "code",
      "source": [
        "# εισαγωγή δεδομένων\n",
        "#train_data, train_labelp, val_data, val_labelp, test_data, test_labelp = loadDataset()\n",
        "train_labelp = train_label.astype('int32')\n",
        "val_labelp = val_label.astype('int32')\n",
        "test_labelp = test_label.astype('int32')\n"
      ],
      "metadata": {
        "id": "FGG1Q4uvjJgS"
      },
      "execution_count": 189,
      "outputs": []
    },
    {
      "cell_type": "code",
      "source": [
        "# to_categorical\n",
        "train_label = to_categorical(train_labelp, nclass)\n",
        "val_label   = to_categorical(val_labelp,   nclass)\n",
        "test_label  = to_categorical(test_labelp,  nclass)\n"
      ],
      "metadata": {
        "id": "dzYGM_i2jgLR"
      },
      "execution_count": 190,
      "outputs": []
    },
    {
      "cell_type": "code",
      "source": [
        "print('train_data.shape=', train_data.shape)\n",
        "print('test_data.shape=',  test_data.shape)\n",
        "print('test_data.shape=',  val_data.shape)\n"
      ],
      "metadata": {
        "colab": {
          "base_uri": "https://localhost:8080/"
        },
        "id": "32tWWSWpjkJX",
        "outputId": "4a21f59b-4260-4422-f73d-8918fa81c41a"
      },
      "execution_count": 191,
      "outputs": [
        {
          "output_type": "stream",
          "name": "stdout",
          "text": [
            "train_data.shape= (10476, 25)\n",
            "test_data.shape= (2994, 25)\n",
            "test_data.shape= (1497, 25)\n"
          ]
        }
      ]
    },
    {
      "cell_type": "code",
      "source": [
        "#get the number of features\n",
        "inshape=train_data.shape[1]\n"
      ],
      "metadata": {
        "id": "6A32cSgojnKH"
      },
      "execution_count": 192,
      "outputs": []
    },
    {
      "cell_type": "code",
      "source": [
        "# Class balancing weights\n",
        "class_weights = class_weight.compute_class_weight(class_weight='balanced',\n",
        "                                                  classes=np.unique(\n",
        "                                                      train_labelp),\n",
        "                                                  y=train_labelp)\n"
      ],
      "metadata": {
        "id": "uQLZi1Rjjwzu"
      },
      "execution_count": 193,
      "outputs": []
    },
    {
      "cell_type": "code",
      "source": [
        "class_weights = {i: class_weights[i] for i in range(len(class_weights))}\n"
      ],
      "metadata": {
        "id": "ffLCjzdhj0EB"
      },
      "execution_count": 194,
      "outputs": []
    },
    {
      "cell_type": "code",
      "source": [
        "# -- CALLBACKS -----------------------------------------------------------------\n",
        "earlyStopping = EarlyStopping(monitor='val_loss',\n",
        "                              patience=30,\n",
        "                              verbose=0,\n",
        "                              mode='min')\n"
      ],
      "metadata": {
        "id": "71Iccp8Mj312"
      },
      "execution_count": 195,
      "outputs": []
    },
    {
      "cell_type": "code",
      "source": [
        "model = Sequential()\n",
        "model.add(Dense(256, input_dim=inshape, activation='relu'))\n",
        "model.add(Dropout(0.5))\n",
        "model.add(Dense(128, activation='relu'))\n",
        "model.add(Dropout(0.5))\n",
        "model.add(Dense(12, activation='relu'))\n",
        "#model.add(Dense(3, activation='softmax'))\n",
        "#model.compile(optimizer='adam', loss='sparse_categorical_crossentropy', metrics=['accuracy'])\n",
        "model.compile(optimizer='adam', loss='categorical_crossentropy', metrics=['accuracy'])\n"
      ],
      "metadata": {
        "id": "6ICaxRzfKbA-",
        "outputId": "89a81a0f-7df9-4ce2-d349-65a664c73016",
        "colab": {
          "base_uri": "https://localhost:8080/"
        }
      },
      "execution_count": 196,
      "outputs": [
        {
          "output_type": "stream",
          "name": "stderr",
          "text": [
            "/usr/local/lib/python3.10/dist-packages/keras/src/layers/core/dense.py:87: UserWarning: Do not pass an `input_shape`/`input_dim` argument to a layer. When using Sequential models, prefer using an `Input(shape)` object as the first layer in the model instead.\n",
            "  super().__init__(activity_regularizer=activity_regularizer, **kwargs)\n"
          ]
        }
      ]
    },
    {
      "cell_type": "code",
      "source": [
        "#modelCheckPoint = ModelCheckpoint('./savemodels/model5class.weights.{epoch:03d}-{val_acc:.4f}.hdf5',\n",
        "#                                  save_best_only=True,\n",
        "#                                  monitor='val_acc',\n",
        "#                                  mode='max')\n",
        "\n",
        "# reduce_lr_loss = ReduceLROnPlateau(monitor='val_loss',\n",
        "#                                   factor=0.1,\n",
        "#                                   patience=7,\n",
        "#                                   verbose=1,\n",
        "#                                   epsilon=1e-4,\n",
        "#                                   mode='min')\n"
      ],
      "metadata": {
        "id": "ERawvTzBj7GF"
      },
      "execution_count": 197,
      "outputs": []
    },
    {
      "cell_type": "code",
      "source": [
        "# -- Baseline models-----------------------------------------------------------\n",
        "\n",
        "# -- Conv1d\n",
        "#model=models_ddos.model_conv1D(lr=1e-4,N=64,inshape=inshape)\n",
        "# -- Dense\n",
        "# model=models_ddos.model_dense(lr=1e-4,N=64,inshape=inshape)\n",
        "# -- LSTM\n",
        "# model=models_ddos.model_lstm(lr=1e-4,N=64,inshape=inshape)\n"
      ],
      "metadata": {
        "id": "VF6-uLhokL6t"
      },
      "execution_count": 198,
      "outputs": []
    },
    {
      "cell_type": "code",
      "source": [
        "model.summary()\n",
        "# -----------------------------------------------------------------------------\n",
        "# print model to an image file\n",
        "# dot_img_file = 'model1.png'\n",
        "# plot_model(model, to_file=dot_img_file, show_shapes=True)\n"
      ],
      "metadata": {
        "colab": {
          "base_uri": "https://localhost:8080/",
          "height": 309
        },
        "id": "2qnAp3_dkPC6",
        "outputId": "8a6b42da-81d7-4547-fa1d-7126c47f5c36"
      },
      "execution_count": 199,
      "outputs": [
        {
          "output_type": "display_data",
          "data": {
            "text/plain": [
              "\u001b[1mModel: \"sequential_11\"\u001b[0m\n"
            ],
            "text/html": [
              "<pre style=\"white-space:pre;overflow-x:auto;line-height:normal;font-family:Menlo,'DejaVu Sans Mono',consolas,'Courier New',monospace\"><span style=\"font-weight: bold\">Model: \"sequential_11\"</span>\n",
              "</pre>\n"
            ]
          },
          "metadata": {}
        },
        {
          "output_type": "display_data",
          "data": {
            "text/plain": [
              "┏━━━━━━━━━━━━━━━━━━━━━━━━━━━━━━━━━━━━━━┳━━━━━━━━━━━━━━━━━━━━━━━━━━━━━┳━━━━━━━━━━━━━━━━━┓\n",
              "┃\u001b[1m \u001b[0m\u001b[1mLayer (type)                        \u001b[0m\u001b[1m \u001b[0m┃\u001b[1m \u001b[0m\u001b[1mOutput Shape               \u001b[0m\u001b[1m \u001b[0m┃\u001b[1m \u001b[0m\u001b[1m        Param #\u001b[0m\u001b[1m \u001b[0m┃\n",
              "┡━━━━━━━━━━━━━━━━━━━━━━━━━━━━━━━━━━━━━━╇━━━━━━━━━━━━━━━━━━━━━━━━━━━━━╇━━━━━━━━━━━━━━━━━┩\n",
              "│ dense_35 (\u001b[38;5;33mDense\u001b[0m)                     │ (\u001b[38;5;45mNone\u001b[0m, \u001b[38;5;34m256\u001b[0m)                 │           \u001b[38;5;34m6,656\u001b[0m │\n",
              "├──────────────────────────────────────┼─────────────────────────────┼─────────────────┤\n",
              "│ dropout_20 (\u001b[38;5;33mDropout\u001b[0m)                 │ (\u001b[38;5;45mNone\u001b[0m, \u001b[38;5;34m256\u001b[0m)                 │               \u001b[38;5;34m0\u001b[0m │\n",
              "├──────────────────────────────────────┼─────────────────────────────┼─────────────────┤\n",
              "│ dense_36 (\u001b[38;5;33mDense\u001b[0m)                     │ (\u001b[38;5;45mNone\u001b[0m, \u001b[38;5;34m128\u001b[0m)                 │          \u001b[38;5;34m32,896\u001b[0m │\n",
              "├──────────────────────────────────────┼─────────────────────────────┼─────────────────┤\n",
              "│ dropout_21 (\u001b[38;5;33mDropout\u001b[0m)                 │ (\u001b[38;5;45mNone\u001b[0m, \u001b[38;5;34m128\u001b[0m)                 │               \u001b[38;5;34m0\u001b[0m │\n",
              "├──────────────────────────────────────┼─────────────────────────────┼─────────────────┤\n",
              "│ dense_37 (\u001b[38;5;33mDense\u001b[0m)                     │ (\u001b[38;5;45mNone\u001b[0m, \u001b[38;5;34m12\u001b[0m)                  │           \u001b[38;5;34m1,548\u001b[0m │\n",
              "└──────────────────────────────────────┴─────────────────────────────┴─────────────────┘\n"
            ],
            "text/html": [
              "<pre style=\"white-space:pre;overflow-x:auto;line-height:normal;font-family:Menlo,'DejaVu Sans Mono',consolas,'Courier New',monospace\">┏━━━━━━━━━━━━━━━━━━━━━━━━━━━━━━━━━━━━━━┳━━━━━━━━━━━━━━━━━━━━━━━━━━━━━┳━━━━━━━━━━━━━━━━━┓\n",
              "┃<span style=\"font-weight: bold\"> Layer (type)                         </span>┃<span style=\"font-weight: bold\"> Output Shape                </span>┃<span style=\"font-weight: bold\">         Param # </span>┃\n",
              "┡━━━━━━━━━━━━━━━━━━━━━━━━━━━━━━━━━━━━━━╇━━━━━━━━━━━━━━━━━━━━━━━━━━━━━╇━━━━━━━━━━━━━━━━━┩\n",
              "│ dense_35 (<span style=\"color: #0087ff; text-decoration-color: #0087ff\">Dense</span>)                     │ (<span style=\"color: #00d7ff; text-decoration-color: #00d7ff\">None</span>, <span style=\"color: #00af00; text-decoration-color: #00af00\">256</span>)                 │           <span style=\"color: #00af00; text-decoration-color: #00af00\">6,656</span> │\n",
              "├──────────────────────────────────────┼─────────────────────────────┼─────────────────┤\n",
              "│ dropout_20 (<span style=\"color: #0087ff; text-decoration-color: #0087ff\">Dropout</span>)                 │ (<span style=\"color: #00d7ff; text-decoration-color: #00d7ff\">None</span>, <span style=\"color: #00af00; text-decoration-color: #00af00\">256</span>)                 │               <span style=\"color: #00af00; text-decoration-color: #00af00\">0</span> │\n",
              "├──────────────────────────────────────┼─────────────────────────────┼─────────────────┤\n",
              "│ dense_36 (<span style=\"color: #0087ff; text-decoration-color: #0087ff\">Dense</span>)                     │ (<span style=\"color: #00d7ff; text-decoration-color: #00d7ff\">None</span>, <span style=\"color: #00af00; text-decoration-color: #00af00\">128</span>)                 │          <span style=\"color: #00af00; text-decoration-color: #00af00\">32,896</span> │\n",
              "├──────────────────────────────────────┼─────────────────────────────┼─────────────────┤\n",
              "│ dropout_21 (<span style=\"color: #0087ff; text-decoration-color: #0087ff\">Dropout</span>)                 │ (<span style=\"color: #00d7ff; text-decoration-color: #00d7ff\">None</span>, <span style=\"color: #00af00; text-decoration-color: #00af00\">128</span>)                 │               <span style=\"color: #00af00; text-decoration-color: #00af00\">0</span> │\n",
              "├──────────────────────────────────────┼─────────────────────────────┼─────────────────┤\n",
              "│ dense_37 (<span style=\"color: #0087ff; text-decoration-color: #0087ff\">Dense</span>)                     │ (<span style=\"color: #00d7ff; text-decoration-color: #00d7ff\">None</span>, <span style=\"color: #00af00; text-decoration-color: #00af00\">12</span>)                  │           <span style=\"color: #00af00; text-decoration-color: #00af00\">1,548</span> │\n",
              "└──────────────────────────────────────┴─────────────────────────────┴─────────────────┘\n",
              "</pre>\n"
            ]
          },
          "metadata": {}
        },
        {
          "output_type": "display_data",
          "data": {
            "text/plain": [
              "\u001b[1m Total params: \u001b[0m\u001b[38;5;34m41,100\u001b[0m (160.55 KB)\n"
            ],
            "text/html": [
              "<pre style=\"white-space:pre;overflow-x:auto;line-height:normal;font-family:Menlo,'DejaVu Sans Mono',consolas,'Courier New',monospace\"><span style=\"font-weight: bold\"> Total params: </span><span style=\"color: #00af00; text-decoration-color: #00af00\">41,100</span> (160.55 KB)\n",
              "</pre>\n"
            ]
          },
          "metadata": {}
        },
        {
          "output_type": "display_data",
          "data": {
            "text/plain": [
              "\u001b[1m Trainable params: \u001b[0m\u001b[38;5;34m41,100\u001b[0m (160.55 KB)\n"
            ],
            "text/html": [
              "<pre style=\"white-space:pre;overflow-x:auto;line-height:normal;font-family:Menlo,'DejaVu Sans Mono',consolas,'Courier New',monospace\"><span style=\"font-weight: bold\"> Trainable params: </span><span style=\"color: #00af00; text-decoration-color: #00af00\">41,100</span> (160.55 KB)\n",
              "</pre>\n"
            ]
          },
          "metadata": {}
        },
        {
          "output_type": "display_data",
          "data": {
            "text/plain": [
              "\u001b[1m Non-trainable params: \u001b[0m\u001b[38;5;34m0\u001b[0m (0.00 B)\n"
            ],
            "text/html": [
              "<pre style=\"white-space:pre;overflow-x:auto;line-height:normal;font-family:Menlo,'DejaVu Sans Mono',consolas,'Courier New',monospace\"><span style=\"font-weight: bold\"> Non-trainable params: </span><span style=\"color: #00af00; text-decoration-color: #00af00\">0</span> (0.00 B)\n",
              "</pre>\n"
            ]
          },
          "metadata": {}
        }
      ]
    },
    {
      "cell_type": "code",
      "source": [
        "# -- TRAIN MODEL --------------------------------------------------------------\n",
        "history = model.fit(train_data,\n",
        "                    train_label,\n",
        "                    shuffle=True,\n",
        "                    epochs=epochs,\n",
        "                    batch_size=256,  # 256,#128,#32, 64\n",
        "                    # validation_data=validation_generator,\n",
        "                    # validation_split=0.2,\n",
        "                    # validation_data=(val_data,val_label),\n",
        "                    validation_data=(val_data, val_label),\n",
        "                    callbacks=[earlyStopping],\n",
        "                    class_weight=class_weights\n",
        "                    #workers=3\n",
        "                    )\n"
      ],
      "metadata": {
        "colab": {
          "base_uri": "https://localhost:8080/"
        },
        "id": "_tnbJNVXkZaA",
        "outputId": "300109f1-f7b7-40d3-f168-c6d48388e590"
      },
      "execution_count": 200,
      "outputs": [
        {
          "output_type": "stream",
          "name": "stdout",
          "text": [
            "Epoch 1/100\n",
            "\u001b[1m41/41\u001b[0m \u001b[32m━━━━━━━━━━━━━━━━━━━━\u001b[0m\u001b[37m\u001b[0m \u001b[1m4s\u001b[0m 43ms/step - accuracy: 0.3414 - loss: 3.9146 - val_accuracy: 0.7909 - val_loss: 0.8474\n",
            "Epoch 2/100\n",
            "\u001b[1m41/41\u001b[0m \u001b[32m━━━━━━━━━━━━━━━━━━━━\u001b[0m\u001b[37m\u001b[0m \u001b[1m2s\u001b[0m 21ms/step - accuracy: 0.6834 - loss: 0.8928 - val_accuracy: 0.8103 - val_loss: 0.7256\n",
            "Epoch 3/100\n",
            "\u001b[1m41/41\u001b[0m \u001b[32m━━━━━━━━━━━━━━━━━━━━\u001b[0m\u001b[37m\u001b[0m \u001b[1m1s\u001b[0m 24ms/step - accuracy: 0.7490 - loss: 0.8663 - val_accuracy: 0.8323 - val_loss: 0.7270\n",
            "Epoch 4/100\n",
            "\u001b[1m41/41\u001b[0m \u001b[32m━━━━━━━━━━━━━━━━━━━━\u001b[0m\u001b[37m\u001b[0m \u001b[1m1s\u001b[0m 17ms/step - accuracy: 0.7949 - loss: 0.8798 - val_accuracy: 0.8410 - val_loss: 0.8027\n",
            "Epoch 5/100\n",
            "\u001b[1m41/41\u001b[0m \u001b[32m━━━━━━━━━━━━━━━━━━━━\u001b[0m\u001b[37m\u001b[0m \u001b[1m1s\u001b[0m 17ms/step - accuracy: 0.8176 - loss: 0.8541 - val_accuracy: 0.8410 - val_loss: 0.9227\n",
            "Epoch 6/100\n",
            "\u001b[1m41/41\u001b[0m \u001b[32m━━━━━━━━━━━━━━━━━━━━\u001b[0m\u001b[37m\u001b[0m \u001b[1m1s\u001b[0m 15ms/step - accuracy: 0.8175 - loss: 0.9804 - val_accuracy: 0.8570 - val_loss: 0.8615\n",
            "Epoch 7/100\n",
            "\u001b[1m41/41\u001b[0m \u001b[32m━━━━━━━━━━━━━━━━━━━━\u001b[0m\u001b[37m\u001b[0m \u001b[1m1s\u001b[0m 15ms/step - accuracy: 0.8281 - loss: 0.9033 - val_accuracy: 0.8437 - val_loss: 0.7865\n",
            "Epoch 8/100\n",
            "\u001b[1m41/41\u001b[0m \u001b[32m━━━━━━━━━━━━━━━━━━━━\u001b[0m\u001b[37m\u001b[0m \u001b[1m1s\u001b[0m 15ms/step - accuracy: 0.8047 - loss: 0.7671 - val_accuracy: 0.8597 - val_loss: 0.7245\n",
            "Epoch 9/100\n",
            "\u001b[1m41/41\u001b[0m \u001b[32m━━━━━━━━━━━━━━━━━━━━\u001b[0m\u001b[37m\u001b[0m \u001b[1m1s\u001b[0m 15ms/step - accuracy: 0.8369 - loss: 0.8300 - val_accuracy: 0.8591 - val_loss: 0.8344\n",
            "Epoch 10/100\n",
            "\u001b[1m41/41\u001b[0m \u001b[32m━━━━━━━━━━━━━━━━━━━━\u001b[0m\u001b[37m\u001b[0m \u001b[1m1s\u001b[0m 14ms/step - accuracy: 0.8417 - loss: 0.7911 - val_accuracy: 0.8584 - val_loss: 0.8043\n",
            "Epoch 11/100\n",
            "\u001b[1m41/41\u001b[0m \u001b[32m━━━━━━━━━━━━━━━━━━━━\u001b[0m\u001b[37m\u001b[0m \u001b[1m2s\u001b[0m 21ms/step - accuracy: 0.8460 - loss: 0.8047 - val_accuracy: 0.8584 - val_loss: 0.8456\n",
            "Epoch 12/100\n",
            "\u001b[1m41/41\u001b[0m \u001b[32m━━━━━━━━━━━━━━━━━━━━\u001b[0m\u001b[37m\u001b[0m \u001b[1m1s\u001b[0m 16ms/step - accuracy: 0.8452 - loss: 0.7463 - val_accuracy: 0.8617 - val_loss: 0.8576\n",
            "Epoch 13/100\n",
            "\u001b[1m41/41\u001b[0m \u001b[32m━━━━━━━━━━━━━━━━━━━━\u001b[0m\u001b[37m\u001b[0m \u001b[1m2s\u001b[0m 24ms/step - accuracy: 0.8492 - loss: 0.8671 - val_accuracy: 0.8570 - val_loss: 0.8075\n",
            "Epoch 14/100\n",
            "\u001b[1m41/41\u001b[0m \u001b[32m━━━━━━━━━━━━━━━━━━━━\u001b[0m\u001b[37m\u001b[0m \u001b[1m1s\u001b[0m 18ms/step - accuracy: 0.8513 - loss: 0.8020 - val_accuracy: 0.8597 - val_loss: 0.7339\n",
            "Epoch 15/100\n",
            "\u001b[1m41/41\u001b[0m \u001b[32m━━━━━━━━━━━━━━━━━━━━\u001b[0m\u001b[37m\u001b[0m \u001b[1m1s\u001b[0m 22ms/step - accuracy: 0.8455 - loss: 0.7530 - val_accuracy: 0.8644 - val_loss: 0.7506\n",
            "Epoch 16/100\n",
            "\u001b[1m41/41\u001b[0m \u001b[32m━━━━━━━━━━━━━━━━━━━━\u001b[0m\u001b[37m\u001b[0m \u001b[1m1s\u001b[0m 19ms/step - accuracy: 0.8498 - loss: 0.7690 - val_accuracy: 0.8644 - val_loss: 0.7532\n",
            "Epoch 17/100\n",
            "\u001b[1m41/41\u001b[0m \u001b[32m━━━━━━━━━━━━━━━━━━━━\u001b[0m\u001b[37m\u001b[0m \u001b[1m1s\u001b[0m 17ms/step - accuracy: 0.8528 - loss: 0.7847 - val_accuracy: 0.8664 - val_loss: 0.7429\n",
            "Epoch 18/100\n",
            "\u001b[1m41/41\u001b[0m \u001b[32m━━━━━━━━━━━━━━━━━━━━\u001b[0m\u001b[37m\u001b[0m \u001b[1m1s\u001b[0m 13ms/step - accuracy: 0.8475 - loss: 0.7877 - val_accuracy: 0.8677 - val_loss: 0.7203\n",
            "Epoch 19/100\n",
            "\u001b[1m41/41\u001b[0m \u001b[32m━━━━━━━━━━━━━━━━━━━━\u001b[0m\u001b[37m\u001b[0m \u001b[1m1s\u001b[0m 15ms/step - accuracy: 0.8550 - loss: 0.7272 - val_accuracy: 0.8644 - val_loss: 0.7124\n",
            "Epoch 20/100\n",
            "\u001b[1m41/41\u001b[0m \u001b[32m━━━━━━━━━━━━━━━━━━━━\u001b[0m\u001b[37m\u001b[0m \u001b[1m1s\u001b[0m 13ms/step - accuracy: 0.8560 - loss: 0.6997 - val_accuracy: 0.8657 - val_loss: 0.7396\n",
            "Epoch 21/100\n",
            "\u001b[1m41/41\u001b[0m \u001b[32m━━━━━━━━━━━━━━━━━━━━\u001b[0m\u001b[37m\u001b[0m \u001b[1m1s\u001b[0m 15ms/step - accuracy: 0.8638 - loss: 0.7845 - val_accuracy: 0.8684 - val_loss: 0.7281\n",
            "Epoch 22/100\n",
            "\u001b[1m41/41\u001b[0m \u001b[32m━━━━━━━━━━━━━━━━━━━━\u001b[0m\u001b[37m\u001b[0m \u001b[1m1s\u001b[0m 12ms/step - accuracy: 0.8569 - loss: 0.7305 - val_accuracy: 0.8684 - val_loss: 0.7472\n",
            "Epoch 23/100\n",
            "\u001b[1m41/41\u001b[0m \u001b[32m━━━━━━━━━━━━━━━━━━━━\u001b[0m\u001b[37m\u001b[0m \u001b[1m1s\u001b[0m 13ms/step - accuracy: 0.8693 - loss: 0.6769 - val_accuracy: 0.8677 - val_loss: 0.7467\n",
            "Epoch 24/100\n",
            "\u001b[1m41/41\u001b[0m \u001b[32m━━━━━━━━━━━━━━━━━━━━\u001b[0m\u001b[37m\u001b[0m \u001b[1m1s\u001b[0m 14ms/step - accuracy: 0.8700 - loss: 0.6647 - val_accuracy: 0.8691 - val_loss: 0.7428\n",
            "Epoch 25/100\n",
            "\u001b[1m41/41\u001b[0m \u001b[32m━━━━━━━━━━━━━━━━━━━━\u001b[0m\u001b[37m\u001b[0m \u001b[1m1s\u001b[0m 8ms/step - accuracy: 0.8749 - loss: 0.6810 - val_accuracy: 0.8684 - val_loss: 0.7441\n",
            "Epoch 26/100\n",
            "\u001b[1m41/41\u001b[0m \u001b[32m━━━━━━━━━━━━━━━━━━━━\u001b[0m\u001b[37m\u001b[0m \u001b[1m1s\u001b[0m 7ms/step - accuracy: 0.8700 - loss: 0.7136 - val_accuracy: 0.8671 - val_loss: 0.7922\n",
            "Epoch 27/100\n",
            "\u001b[1m41/41\u001b[0m \u001b[32m━━━━━━━━━━━━━━━━━━━━\u001b[0m\u001b[37m\u001b[0m \u001b[1m1s\u001b[0m 7ms/step - accuracy: 0.8712 - loss: 0.6863 - val_accuracy: 0.8691 - val_loss: 0.8178\n",
            "Epoch 28/100\n",
            "\u001b[1m41/41\u001b[0m \u001b[32m━━━━━━━━━━━━━━━━━━━━\u001b[0m\u001b[37m\u001b[0m \u001b[1m0s\u001b[0m 6ms/step - accuracy: 0.8668 - loss: 0.7295 - val_accuracy: 0.8664 - val_loss: 0.7146\n",
            "Epoch 29/100\n",
            "\u001b[1m41/41\u001b[0m \u001b[32m━━━━━━━━━━━━━━━━━━━━\u001b[0m\u001b[37m\u001b[0m \u001b[1m1s\u001b[0m 7ms/step - accuracy: 0.8447 - loss: 0.7211 - val_accuracy: 0.8597 - val_loss: 0.6787\n",
            "Epoch 30/100\n",
            "\u001b[1m41/41\u001b[0m \u001b[32m━━━━━━━━━━━━━━━━━━━━\u001b[0m\u001b[37m\u001b[0m \u001b[1m0s\u001b[0m 7ms/step - accuracy: 0.8509 - loss: 0.6794 - val_accuracy: 0.8691 - val_loss: 0.7110\n",
            "Epoch 31/100\n",
            "\u001b[1m41/41\u001b[0m \u001b[32m━━━━━━━━━━━━━━━━━━━━\u001b[0m\u001b[37m\u001b[0m \u001b[1m1s\u001b[0m 12ms/step - accuracy: 0.8632 - loss: 0.7383 - val_accuracy: 0.8731 - val_loss: 0.7125\n",
            "Epoch 32/100\n",
            "\u001b[1m41/41\u001b[0m \u001b[32m━━━━━━━━━━━━━━━━━━━━\u001b[0m\u001b[37m\u001b[0m \u001b[1m1s\u001b[0m 10ms/step - accuracy: 0.8707 - loss: 0.7014 - val_accuracy: 0.8737 - val_loss: 0.7121\n",
            "Epoch 33/100\n",
            "\u001b[1m41/41\u001b[0m \u001b[32m━━━━━━━━━━━━━━━━━━━━\u001b[0m\u001b[37m\u001b[0m \u001b[1m0s\u001b[0m 11ms/step - accuracy: 0.8687 - loss: 0.6953 - val_accuracy: 0.8731 - val_loss: 0.6440\n",
            "Epoch 34/100\n",
            "\u001b[1m41/41\u001b[0m \u001b[32m━━━━━━━━━━━━━━━━━━━━\u001b[0m\u001b[37m\u001b[0m \u001b[1m1s\u001b[0m 11ms/step - accuracy: 0.8686 - loss: 0.6578 - val_accuracy: 0.8711 - val_loss: 0.6617\n",
            "Epoch 35/100\n",
            "\u001b[1m41/41\u001b[0m \u001b[32m━━━━━━━━━━━━━━━━━━━━\u001b[0m\u001b[37m\u001b[0m \u001b[1m1s\u001b[0m 12ms/step - accuracy: 0.8754 - loss: 0.6075 - val_accuracy: 0.8737 - val_loss: 0.6133\n",
            "Epoch 36/100\n",
            "\u001b[1m41/41\u001b[0m \u001b[32m━━━━━━━━━━━━━━━━━━━━\u001b[0m\u001b[37m\u001b[0m \u001b[1m1s\u001b[0m 11ms/step - accuracy: 0.8722 - loss: 0.6405 - val_accuracy: 0.8704 - val_loss: 0.5800\n",
            "Epoch 37/100\n",
            "\u001b[1m41/41\u001b[0m \u001b[32m━━━━━━━━━━━━━━━━━━━━\u001b[0m\u001b[37m\u001b[0m \u001b[1m0s\u001b[0m 6ms/step - accuracy: 0.8697 - loss: 0.5977 - val_accuracy: 0.8764 - val_loss: 0.5691\n",
            "Epoch 38/100\n",
            "\u001b[1m41/41\u001b[0m \u001b[32m━━━━━━━━━━━━━━━━━━━━\u001b[0m\u001b[37m\u001b[0m \u001b[1m0s\u001b[0m 7ms/step - accuracy: 0.8762 - loss: 0.5893 - val_accuracy: 0.8744 - val_loss: 0.5774\n",
            "Epoch 39/100\n",
            "\u001b[1m41/41\u001b[0m \u001b[32m━━━━━━━━━━━━━━━━━━━━\u001b[0m\u001b[37m\u001b[0m \u001b[1m0s\u001b[0m 7ms/step - accuracy: 0.8736 - loss: 0.6365 - val_accuracy: 0.8737 - val_loss: 0.5600\n",
            "Epoch 40/100\n",
            "\u001b[1m41/41\u001b[0m \u001b[32m━━━━━━━━━━━━━━━━━━━━\u001b[0m\u001b[37m\u001b[0m \u001b[1m1s\u001b[0m 6ms/step - accuracy: 0.8813 - loss: 0.5882 - val_accuracy: 0.8764 - val_loss: 0.5693\n",
            "Epoch 41/100\n",
            "\u001b[1m41/41\u001b[0m \u001b[32m━━━━━━━━━━━━━━━━━━━━\u001b[0m\u001b[37m\u001b[0m \u001b[1m0s\u001b[0m 7ms/step - accuracy: 0.8775 - loss: 0.6053 - val_accuracy: 0.8758 - val_loss: 0.5592\n",
            "Epoch 42/100\n",
            "\u001b[1m41/41\u001b[0m \u001b[32m━━━━━━━━━━━━━━━━━━━━\u001b[0m\u001b[37m\u001b[0m \u001b[1m1s\u001b[0m 7ms/step - accuracy: 0.6637 - loss: nan - val_accuracy: 0.3360 - val_loss: nan\n",
            "Epoch 43/100\n",
            "\u001b[1m41/41\u001b[0m \u001b[32m━━━━━━━━━━━━━━━━━━━━\u001b[0m\u001b[37m\u001b[0m \u001b[1m0s\u001b[0m 7ms/step - accuracy: 0.3354 - loss: nan - val_accuracy: 0.3360 - val_loss: nan\n",
            "Epoch 44/100\n",
            "\u001b[1m41/41\u001b[0m \u001b[32m━━━━━━━━━━━━━━━━━━━━\u001b[0m\u001b[37m\u001b[0m \u001b[1m0s\u001b[0m 8ms/step - accuracy: 0.3324 - loss: nan - val_accuracy: 0.3360 - val_loss: nan\n",
            "Epoch 45/100\n",
            "\u001b[1m41/41\u001b[0m \u001b[32m━━━━━━━━━━━━━━━━━━━━\u001b[0m\u001b[37m\u001b[0m \u001b[1m0s\u001b[0m 7ms/step - accuracy: 0.3371 - loss: nan - val_accuracy: 0.3360 - val_loss: nan\n",
            "Epoch 46/100\n",
            "\u001b[1m41/41\u001b[0m \u001b[32m━━━━━━━━━━━━━━━━━━━━\u001b[0m\u001b[37m\u001b[0m \u001b[1m0s\u001b[0m 7ms/step - accuracy: 0.3358 - loss: nan - val_accuracy: 0.3360 - val_loss: nan\n",
            "Epoch 47/100\n",
            "\u001b[1m41/41\u001b[0m \u001b[32m━━━━━━━━━━━━━━━━━━━━\u001b[0m\u001b[37m\u001b[0m \u001b[1m0s\u001b[0m 8ms/step - accuracy: 0.3305 - loss: nan - val_accuracy: 0.3360 - val_loss: nan\n",
            "Epoch 48/100\n",
            "\u001b[1m41/41\u001b[0m \u001b[32m━━━━━━━━━━━━━━━━━━━━\u001b[0m\u001b[37m\u001b[0m \u001b[1m0s\u001b[0m 7ms/step - accuracy: 0.3349 - loss: nan - val_accuracy: 0.3360 - val_loss: nan\n",
            "Epoch 49/100\n",
            "\u001b[1m41/41\u001b[0m \u001b[32m━━━━━━━━━━━━━━━━━━━━\u001b[0m\u001b[37m\u001b[0m \u001b[1m1s\u001b[0m 8ms/step - accuracy: 0.3343 - loss: nan - val_accuracy: 0.3360 - val_loss: nan\n",
            "Epoch 50/100\n",
            "\u001b[1m41/41\u001b[0m \u001b[32m━━━━━━━━━━━━━━━━━━━━\u001b[0m\u001b[37m\u001b[0m \u001b[1m0s\u001b[0m 7ms/step - accuracy: 0.3373 - loss: nan - val_accuracy: 0.3360 - val_loss: nan\n",
            "Epoch 51/100\n",
            "\u001b[1m41/41\u001b[0m \u001b[32m━━━━━━━━━━━━━━━━━━━━\u001b[0m\u001b[37m\u001b[0m \u001b[1m0s\u001b[0m 7ms/step - accuracy: 0.3418 - loss: nan - val_accuracy: 0.3360 - val_loss: nan\n",
            "Epoch 52/100\n",
            "\u001b[1m41/41\u001b[0m \u001b[32m━━━━━━━━━━━━━━━━━━━━\u001b[0m\u001b[37m\u001b[0m \u001b[1m0s\u001b[0m 8ms/step - accuracy: 0.3370 - loss: nan - val_accuracy: 0.3360 - val_loss: nan\n",
            "Epoch 53/100\n",
            "\u001b[1m41/41\u001b[0m \u001b[32m━━━━━━━━━━━━━━━━━━━━\u001b[0m\u001b[37m\u001b[0m \u001b[1m0s\u001b[0m 7ms/step - accuracy: 0.3450 - loss: nan - val_accuracy: 0.3360 - val_loss: nan\n",
            "Epoch 54/100\n",
            "\u001b[1m41/41\u001b[0m \u001b[32m━━━━━━━━━━━━━━━━━━━━\u001b[0m\u001b[37m\u001b[0m \u001b[1m0s\u001b[0m 6ms/step - accuracy: 0.3410 - loss: nan - val_accuracy: 0.3360 - val_loss: nan\n",
            "Epoch 55/100\n",
            "\u001b[1m41/41\u001b[0m \u001b[32m━━━━━━━━━━━━━━━━━━━━\u001b[0m\u001b[37m\u001b[0m \u001b[1m0s\u001b[0m 7ms/step - accuracy: 0.3357 - loss: nan - val_accuracy: 0.3360 - val_loss: nan\n",
            "Epoch 56/100\n",
            "\u001b[1m41/41\u001b[0m \u001b[32m━━━━━━━━━━━━━━━━━━━━\u001b[0m\u001b[37m\u001b[0m \u001b[1m0s\u001b[0m 7ms/step - accuracy: 0.3356 - loss: nan - val_accuracy: 0.3360 - val_loss: nan\n",
            "Epoch 57/100\n",
            "\u001b[1m41/41\u001b[0m \u001b[32m━━━━━━━━━━━━━━━━━━━━\u001b[0m\u001b[37m\u001b[0m \u001b[1m1s\u001b[0m 7ms/step - accuracy: 0.3399 - loss: nan - val_accuracy: 0.3360 - val_loss: nan\n",
            "Epoch 58/100\n",
            "\u001b[1m41/41\u001b[0m \u001b[32m━━━━━━━━━━━━━━━━━━━━\u001b[0m\u001b[37m\u001b[0m \u001b[1m0s\u001b[0m 7ms/step - accuracy: 0.3416 - loss: nan - val_accuracy: 0.3360 - val_loss: nan\n",
            "Epoch 59/100\n",
            "\u001b[1m41/41\u001b[0m \u001b[32m━━━━━━━━━━━━━━━━━━━━\u001b[0m\u001b[37m\u001b[0m \u001b[1m0s\u001b[0m 7ms/step - accuracy: 0.3386 - loss: nan - val_accuracy: 0.3360 - val_loss: nan\n",
            "Epoch 60/100\n",
            "\u001b[1m41/41\u001b[0m \u001b[32m━━━━━━━━━━━━━━━━━━━━\u001b[0m\u001b[37m\u001b[0m \u001b[1m1s\u001b[0m 8ms/step - accuracy: 0.3368 - loss: nan - val_accuracy: 0.3360 - val_loss: nan\n",
            "Epoch 61/100\n",
            "\u001b[1m41/41\u001b[0m \u001b[32m━━━━━━━━━━━━━━━━━━━━\u001b[0m\u001b[37m\u001b[0m \u001b[1m1s\u001b[0m 8ms/step - accuracy: 0.3405 - loss: nan - val_accuracy: 0.3360 - val_loss: nan\n",
            "Epoch 62/100\n",
            "\u001b[1m41/41\u001b[0m \u001b[32m━━━━━━━━━━━━━━━━━━━━\u001b[0m\u001b[37m\u001b[0m \u001b[1m1s\u001b[0m 10ms/step - accuracy: 0.3322 - loss: nan - val_accuracy: 0.3360 - val_loss: nan\n",
            "Epoch 63/100\n",
            "\u001b[1m41/41\u001b[0m \u001b[32m━━━━━━━━━━━━━━━━━━━━\u001b[0m\u001b[37m\u001b[0m \u001b[1m1s\u001b[0m 15ms/step - accuracy: 0.3351 - loss: nan - val_accuracy: 0.3360 - val_loss: nan\n",
            "Epoch 64/100\n",
            "\u001b[1m41/41\u001b[0m \u001b[32m━━━━━━━━━━━━━━━━━━━━\u001b[0m\u001b[37m\u001b[0m \u001b[1m1s\u001b[0m 11ms/step - accuracy: 0.3324 - loss: nan - val_accuracy: 0.3360 - val_loss: nan\n",
            "Epoch 65/100\n",
            "\u001b[1m41/41\u001b[0m \u001b[32m━━━━━━━━━━━━━━━━━━━━\u001b[0m\u001b[37m\u001b[0m \u001b[1m1s\u001b[0m 13ms/step - accuracy: 0.3413 - loss: nan - val_accuracy: 0.3360 - val_loss: nan\n",
            "Epoch 66/100\n",
            "\u001b[1m41/41\u001b[0m \u001b[32m━━━━━━━━━━━━━━━━━━━━\u001b[0m\u001b[37m\u001b[0m \u001b[1m0s\u001b[0m 10ms/step - accuracy: 0.3415 - loss: nan - val_accuracy: 0.3360 - val_loss: nan\n",
            "Epoch 67/100\n",
            "\u001b[1m41/41\u001b[0m \u001b[32m━━━━━━━━━━━━━━━━━━━━\u001b[0m\u001b[37m\u001b[0m \u001b[1m0s\u001b[0m 7ms/step - accuracy: 0.3310 - loss: nan - val_accuracy: 0.3360 - val_loss: nan\n",
            "Epoch 68/100\n",
            "\u001b[1m41/41\u001b[0m \u001b[32m━━━━━━━━━━━━━━━━━━━━\u001b[0m\u001b[37m\u001b[0m \u001b[1m0s\u001b[0m 7ms/step - accuracy: 0.3378 - loss: nan - val_accuracy: 0.3360 - val_loss: nan\n",
            "Epoch 69/100\n",
            "\u001b[1m41/41\u001b[0m \u001b[32m━━━━━━━━━━━━━━━━━━━━\u001b[0m\u001b[37m\u001b[0m \u001b[1m0s\u001b[0m 8ms/step - accuracy: 0.3343 - loss: nan - val_accuracy: 0.3360 - val_loss: nan\n",
            "Epoch 70/100\n",
            "\u001b[1m41/41\u001b[0m \u001b[32m━━━━━━━━━━━━━━━━━━━━\u001b[0m\u001b[37m\u001b[0m \u001b[1m0s\u001b[0m 7ms/step - accuracy: 0.3331 - loss: nan - val_accuracy: 0.3360 - val_loss: nan\n",
            "Epoch 71/100\n",
            "\u001b[1m41/41\u001b[0m \u001b[32m━━━━━━━━━━━━━━━━━━━━\u001b[0m\u001b[37m\u001b[0m \u001b[1m0s\u001b[0m 7ms/step - accuracy: 0.3284 - loss: nan - val_accuracy: 0.3360 - val_loss: nan\n"
          ]
        }
      ]
    },
    {
      "cell_type": "code",
      "source": [
        "# --Confusion matrix ----------------------------------------------------------\n",
        "print('TEST DATA-Confusion matrix:')\n",
        "pred = model.predict(test_data)\n",
        "pred_y = pred.argmax(axis=-1)\n",
        "\n",
        "cm = confusion_matrix(test_labelp.astype('int32'), pred_y)\n",
        "print(cm)\n",
        "\n",
        "print('Accuracy ratios for each class')\n",
        "print('WebDDoS      =', cm[0, 0]/np.sum(cm[0, :]))\n",
        "print('BENIGN       =', cm[1, 1]/np.sum(cm[1, :]))\n",
        "print('UDP-lag      =', cm[2, 2]/np.sum(cm[2, :]))\n",
        "#print('DrDoS_NTP    =', cm[3, 3]/np.sum(cm[3, :]))\n",
        "#print('Syn          =', cm[4, 4]/np.sum(cm[4, :]))\n",
        "#print('DrDoS_SSDP   =', cm[5, 5]/np.sum(cm[5, :]))\n",
        "#print('DrDoS_UDP    =', cm[6, 6]/np.sum(cm[6, :]))\n",
        "#print('DrDoS_NetBIOS=', cm[7, 7]/np.sum(cm[7, :]))\n",
        "#print('DrDoS_MSSQL  =', cm[8, 8]/np.sum(cm[8, :]))\n",
        "#print('DrDoS_SNMP   =', cm[9, 9]/np.sum(cm[9, :]))\n",
        "#print('TFTP         =', cm[10,10]/np.sum(cm[10, :]))\n",
        "#print('DrDoS_DNS    =', cm[11,11]/np.sum(cm[11, :]))\n"
      ],
      "metadata": {
        "colab": {
          "base_uri": "https://localhost:8080/"
        },
        "id": "yhW1kXmUkiuR",
        "outputId": "d4f425f7-07d8-48d5-8dba-ca474e1b81b9"
      },
      "execution_count": 201,
      "outputs": [
        {
          "output_type": "stream",
          "name": "stdout",
          "text": [
            "TEST DATA-Confusion matrix:\n",
            "\u001b[1m94/94\u001b[0m \u001b[32m━━━━━━━━━━━━━━━━━━━━\u001b[0m\u001b[37m\u001b[0m \u001b[1m0s\u001b[0m 2ms/step\n",
            "[[ 978    0    0]\n",
            " [1015    0    0]\n",
            " [1001    0    0]]\n",
            "Accuracy ratios for each class\n",
            "WebDDoS      = 1.0\n",
            "BENIGN       = 0.0\n",
            "UDP-lag      = 0.0\n"
          ]
        }
      ]
    },
    {
      "cell_type": "code",
      "source": [
        "# -- Confusion matrix plot\n",
        "from sklearn.metrics import confusion_matrix, ConfusionMatrixDisplay\n",
        "label=np.array([\"WebDDoS\",\"BENIGN\",\"UDP-lag\"])\n",
        "\n",
        "cmo = ConfusionMatrixDisplay(cm,display_labels=label)\n",
        "fig, ax = plt.subplots(figsize=(3,3))\n",
        "cmo.plot(ax=ax, xticks_rotation=3)\n"
      ],
      "metadata": {
        "colab": {
          "base_uri": "https://localhost:8080/",
          "height": 331
        },
        "id": "4eiBAZq7klxM",
        "outputId": "5a4aff8c-6252-4504-dd8b-e3dc2d45e7ab"
      },
      "execution_count": 202,
      "outputs": [
        {
          "output_type": "execute_result",
          "data": {
            "text/plain": [
              "<sklearn.metrics._plot.confusion_matrix.ConfusionMatrixDisplay at 0x7f7ef132e710>"
            ]
          },
          "metadata": {},
          "execution_count": 202
        },
        {
          "output_type": "display_data",
          "data": {
            "text/plain": [
              "<Figure size 300x300 with 2 Axes>"
            ],
            "image/png": "[encoded data removed]"
          },
          "metadata": {}
        }
      ]
    },
    {
      "cell_type": "code",
      "source": [
        "history.history"
      ],
      "metadata": {
        "id": "jbopqju0VNw3",
        "outputId": "7ab0a143-eddb-4577-9a92-d767e1364ac8",
        "colab": {
          "base_uri": "https://localhost:8080/"
        }
      },
      "execution_count": 203,
      "outputs": [
        {
          "output_type": "execute_result",
          "data": {
            "text/plain": [
              "{'accuracy': [0.48806795477867126,\n",
              "  0.7048491835594177,\n",
              "  0.7649866342544556,\n",
              "  0.8050782680511475,\n",
              "  0.8180603384971619,\n",
              "  0.8229286074638367,\n",
              "  0.8313287496566772,\n",
              "  0.8130965828895569,\n",
              "  0.8382970690727234,\n",
              "  0.8386788964271545,\n",
              "  0.8439289927482605,\n",
              "  0.8486063480377197,\n",
              "  0.8484154343605042,\n",
              "  0.8505154848098755,\n",
              "  0.8491790890693665,\n",
              "  0.8470790386199951,\n",
              "  0.8522336483001709,\n",
              "  0.8581519722938538,\n",
              "  0.8583428859710693,\n",
              "  0.8591065406799316,\n",
              "  0.8602520227432251,\n",
              "  0.8595837950706482,\n",
              "  0.8658839464187622,\n",
              "  0.8693203330039978,\n",
              "  0.8716112971305847,\n",
              "  0.8671248555183411,\n",
              "  0.8687475919723511,\n",
              "  0.872374951839447,\n",
              "  0.845074474811554,\n",
              "  0.854620099067688,\n",
              "  0.8665521144866943,\n",
              "  0.8702749013900757,\n",
              "  0.871038556098938,\n",
              "  0.8706567287445068,\n",
              "  0.8740931749343872,\n",
              "  0.8715158700942993,\n",
              "  0.8692249059677124,\n",
              "  0.8736158609390259,\n",
              "  0.8729476928710938,\n",
              "  0.8791523575782776,\n",
              "  0.8764795660972595,\n",
              "  0.48243603110313416,\n",
              "  0.33610156178474426,\n",
              "  0.33610156178474426,\n",
              "  0.33610156178474426,\n",
              "  0.33610156178474426,\n",
              "  0.33610156178474426,\n",
              "  0.33610156178474426,\n",
              "  0.33610156178474426,\n",
              "  0.33610156178474426,\n",
              "  0.33610156178474426,\n",
              "  0.33610156178474426,\n",
              "  0.33610156178474426,\n",
              "  0.33610156178474426,\n",
              "  0.33610156178474426,\n",
              "  0.33610156178474426,\n",
              "  0.33610156178474426,\n",
              "  0.33610156178474426,\n",
              "  0.33610156178474426,\n",
              "  0.33610156178474426,\n",
              "  0.33610156178474426,\n",
              "  0.33610156178474426,\n",
              "  0.33610156178474426,\n",
              "  0.33610156178474426,\n",
              "  0.33610156178474426,\n",
              "  0.33610156178474426,\n",
              "  0.33610156178474426,\n",
              "  0.33610156178474426,\n",
              "  0.33610156178474426,\n",
              "  0.33610156178474426,\n",
              "  0.33610156178474426],\n",
              " 'loss': [2.089184045791626,\n",
              "  0.8662928938865662,\n",
              "  0.8856359124183655,\n",
              "  0.8530205488204956,\n",
              "  0.8874484896659851,\n",
              "  0.9059495329856873,\n",
              "  0.8643572926521301,\n",
              "  0.8070221543312073,\n",
              "  0.8218486309051514,\n",
              "  0.8033033609390259,\n",
              "  0.7790600657463074,\n",
              "  0.7980824708938599,\n",
              "  0.8330378532409668,\n",
              "  0.7780957221984863,\n",
              "  0.7579550743103027,\n",
              "  0.7581266760826111,\n",
              "  0.7786296010017395,\n",
              "  0.7303750514984131,\n",
              "  0.7168728113174438,\n",
              "  0.7067596912384033,\n",
              "  0.7668673992156982,\n",
              "  0.6936264038085938,\n",
              "  0.7139455676078796,\n",
              "  0.6787895560264587,\n",
              "  0.7115160822868347,\n",
              "  0.7006832957267761,\n",
              "  0.6880645155906677,\n",
              "  0.7041550278663635,\n",
              "  0.7002300024032593,\n",
              "  0.7143234014511108,\n",
              "  0.7300075888633728,\n",
              "  0.6823621988296509,\n",
              "  0.6992650032043457,\n",
              "  0.6829924583435059,\n",
              "  0.618211567401886,\n",
              "  0.6290614604949951,\n",
              "  0.6103298664093018,\n",
              "  0.6094281673431396,\n",
              "  0.6227856278419495,\n",
              "  0.5983861088752747,\n",
              "  0.6199433207511902,\n",
              "  nan,\n",
              "  nan,\n",
              "  nan,\n",
              "  nan,\n",
              "  nan,\n",
              "  nan,\n",
              "  nan,\n",
              "  nan,\n",
              "  nan,\n",
              "  nan,\n",
              "  nan,\n",
              "  nan,\n",
              "  nan,\n",
              "  nan,\n",
              "  nan,\n",
              "  nan,\n",
              "  nan,\n",
              "  nan,\n",
              "  nan,\n",
              "  nan,\n",
              "  nan,\n",
              "  nan,\n",
              "  nan,\n",
              "  nan,\n",
              "  nan,\n",
              "  nan,\n",
              "  nan,\n",
              "  nan,\n",
              "  nan,\n",
              "  nan],\n",
              " 'val_accuracy': [0.7909151911735535,\n",
              "  0.8102872371673584,\n",
              "  0.8323312997817993,\n",
              "  0.8410153388977051,\n",
              "  0.8410153388977051,\n",
              "  0.857047438621521,\n",
              "  0.8436873555183411,\n",
              "  0.859719455242157,\n",
              "  0.8590514659881592,\n",
              "  0.8583834171295166,\n",
              "  0.8583834171295166,\n",
              "  0.8617234230041504,\n",
              "  0.857047438621521,\n",
              "  0.859719455242157,\n",
              "  0.8643954396247864,\n",
              "  0.8643954396247864,\n",
              "  0.8663994669914246,\n",
              "  0.8677354454994202,\n",
              "  0.8643954396247864,\n",
              "  0.8657314777374268,\n",
              "  0.8684034943580627,\n",
              "  0.8684034943580627,\n",
              "  0.8677354454994202,\n",
              "  0.8690714836120605,\n",
              "  0.8684034943580627,\n",
              "  0.8670674562454224,\n",
              "  0.8690714836120605,\n",
              "  0.8663994669914246,\n",
              "  0.859719455242157,\n",
              "  0.8690714836120605,\n",
              "  0.8730794787406921,\n",
              "  0.8737474679946899,\n",
              "  0.8730794787406921,\n",
              "  0.8710755109786987,\n",
              "  0.8737474679946899,\n",
              "  0.8704074621200562,\n",
              "  0.8764194846153259,\n",
              "  0.8744155168533325,\n",
              "  0.8737474679946899,\n",
              "  0.8764194846153259,\n",
              "  0.8757514953613281,\n",
              "  0.3360053300857544,\n",
              "  0.3360053300857544,\n",
              "  0.3360053300857544,\n",
              "  0.3360053300857544,\n",
              "  0.3360053300857544,\n",
              "  0.3360053300857544,\n",
              "  0.3360053300857544,\n",
              "  0.3360053300857544,\n",
              "  0.3360053300857544,\n",
              "  0.3360053300857544,\n",
              "  0.3360053300857544,\n",
              "  0.3360053300857544,\n",
              "  0.3360053300857544,\n",
              "  0.3360053300857544,\n",
              "  0.3360053300857544,\n",
              "  0.3360053300857544,\n",
              "  0.3360053300857544,\n",
              "  0.3360053300857544,\n",
              "  0.3360053300857544,\n",
              "  0.3360053300857544,\n",
              "  0.3360053300857544,\n",
              "  0.3360053300857544,\n",
              "  0.3360053300857544,\n",
              "  0.3360053300857544,\n",
              "  0.3360053300857544,\n",
              "  0.3360053300857544,\n",
              "  0.3360053300857544,\n",
              "  0.3360053300857544,\n",
              "  0.3360053300857544,\n",
              "  0.3360053300857544],\n",
              " 'val_loss': [0.8473996520042419,\n",
              "  0.7256106734275818,\n",
              "  0.7270358800888062,\n",
              "  0.8026835918426514,\n",
              "  0.9226980805397034,\n",
              "  0.8615362048149109,\n",
              "  0.7865116596221924,\n",
              "  0.7244747281074524,\n",
              "  0.8344064950942993,\n",
              "  0.8043339848518372,\n",
              "  0.8456005454063416,\n",
              "  0.8575955033302307,\n",
              "  0.8075359463691711,\n",
              "  0.7338969707489014,\n",
              "  0.7506090998649597,\n",
              "  0.7532112002372742,\n",
              "  0.7429112792015076,\n",
              "  0.720325767993927,\n",
              "  0.7124353051185608,\n",
              "  0.7396167516708374,\n",
              "  0.7280530333518982,\n",
              "  0.7472254633903503,\n",
              "  0.7467297911643982,\n",
              "  0.7427791953086853,\n",
              "  0.7441413402557373,\n",
              "  0.7922326326370239,\n",
              "  0.8177697062492371,\n",
              "  0.7146322131156921,\n",
              "  0.6786584854125977,\n",
              "  0.7109951376914978,\n",
              "  0.712496280670166,\n",
              "  0.7120712995529175,\n",
              "  0.6440333127975464,\n",
              "  0.6617448925971985,\n",
              "  0.6133357882499695,\n",
              "  0.5799723267555237,\n",
              "  0.5691012144088745,\n",
              "  0.5773544311523438,\n",
              "  0.5599782466888428,\n",
              "  0.5693456530570984,\n",
              "  0.5592038035392761,\n",
              "  nan,\n",
              "  nan,\n",
              "  nan,\n",
              "  nan,\n",
              "  nan,\n",
              "  nan,\n",
              "  nan,\n",
              "  nan,\n",
              "  nan,\n",
              "  nan,\n",
              "  nan,\n",
              "  nan,\n",
              "  nan,\n",
              "  nan,\n",
              "  nan,\n",
              "  nan,\n",
              "  nan,\n",
              "  nan,\n",
              "  nan,\n",
              "  nan,\n",
              "  nan,\n",
              "  nan,\n",
              "  nan,\n",
              "  nan,\n",
              "  nan,\n",
              "  nan,\n",
              "  nan,\n",
              "  nan,\n",
              "  nan,\n",
              "  nan]}"
            ]
          },
          "metadata": {},
          "execution_count": 203
        }
      ]
    },
    {
      "cell_type": "code",
      "source": [
        "# Plot training and validation accurry and loss graphs\n",
        "acc = history.history['accuracy']\n",
        "val_acc = history.history['val_accuracy']\n",
        "loss = history.history['loss']\n",
        "val_loss = history.history['val_loss']\n",
        "\n",
        "np.save('historydata.npy',[acc,val_acc,loss,val_loss])\n",
        "[acc, val_acc, loss, val_loss] = np.load('historydata.npy')\n",
        "\n",
        "plt.figure()\n",
        "epochs = range(len(acc))\n",
        "plt.plot(epochs, acc, 'b', label='Training acc')\n",
        "plt.plot(epochs, val_acc, 'r.', label='Validation acc')\n",
        "plt.title('Training and validation accuracy')\n",
        "plt.xlabel('Epochs')\n",
        "plt.ylabel('Accuracy')\n",
        "\n",
        "plt.legend()\n",
        "plt.figure()\n",
        "plt.plot(epochs, loss, 'b', label='Training loss')\n",
        "plt.plot(epochs, val_loss, 'r.', label='Validation loss')\n",
        "plt.title('Training and validation loss')\n",
        "plt.xlabel('Epochs')\n",
        "plt.ylabel('Loss')\n",
        "plt.legend()\n",
        "plt.show()\n"
      ],
      "metadata": {
        "colab": {
          "base_uri": "https://localhost:8080/",
          "height": 947
        },
        "id": "KgCgiQChk8p8",
        "outputId": "922ba9ff-eb3d-4040-e9ab-981cf2a24f73"
      },
      "execution_count": 204,
      "outputs": [
        {
          "output_type": "display_data",
          "data": {
            "text/plain": [
              "<Figure size 640x480 with 1 Axes>"
            ],
            "image/png": "[encoded data removed]"
          },
          "metadata": {}
        },
        {
          "output_type": "display_data",
          "data": {
            "text/plain": [
              "<Figure size 640x480 with 1 Axes>"
            ],
            "image/png": "[encoded data removed]"
          },
          "metadata": {}
        }
      ]
    }
  ]
}